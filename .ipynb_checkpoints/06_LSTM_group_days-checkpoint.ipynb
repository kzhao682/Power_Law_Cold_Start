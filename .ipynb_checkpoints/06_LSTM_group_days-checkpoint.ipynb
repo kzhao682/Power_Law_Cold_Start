{
 "cells": [
  {
   "cell_type": "code",
   "execution_count": 1,
   "metadata": {},
   "outputs": [],
   "source": [
    "import sys\n",
    "sys.path.append('/home/ubuntu/scripts/')"
   ]
  },
  {
   "cell_type": "code",
   "execution_count": 2,
   "metadata": {},
   "outputs": [],
   "source": [
    "from starter import *\n",
    "\n",
    "%matplotlib inline"
   ]
  },
  {
   "cell_type": "code",
   "execution_count": 3,
   "metadata": {},
   "outputs": [],
   "source": [
    "import warnings\n",
    "warnings.filterwarnings('ignore')"
   ]
  },
  {
   "cell_type": "code",
   "execution_count": 4,
   "metadata": {},
   "outputs": [],
   "source": [
    "RANDOM_SEED = 2018\n",
    "random.seed(RANDOM_SEED)"
   ]
  },
  {
   "cell_type": "markdown",
   "metadata": {},
   "source": [
    "## Load data"
   ]
  },
  {
   "cell_type": "code",
   "execution_count": 5,
   "metadata": {},
   "outputs": [],
   "source": [
    "consumption_test = pd.read_csv('cold_start_test.csv', index_col=[0], parse_dates=[2])\n",
    "consumption_train = pd.read_csv('consumption_train.csv', index_col=[0], parse_dates=[2])\n",
    "meta = pd.read_csv('new_meta.csv', index_col=[0], converters={'days_off':str})\n",
    "submission_format = pd.read_csv('new_submission_format.csv', index_col=[0], parse_dates=[2])"
   ]
  },
  {
   "cell_type": "code",
   "execution_count": 6,
   "metadata": {},
   "outputs": [],
   "source": [
    "df = consumption_train.copy()\n",
    "df['train'] = 1\n",
    "df = df.append(consumption_test)\n",
    "df['train'].fillna(0, inplace=True)"
   ]
  },
  {
   "cell_type": "code",
   "execution_count": 7,
   "metadata": {},
   "outputs": [],
   "source": [
    "consumption_columns = consumption_train.columns"
   ]
  },
  {
   "cell_type": "markdown",
   "metadata": {},
   "source": [
    "Check if consumption_test and submission_format has the same series_id"
   ]
  },
  {
   "cell_type": "code",
   "execution_count": 8,
   "metadata": {},
   "outputs": [],
   "source": [
    "consumption_test_o = pd.read_csv('cold_start_test.csv', index_col=[0], parse_dates=[2])\n",
    "submission_format_o = pd.read_csv('new_submission_format.csv', index_col=[0], parse_dates=[2])"
   ]
  },
  {
   "cell_type": "code",
   "execution_count": 9,
   "metadata": {
    "scrolled": true
   },
   "outputs": [
    {
     "data": {
      "text/plain": [
       "(625, 625)"
      ]
     },
     "execution_count": 9,
     "metadata": {},
     "output_type": "execute_result"
    }
   ],
   "source": [
    "submission_format_o.series_id.nunique(), consumption_test_o.series_id.nunique()"
   ]
  },
  {
   "cell_type": "code",
   "execution_count": 10,
   "metadata": {
    "scrolled": true
   },
   "outputs": [
    {
     "data": {
      "text/plain": [
       "set()"
      ]
     },
     "execution_count": 10,
     "metadata": {},
     "output_type": "execute_result"
    }
   ],
   "source": [
    "set(submission_format_o.series_id.unique())-set(consumption_test_o.series_id.unique())"
   ]
  },
  {
   "cell_type": "markdown",
   "metadata": {},
   "source": [
    "Append info prediction windows to test consumption"
   ]
  },
  {
   "cell_type": "code",
   "execution_count": 11,
   "metadata": {},
   "outputs": [],
   "source": [
    "# add prediction_window to the test data\n",
    "pred_windows = submission_format[['series_id', 'prediction_window']].drop_duplicates()\n",
    "consumption_test = consumption_test.merge(pred_windows, on='series_id')\n",
    "\n",
    "num_cold_start_days_provided = (consumption_test.groupby('series_id')\n",
    "                                               .prediction_window\n",
    "                                               .value_counts()\n",
    "                                               .divide(24))"
   ]
  },
  {
   "cell_type": "code",
   "execution_count": null,
   "metadata": {},
   "outputs": [],
   "source": []
  },
  {
   "cell_type": "markdown",
   "metadata": {},
   "source": [
    "## Split into groups based on metadata"
   ]
  },
  {
   "cell_type": "code",
   "execution_count": 12,
   "metadata": {},
   "outputs": [],
   "source": [
    "df_groups = pd.read_csv('new_meta.csv', index_col=0, converters={'days_off':str})"
   ]
  },
  {
   "cell_type": "code",
   "execution_count": 13,
   "metadata": {},
   "outputs": [
    {
     "data": {
      "text/plain": [
       "0000011    1236\n",
       "0000000     104\n",
       "0000001      21\n",
       "0000111      10\n",
       "0000010       5\n",
       "1111111       4\n",
       "0011111       3\n",
       "Name: days_off, dtype: int64"
      ]
     },
     "execution_count": 13,
     "metadata": {},
     "output_type": "execute_result"
    }
   ],
   "source": [
    "df_groups.days_off.value_counts()"
   ]
  },
  {
   "cell_type": "code",
   "execution_count": 14,
   "metadata": {},
   "outputs": [
    {
     "data": {
      "image/png": "[encoded data removed]",
      "text/plain": [
       "<Figure size 432x288 with 1 Axes>"
      ]
     },
     "metadata": {},
     "output_type": "display_data"
    }
   ],
   "source": [
    "plt.subplots(1, 1, figsize=(6,4))\n",
    "plt.bar(df_groups.days_off.value_counts().keys(), df_groups.days_off.value_counts().values)\n",
    "plt.xlabel('Days Off', fontsize=16)\n",
    "plt.ylabel('Number of Series', fontsize=16);"
   ]
  },
  {
   "cell_type": "markdown",
   "metadata": {},
   "source": [
    "Group by surface"
   ]
  },
  {
   "cell_type": "code",
   "execution_count": 15,
   "metadata": {},
   "outputs": [
    {
     "data": {
      "text/plain": [
       "x-large     382\n",
       "x-small     314\n",
       "medium      172\n",
       "xx-small    149\n",
       "small       146\n",
       "large       112\n",
       "xx-large    108\n",
       "Name: surface, dtype: int64"
      ]
     },
     "execution_count": 15,
     "metadata": {},
     "output_type": "execute_result"
    }
   ],
   "source": [
    "df_groups.surface.value_counts()"
   ]
  },
  {
   "cell_type": "code",
   "execution_count": 16,
   "metadata": {},
   "outputs": [
    {
     "data": {
      "image/png": "[encoded data removed]",
      "text/plain": [
       "<Figure size 432x288 with 1 Axes>"
      ]
     },
     "metadata": {},
     "output_type": "display_data"
    }
   ],
   "source": [
    "plt.subplots(1, 1, figsize=(6,4))\n",
    "plt.bar(df_groups.surface.value_counts().keys(), df_groups.surface.value_counts().values)\n",
    "plt.xlabel('Surface Size', fontsize=16)\n",
    "plt.ylabel('Number of Series', fontsize=16);"
   ]
  },
  {
   "cell_type": "code",
   "execution_count": 18,
   "metadata": {},
   "outputs": [
    {
     "data": {
      "text/plain": [
       "days_off  surface \n",
       "0000000   large         4\n",
       "          medium       18\n",
       "          small        34\n",
       "          x-large       8\n",
       "          x-small      29\n",
       "          xx-small     11\n",
       "0000001   large         2\n",
       "          medium        1\n",
       "          x-large      13\n",
       "          xx-large      5\n",
       "0000010   x-small       5\n",
       "0000011   large       103\n",
       "          medium      153\n",
       "          small       112\n",
       "          x-large     361\n",
       "          x-small     280\n",
       "          xx-large     89\n",
       "          xx-small    138\n",
       "0000111   xx-large     10\n",
       "0011111   large         3\n",
       "1111111   xx-large      4\n",
       "Name: series_id, dtype: int64"
      ]
     },
     "execution_count": 18,
     "metadata": {},
     "output_type": "execute_result"
    }
   ],
   "source": [
    "df_groups.groupby(['days_off','surface']).aggregate('count')['series_id']"
   ]
  },
  {
   "cell_type": "markdown",
   "metadata": {},
   "source": [
    "## Feature Engineering"
   ]
  },
  {
   "cell_type": "markdown",
   "metadata": {},
   "source": [
    "### Add datetime features"
   ]
  },
  {
   "cell_type": "code",
   "execution_count": 19,
   "metadata": {},
   "outputs": [],
   "source": [
    "df['day_of_week'] = df['timestamp'].dt.weekday\n",
    "df['hour'] = df['timestamp'].dt.hour"
   ]
  },
  {
   "cell_type": "code",
   "execution_count": 20,
   "metadata": {},
   "outputs": [
    {
     "data": {
      "text/html": [
       "<div>\n",
       "<style scoped>\n",
       "    .dataframe tbody tr th:only-of-type {\n",
       "        vertical-align: middle;\n",
       "    }\n",
       "\n",
       "    .dataframe tbody tr th {\n",
       "        vertical-align: top;\n",
       "    }\n",
       "\n",
       "    .dataframe thead th {\n",
       "        text-align: right;\n",
       "    }\n",
       "</style>\n",
       "<table border=\"1\" class=\"dataframe\">\n",
       "  <thead>\n",
       "    <tr style=\"text-align: right;\">\n",
       "      <th></th>\n",
       "      <th>consumption</th>\n",
       "      <th>series_id</th>\n",
       "      <th>temperature</th>\n",
       "      <th>timestamp</th>\n",
       "      <th>train</th>\n",
       "      <th>day_of_week</th>\n",
       "      <th>hour</th>\n",
       "    </tr>\n",
       "  </thead>\n",
       "  <tbody>\n",
       "    <tr>\n",
       "      <th>0</th>\n",
       "      <td>101842.233424</td>\n",
       "      <td>103088</td>\n",
       "      <td>NaN</td>\n",
       "      <td>2014-12-24 00:00:00</td>\n",
       "      <td>1.0</td>\n",
       "      <td>2</td>\n",
       "      <td>0</td>\n",
       "    </tr>\n",
       "    <tr>\n",
       "      <th>1</th>\n",
       "      <td>105878.048906</td>\n",
       "      <td>103088</td>\n",
       "      <td>NaN</td>\n",
       "      <td>2014-12-24 01:00:00</td>\n",
       "      <td>1.0</td>\n",
       "      <td>2</td>\n",
       "      <td>1</td>\n",
       "    </tr>\n",
       "    <tr>\n",
       "      <th>2</th>\n",
       "      <td>91619.105008</td>\n",
       "      <td>103088</td>\n",
       "      <td>NaN</td>\n",
       "      <td>2014-12-24 02:00:00</td>\n",
       "      <td>1.0</td>\n",
       "      <td>2</td>\n",
       "      <td>2</td>\n",
       "    </tr>\n",
       "    <tr>\n",
       "      <th>3</th>\n",
       "      <td>94473.706203</td>\n",
       "      <td>103088</td>\n",
       "      <td>NaN</td>\n",
       "      <td>2014-12-24 03:00:00</td>\n",
       "      <td>1.0</td>\n",
       "      <td>2</td>\n",
       "      <td>3</td>\n",
       "    </tr>\n",
       "    <tr>\n",
       "      <th>4</th>\n",
       "      <td>96976.755526</td>\n",
       "      <td>103088</td>\n",
       "      <td>NaN</td>\n",
       "      <td>2014-12-24 04:00:00</td>\n",
       "      <td>1.0</td>\n",
       "      <td>2</td>\n",
       "      <td>4</td>\n",
       "    </tr>\n",
       "  </tbody>\n",
       "</table>\n",
       "</div>"
      ],
      "text/plain": [
       "     consumption  series_id  temperature           timestamp  train  \\\n",
       "0  101842.233424     103088          NaN 2014-12-24 00:00:00    1.0   \n",
       "1  105878.048906     103088          NaN 2014-12-24 01:00:00    1.0   \n",
       "2   91619.105008     103088          NaN 2014-12-24 02:00:00    1.0   \n",
       "3   94473.706203     103088          NaN 2014-12-24 03:00:00    1.0   \n",
       "4   96976.755526     103088          NaN 2014-12-24 04:00:00    1.0   \n",
       "\n",
       "   day_of_week  hour  \n",
       "0            2     0  \n",
       "1            2     1  \n",
       "2            2     2  \n",
       "3            2     3  \n",
       "4            2     4  "
      ]
     },
     "execution_count": 20,
     "metadata": {},
     "output_type": "execute_result"
    }
   ],
   "source": [
    "df.head()"
   ]
  },
  {
   "cell_type": "markdown",
   "metadata": {},
   "source": [
    "### Imputing Temperatures"
   ]
  },
  {
   "cell_type": "markdown",
   "metadata": {},
   "source": [
    "Find the median temperature for similar surface size groups at every hour."
   ]
  },
  {
   "cell_type": "code",
   "execution_count": 21,
   "metadata": {},
   "outputs": [],
   "source": [
    "avg_temperatures = dict()"
   ]
  },
  {
   "cell_type": "code",
   "execution_count": 22,
   "metadata": {},
   "outputs": [],
   "source": [
    "for group in df_groups.surface.unique():\n",
    "    group_series = df_groups[df_groups.surface==group].series_id.tolist()\n",
    "    series_avg_temp = df[df.series_id.isin(group_series)].groupby(['day_of_week','hour'])['temperature'].mean()\n",
    "    avg_temperatures[group] = np.array(series_avg_temp).reshape(7,24)"
   ]
  },
  {
   "cell_type": "markdown",
   "metadata": {},
   "source": [
    "Impute missing temperatures"
   ]
  },
  {
   "cell_type": "code",
   "execution_count": 23,
   "metadata": {},
   "outputs": [],
   "source": [
    "for group in df_groups.surface.unique():\n",
    "    group_series = df_groups[df_groups.surface==group].series_id.tolist()\n",
    "#     impute_temp = pd.DataFrame(data={'day_of_week':np.arange(0,7,1), 'impute_temperature':avg_temperatures[group]})\n",
    "    impute_temp = avg_temperatures[group]\n",
    "    for d in range(7):\n",
    "        for h in range(24):\n",
    "            df.loc[(df.temperature.isnull())&(df.series_id.isin(group_series))&\n",
    "                   (df.day_of_week==d)&(df.hour==h),'temperature'] = impute_temp[d][h]"
   ]
  },
  {
   "cell_type": "code",
   "execution_count": 24,
   "metadata": {
    "scrolled": true
   },
   "outputs": [],
   "source": [
    "temp_train_mask = df[df.series_id.isin(consumption_train.series_id.unique())].temperature != consumption_train.temperature\n",
    "temp_test_mask = df[df.series_id.isin(consumption_test.series_id.unique())].temperature != consumption_test.temperature"
   ]
  },
  {
   "cell_type": "code",
   "execution_count": 25,
   "metadata": {},
   "outputs": [],
   "source": [
    "consumption_train.loc[temp_train_mask, 'temperature'] = df[df.series_id.isin(consumption_train.series_id.unique())].temperature\n",
    "consumption_test.loc[temp_test_mask, 'temperature'] = df[df.series_id.isin(consumption_test.series_id.unique())].temperature"
   ]
  },
  {
   "cell_type": "code",
   "execution_count": 26,
   "metadata": {},
   "outputs": [
    {
     "name": "stdout",
     "output_type": "stream",
     "text": [
      "set()\n",
      "625 625\n"
     ]
    }
   ],
   "source": [
    "print(set(consumption_test.series_id.unique()) - set(submission_format.series_id.unique()))\n",
    "print(consumption_test.series_id.nunique(), submission_format.series_id.nunique())"
   ]
  },
  {
   "cell_type": "raw",
   "metadata": {},
   "source": [
    "consumption_train = df[df.series_id.isin(consumption_train.series_id.unique())][consumption_columns]\n",
    "consumption_test = df[df.series_id.isin(consumption_test.series_id.unique())][consumption_columns]"
   ]
  },
  {
   "cell_type": "markdown",
   "metadata": {},
   "source": [
    "### Weekends and days of week"
   ]
  },
  {
   "cell_type": "markdown",
   "metadata": {},
   "source": [
    "Save holiday for another time..."
   ]
  },
  {
   "cell_type": "code",
   "execution_count": 27,
   "metadata": {
    "scrolled": true
   },
   "outputs": [],
   "source": [
    "consumption_train['day_of_week'] = consumption_train['timestamp'].dt.weekday\n",
    "consumption_train['hour'] = consumption_train['timestamp'].dt.hour\n",
    "consumption_train.loc[consumption_train.day_of_week>5,'weekend'] = 1\n",
    "consumption_train['weekend'].fillna(0, inplace=True)\n",
    "\n",
    "consumption_test['day_of_week'] = consumption_test['timestamp'].dt.weekday\n",
    "consumption_test['hour'] = consumption_test['timestamp'].dt.hour\n",
    "consumption_test.loc[consumption_test.day_of_week>5,'weekend'] = 1\n",
    "consumption_test['weekend'].fillna(0, inplace=True)"
   ]
  },
  {
   "cell_type": "markdown",
   "metadata": {},
   "source": [
    "--------"
   ]
  },
  {
   "cell_type": "markdown",
   "metadata": {},
   "source": [
    "Add days off"
   ]
  },
  {
   "cell_type": "code",
   "execution_count": 28,
   "metadata": {},
   "outputs": [],
   "source": [
    "weekday_dict = {0:'monday_is_day_off', 1:'tuesday_is_day_off', 2:'wednesday_is_day_off', 3:'thursday_is_day_off', \n",
    "                4:'friday_is_day_off', 5:'saturday_is_day_off', 6:'sunday_is_day_off'}"
   ]
  },
  {
   "cell_type": "code",
   "execution_count": 20,
   "metadata": {},
   "outputs": [
    {
     "data": {
      "text/plain": [
       "[1157    0\n",
       " Name: wednesday_is_day_off, dtype: int64, 1157    0\n",
       " Name: wednesday_is_day_off, dtype: int64, 1157    0\n",
       " Name: wednesday_is_day_off, dtype: int64, 1157    0\n",
       " Name: wednesday_is_day_off, dtype: int64, 1157    0\n",
       " Name: wednesday_is_day_off, dtype: int64, 1157    0\n",
       " Name: wednesday_is_day_off, dtype: int64, 1157    0\n",
       " Name: wednesday_is_day_off, dtype: int64, 1157    0\n",
       " Name: wednesday_is_day_off, dtype: int64, 1157    0\n",
       " Name: wednesday_is_day_off, dtype: int64, 1157    0\n",
       " Name: wednesday_is_day_off, dtype: int64, 1157    0\n",
       " Name: wednesday_is_day_off, dtype: int64, 1157    0\n",
       " Name: wednesday_is_day_off, dtype: int64, 1157    0\n",
       " Name: wednesday_is_day_off, dtype: int64, 1157    0\n",
       " Name: wednesday_is_day_off, dtype: int64, 1157    0\n",
       " Name: wednesday_is_day_off, dtype: int64, 1157    0\n",
       " Name: wednesday_is_day_off, dtype: int64, 1157    0\n",
       " Name: wednesday_is_day_off, dtype: int64, 1157    0\n",
       " Name: wednesday_is_day_off, dtype: int64, 1157    0\n",
       " Name: wednesday_is_day_off, dtype: int64, 1157    0\n",
       " Name: wednesday_is_day_off, dtype: int64, 1157    0\n",
       " Name: wednesday_is_day_off, dtype: int64, 1157    0\n",
       " Name: wednesday_is_day_off, dtype: int64, 1157    0\n",
       " Name: wednesday_is_day_off, dtype: int64, 1157    0\n",
       " Name: wednesday_is_day_off, dtype: int64, 1157    0\n",
       " Name: thursday_is_day_off, dtype: int64, 1157    0\n",
       " Name: thursday_is_day_off, dtype: int64, 1157    0\n",
       " Name: thursday_is_day_off, dtype: int64, 1157    0\n",
       " Name: thursday_is_day_off, dtype: int64, 1157    0\n",
       " Name: thursday_is_day_off, dtype: int64, 1157    0\n",
       " Name: thursday_is_day_off, dtype: int64, 1157    0\n",
       " Name: thursday_is_day_off, dtype: int64, 1157    0\n",
       " Name: thursday_is_day_off, dtype: int64, 1157    0\n",
       " Name: thursday_is_day_off, dtype: int64, 1157    0\n",
       " Name: thursday_is_day_off, dtype: int64, 1157    0\n",
       " Name: thursday_is_day_off, dtype: int64, 1157    0\n",
       " Name: thursday_is_day_off, dtype: int64, 1157    0\n",
       " Name: thursday_is_day_off, dtype: int64, 1157    0\n",
       " Name: thursday_is_day_off, dtype: int64, 1157    0\n",
       " Name: thursday_is_day_off, dtype: int64, 1157    0\n",
       " Name: thursday_is_day_off, dtype: int64, 1157    0\n",
       " Name: thursday_is_day_off, dtype: int64, 1157    0\n",
       " Name: thursday_is_day_off, dtype: int64, 1157    0\n",
       " Name: thursday_is_day_off, dtype: int64, 1157    0\n",
       " Name: thursday_is_day_off, dtype: int64, 1157    0\n",
       " Name: thursday_is_day_off, dtype: int64, 1157    0\n",
       " Name: thursday_is_day_off, dtype: int64, 1157    0\n",
       " Name: thursday_is_day_off, dtype: int64, 1157    0\n",
       " Name: thursday_is_day_off, dtype: int64, 1157    0\n",
       " Name: friday_is_day_off, dtype: int64, 1157    0\n",
       " Name: friday_is_day_off, dtype: int64, 1157    0\n",
       " Name: friday_is_day_off, dtype: int64, 1157    0\n",
       " Name: friday_is_day_off, dtype: int64, 1157    0\n",
       " Name: friday_is_day_off, dtype: int64, 1157    0\n",
       " Name: friday_is_day_off, dtype: int64, 1157    0\n",
       " Name: friday_is_day_off, dtype: int64, 1157    0\n",
       " Name: friday_is_day_off, dtype: int64, 1157    0\n",
       " Name: friday_is_day_off, dtype: int64, 1157    0\n",
       " Name: friday_is_day_off, dtype: int64, 1157    0\n",
       " Name: friday_is_day_off, dtype: int64, 1157    0\n",
       " Name: friday_is_day_off, dtype: int64, 1157    0\n",
       " Name: friday_is_day_off, dtype: int64, 1157    0\n",
       " Name: friday_is_day_off, dtype: int64, 1157    0\n",
       " Name: friday_is_day_off, dtype: int64, 1157    0\n",
       " Name: friday_is_day_off, dtype: int64, 1157    0\n",
       " Name: friday_is_day_off, dtype: int64, 1157    0\n",
       " Name: friday_is_day_off, dtype: int64, 1157    0\n",
       " Name: friday_is_day_off, dtype: int64, 1157    0\n",
       " Name: friday_is_day_off, dtype: int64, 1157    0\n",
       " Name: friday_is_day_off, dtype: int64, 1157    0\n",
       " Name: friday_is_day_off, dtype: int64, 1157    0\n",
       " Name: friday_is_day_off, dtype: int64, 1157    0\n",
       " Name: friday_is_day_off, dtype: int64, 1157    1\n",
       " Name: saturday_is_day_off, dtype: int64, 1157    1\n",
       " Name: saturday_is_day_off, dtype: int64, 1157    1\n",
       " Name: saturday_is_day_off, dtype: int64, 1157    1\n",
       " Name: saturday_is_day_off, dtype: int64, 1157    1\n",
       " Name: saturday_is_day_off, dtype: int64, 1157    1\n",
       " Name: saturday_is_day_off, dtype: int64, 1157    1\n",
       " Name: saturday_is_day_off, dtype: int64, 1157    1\n",
       " Name: saturday_is_day_off, dtype: int64, 1157    1\n",
       " Name: saturday_is_day_off, dtype: int64, 1157    1\n",
       " Name: saturday_is_day_off, dtype: int64, 1157    1\n",
       " Name: saturday_is_day_off, dtype: int64, 1157    1\n",
       " Name: saturday_is_day_off, dtype: int64, 1157    1\n",
       " Name: saturday_is_day_off, dtype: int64, 1157    1\n",
       " Name: saturday_is_day_off, dtype: int64, 1157    1\n",
       " Name: saturday_is_day_off, dtype: int64, 1157    1\n",
       " Name: saturday_is_day_off, dtype: int64, 1157    1\n",
       " Name: saturday_is_day_off, dtype: int64, 1157    1\n",
       " Name: saturday_is_day_off, dtype: int64, 1157    1\n",
       " Name: saturday_is_day_off, dtype: int64, 1157    1\n",
       " Name: saturday_is_day_off, dtype: int64, 1157    1\n",
       " Name: saturday_is_day_off, dtype: int64, 1157    1\n",
       " Name: saturday_is_day_off, dtype: int64, 1157    1\n",
       " Name: saturday_is_day_off, dtype: int64, 1157    1\n",
       " Name: saturday_is_day_off, dtype: int64, 1157    1\n",
       " Name: sunday_is_day_off, dtype: int64, 1157    1\n",
       " Name: sunday_is_day_off, dtype: int64, 1157    1\n",
       " Name: sunday_is_day_off, dtype: int64, 1157    1\n",
       " Name: sunday_is_day_off, dtype: int64, 1157    1\n",
       " Name: sunday_is_day_off, dtype: int64, 1157    1\n",
       " Name: sunday_is_day_off, dtype: int64, 1157    1\n",
       " Name: sunday_is_day_off, dtype: int64, 1157    1\n",
       " Name: sunday_is_day_off, dtype: int64, 1157    1\n",
       " Name: sunday_is_day_off, dtype: int64, 1157    1\n",
       " Name: sunday_is_day_off, dtype: int64, 1157    1\n",
       " Name: sunday_is_day_off, dtype: int64, 1157    1\n",
       " Name: sunday_is_day_off, dtype: int64, 1157    1\n",
       " Name: sunday_is_day_off, dtype: int64, 1157    1\n",
       " Name: sunday_is_day_off, dtype: int64, 1157    1\n",
       " Name: sunday_is_day_off, dtype: int64, 1157    1\n",
       " Name: sunday_is_day_off, dtype: int64, 1157    1\n",
       " Name: sunday_is_day_off, dtype: int64, 1157    1\n",
       " Name: sunday_is_day_off, dtype: int64, 1157    1\n",
       " Name: sunday_is_day_off, dtype: int64, 1157    1\n",
       " Name: sunday_is_day_off, dtype: int64, 1157    1\n",
       " Name: sunday_is_day_off, dtype: int64, 1157    1\n",
       " Name: sunday_is_day_off, dtype: int64, 1157    1\n",
       " Name: sunday_is_day_off, dtype: int64, 1157    1\n",
       " Name: sunday_is_day_off, dtype: int64, 1157    0\n",
       " Name: monday_is_day_off, dtype: int64, 1157    0\n",
       " Name: monday_is_day_off, dtype: int64, 1157    0\n",
       " Name: monday_is_day_off, dtype: int64, 1157    0\n",
       " Name: monday_is_day_off, dtype: int64, 1157    0\n",
       " Name: monday_is_day_off, dtype: int64, 1157    0\n",
       " Name: monday_is_day_off, dtype: int64, 1157    0\n",
       " Name: monday_is_day_off, dtype: int64, 1157    0\n",
       " Name: monday_is_day_off, dtype: int64, 1157    0\n",
       " Name: monday_is_day_off, dtype: int64, 1157    0\n",
       " Name: monday_is_day_off, dtype: int64, 1157    0\n",
       " Name: monday_is_day_off, dtype: int64, 1157    0\n",
       " Name: monday_is_day_off, dtype: int64, 1157    0\n",
       " Name: monday_is_day_off, dtype: int64, 1157    0\n",
       " Name: monday_is_day_off, dtype: int64, 1157    0\n",
       " Name: monday_is_day_off, dtype: int64, 1157    0\n",
       " Name: monday_is_day_off, dtype: int64, 1157    0\n",
       " Name: monday_is_day_off, dtype: int64, 1157    0\n",
       " Name: monday_is_day_off, dtype: int64, 1157    0\n",
       " Name: monday_is_day_off, dtype: int64, 1157    0\n",
       " Name: monday_is_day_off, dtype: int64, 1157    0\n",
       " Name: monday_is_day_off, dtype: int64, 1157    0\n",
       " Name: monday_is_day_off, dtype: int64, 1157    0\n",
       " Name: monday_is_day_off, dtype: int64, 1157    0\n",
       " Name: monday_is_day_off, dtype: int64, 1157    0\n",
       " Name: tuesday_is_day_off, dtype: int64, 1157    0\n",
       " Name: tuesday_is_day_off, dtype: int64, 1157    0\n",
       " Name: tuesday_is_day_off, dtype: int64, 1157    0\n",
       " Name: tuesday_is_day_off, dtype: int64, 1157    0\n",
       " Name: tuesday_is_day_off, dtype: int64, 1157    0\n",
       " Name: tuesday_is_day_off, dtype: int64, 1157    0\n",
       " Name: tuesday_is_day_off, dtype: int64, 1157    0\n",
       " Name: tuesday_is_day_off, dtype: int64, 1157    0\n",
       " Name: tuesday_is_day_off, dtype: int64, 1157    0\n",
       " Name: tuesday_is_day_off, dtype: int64, 1157    0\n",
       " Name: tuesday_is_day_off, dtype: int64, 1157    0\n",
       " Name: tuesday_is_day_off, dtype: int64, 1157    0\n",
       " Name: tuesday_is_day_off, dtype: int64, 1157    0\n",
       " Name: tuesday_is_day_off, dtype: int64, 1157    0\n",
       " Name: tuesday_is_day_off, dtype: int64, 1157    0\n",
       " Name: tuesday_is_day_off, dtype: int64, 1157    0\n",
       " Name: tuesday_is_day_off, dtype: int64, 1157    0\n",
       " Name: tuesday_is_day_off, dtype: int64, 1157    0\n",
       " Name: tuesday_is_day_off, dtype: int64, 1157    0\n",
       " Name: tuesday_is_day_off, dtype: int64, 1157    0\n",
       " Name: tuesday_is_day_off, dtype: int64, 1157    0\n",
       " Name: tuesday_is_day_off, dtype: int64, 1157    0\n",
       " Name: tuesday_is_day_off, dtype: int64, 1157    0\n",
       " Name: tuesday_is_day_off, dtype: int64, 1157    0\n",
       " Name: wednesday_is_day_off, dtype: int64, 1157    0\n",
       " Name: wednesday_is_day_off, dtype: int64, 1157    0\n",
       " Name: wednesday_is_day_off, dtype: int64, 1157    0\n",
       " Name: wednesday_is_day_off, dtype: int64, 1157    0\n",
       " Name: wednesday_is_day_off, dtype: int64, 1157    0\n",
       " Name: wednesday_is_day_off, dtype: int64, 1157    0\n",
       " Name: wednesday_is_day_off, dtype: int64, 1157    0\n",
       " Name: wednesday_is_day_off, dtype: int64, 1157    0\n",
       " Name: wednesday_is_day_off, dtype: int64, 1157    0\n",
       " Name: wednesday_is_day_off, dtype: int64, 1157    0\n",
       " Name: wednesday_is_day_off, dtype: int64, 1157    0\n",
       " Name: wednesday_is_day_off, dtype: int64, 1157    0\n",
       " Name: wednesday_is_day_off, dtype: int64, 1157    0\n",
       " Name: wednesday_is_day_off, dtype: int64, 1157    0\n",
       " Name: wednesday_is_day_off, dtype: int64, 1157    0\n",
       " Name: wednesday_is_day_off, dtype: int64, 1157    0\n",
       " Name: wednesday_is_day_off, dtype: int64, 1157    0\n",
       " Name: wednesday_is_day_off, dtype: int64, 1157    0\n",
       " Name: wednesday_is_day_off, dtype: int64, 1157    0\n",
       " Name: wednesday_is_day_off, dtype: int64, 1157    0\n",
       " Name: wednesday_is_day_off, dtype: int64, 1157    0\n",
       " Name: wednesday_is_day_off, dtype: int64, 1157    0\n",
       " Name: wednesday_is_day_off, dtype: int64, 1157    0\n",
       " Name: wednesday_is_day_off, dtype: int64, 1157    0\n",
       " Name: thursday_is_day_off, dtype: int64, 1157    0\n",
       " Name: thursday_is_day_off, dtype: int64, 1157    0\n",
       " Name: thursday_is_day_off, dtype: int64, 1157    0\n",
       " Name: thursday_is_day_off, dtype: int64, 1157    0\n",
       " Name: thursday_is_day_off, dtype: int64, 1157    0\n",
       " Name: thursday_is_day_off, dtype: int64, 1157    0\n",
       " Name: thursday_is_day_off, dtype: int64, 1157    0\n",
       " Name: thursday_is_day_off, dtype: int64, 1157    0\n",
       " Name: thursday_is_day_off, dtype: int64, 1157    0\n",
       " Name: thursday_is_day_off, dtype: int64, 1157    0\n",
       " Name: thursday_is_day_off, dtype: int64, 1157    0\n",
       " Name: thursday_is_day_off, dtype: int64, 1157    0\n",
       " Name: thursday_is_day_off, dtype: int64, 1157    0\n",
       " Name: thursday_is_day_off, dtype: int64, 1157    0\n",
       " Name: thursday_is_day_off, dtype: int64, 1157    0\n",
       " Name: thursday_is_day_off, dtype: int64, 1157    0\n",
       " Name: thursday_is_day_off, dtype: int64, 1157    0\n",
       " Name: thursday_is_day_off, dtype: int64, 1157    0\n",
       " Name: thursday_is_day_off, dtype: int64, 1157    0\n",
       " Name: thursday_is_day_off, dtype: int64, 1157    0\n",
       " Name: thursday_is_day_off, dtype: int64, 1157    0\n",
       " Name: thursday_is_day_off, dtype: int64, 1157    0\n",
       " Name: thursday_is_day_off, dtype: int64, 1157    0\n",
       " Name: thursday_is_day_off, dtype: int64, 1157    0\n",
       " Name: friday_is_day_off, dtype: int64, 1157    0\n",
       " Name: friday_is_day_off, dtype: int64, 1157    0\n",
       " Name: friday_is_day_off, dtype: int64, 1157    0\n",
       " Name: friday_is_day_off, dtype: int64, 1157    0\n",
       " Name: friday_is_day_off, dtype: int64, 1157    0\n",
       " Name: friday_is_day_off, dtype: int64, 1157    0\n",
       " Name: friday_is_day_off, dtype: int64, 1157    0\n",
       " Name: friday_is_day_off, dtype: int64, 1157    0\n",
       " Name: friday_is_day_off, dtype: int64, 1157    0\n",
       " Name: friday_is_day_off, dtype: int64, 1157    0\n",
       " Name: friday_is_day_off, dtype: int64, 1157    0\n",
       " Name: friday_is_day_off, dtype: int64, 1157    0\n",
       " Name: friday_is_day_off, dtype: int64, 1157    0\n",
       " Name: friday_is_day_off, dtype: int64, 1157    0\n",
       " Name: friday_is_day_off, dtype: int64, 1157    0\n",
       " Name: friday_is_day_off, dtype: int64, 1157    0\n",
       " Name: friday_is_day_off, dtype: int64, 1157    0\n",
       " Name: friday_is_day_off, dtype: int64, 1157    0\n",
       " Name: friday_is_day_off, dtype: int64, 1157    0\n",
       " Name: friday_is_day_off, dtype: int64, 1157    0\n",
       " Name: friday_is_day_off, dtype: int64, 1157    0\n",
       " Name: friday_is_day_off, dtype: int64, 1157    0\n",
       " Name: friday_is_day_off, dtype: int64, 1157    0\n",
       " Name: friday_is_day_off, dtype: int64, 1157    1\n",
       " Name: saturday_is_day_off, dtype: int64, 1157    1\n",
       " Name: saturday_is_day_off, dtype: int64, 1157    1\n",
       " Name: saturday_is_day_off, dtype: int64, 1157    1\n",
       " Name: saturday_is_day_off, dtype: int64, 1157    1\n",
       " Name: saturday_is_day_off, dtype: int64, 1157    1\n",
       " Name: saturday_is_day_off, dtype: int64, 1157    1\n",
       " Name: saturday_is_day_off, dtype: int64, 1157    1\n",
       " Name: saturday_is_day_off, dtype: int64, 1157    1\n",
       " Name: saturday_is_day_off, dtype: int64, 1157    1\n",
       " Name: saturday_is_day_off, dtype: int64, 1157    1\n",
       " Name: saturday_is_day_off, dtype: int64, 1157    1\n",
       " Name: saturday_is_day_off, dtype: int64, 1157    1\n",
       " Name: saturday_is_day_off, dtype: int64, 1157    1\n",
       " Name: saturday_is_day_off, dtype: int64, 1157    1\n",
       " Name: saturday_is_day_off, dtype: int64, 1157    1\n",
       " Name: saturday_is_day_off, dtype: int64, 1157    1\n",
       " Name: saturday_is_day_off, dtype: int64, 1157    1\n",
       " Name: saturday_is_day_off, dtype: int64, 1157    1\n",
       " Name: saturday_is_day_off, dtype: int64, 1157    1\n",
       " Name: saturday_is_day_off, dtype: int64, 1157    1\n",
       " Name: saturday_is_day_off, dtype: int64, 1157    1\n",
       " Name: saturday_is_day_off, dtype: int64, 1157    1\n",
       " Name: saturday_is_day_off, dtype: int64, 1157    1\n",
       " Name: saturday_is_day_off, dtype: int64, 1157    1\n",
       " Name: sunday_is_day_off, dtype: int64, 1157    1\n",
       " Name: sunday_is_day_off, dtype: int64, 1157    1\n",
       " Name: sunday_is_day_off, dtype: int64, 1157    1\n",
       " Name: sunday_is_day_off, dtype: int64, 1157    1\n",
       " Name: sunday_is_day_off, dtype: int64, 1157    1\n",
       " Name: sunday_is_day_off, dtype: int64, 1157    1\n",
       " Name: sunday_is_day_off, dtype: int64, 1157    1\n",
       " Name: sunday_is_day_off, dtype: int64, 1157    1\n",
       " Name: sunday_is_day_off, dtype: int64, 1157    1\n",
       " Name: sunday_is_day_off, dtype: int64, 1157    1\n",
       " Name: sunday_is_day_off, dtype: int64, 1157    1\n",
       " Name: sunday_is_day_off, dtype: int64, 1157    1\n",
       " Name: sunday_is_day_off, dtype: int64, 1157    1\n",
       " Name: sunday_is_day_off, dtype: int64, 1157    1\n",
       " Name: sunday_is_day_off, dtype: int64, 1157    1\n",
       " Name: sunday_is_day_off, dtype: int64, 1157    1\n",
       " Name: sunday_is_day_off, dtype: int64, 1157    1\n",
       " Name: sunday_is_day_off, dtype: int64, 1157    1\n",
       " Name: sunday_is_day_off, dtype: int64, 1157    1\n",
       " Name: sunday_is_day_off, dtype: int64, 1157    1\n",
       " Name: sunday_is_day_off, dtype: int64, 1157    1\n",
       " Name: sunday_is_day_off, dtype: int64, 1157    1\n",
       " Name: sunday_is_day_off, dtype: int64, 1157    1\n",
       " Name: sunday_is_day_off, dtype: int64, 1157    0\n",
       " Name: monday_is_day_off, dtype: int64, 1157    0\n",
       " Name: monday_is_day_off, dtype: int64, 1157    0\n",
       " Name: monday_is_day_off, dtype: int64, 1157    0\n",
       " Name: monday_is_day_off, dtype: int64, 1157    0\n",
       " Name: monday_is_day_off, dtype: int64, 1157    0\n",
       " Name: monday_is_day_off, dtype: int64, 1157    0\n",
       " Name: monday_is_day_off, dtype: int64, 1157    0\n",
       " Name: monday_is_day_off, dtype: int64, 1157    0\n",
       " Name: monday_is_day_off, dtype: int64, 1157    0\n",
       " Name: monday_is_day_off, dtype: int64, 1157    0\n",
       " Name: monday_is_day_off, dtype: int64, 1157    0\n",
       " Name: monday_is_day_off, dtype: int64, 1157    0\n",
       " Name: monday_is_day_off, dtype: int64, 1157    0\n",
       " Name: monday_is_day_off, dtype: int64, 1157    0\n",
       " Name: monday_is_day_off, dtype: int64, 1157    0\n",
       " Name: monday_is_day_off, dtype: int64, 1157    0\n",
       " Name: monday_is_day_off, dtype: int64, 1157    0\n",
       " Name: monday_is_day_off, dtype: int64, 1157    0\n",
       " Name: monday_is_day_off, dtype: int64, 1157    0\n",
       " Name: monday_is_day_off, dtype: int64, 1157    0\n",
       " Name: monday_is_day_off, dtype: int64, 1157    0\n",
       " Name: monday_is_day_off, dtype: int64, 1157    0\n",
       " Name: monday_is_day_off, dtype: int64, 1157    0\n",
       " Name: monday_is_day_off, dtype: int64, 1157    0\n",
       " Name: tuesday_is_day_off, dtype: int64, 1157    0\n",
       " Name: tuesday_is_day_off, dtype: int64, 1157    0\n",
       " Name: tuesday_is_day_off, dtype: int64, 1157    0\n",
       " Name: tuesday_is_day_off, dtype: int64, 1157    0\n",
       " Name: tuesday_is_day_off, dtype: int64, 1157    0\n",
       " Name: tuesday_is_day_off, dtype: int64, 1157    0\n",
       " Name: tuesday_is_day_off, dtype: int64, 1157    0\n",
       " Name: tuesday_is_day_off, dtype: int64, 1157    0\n",
       " Name: tuesday_is_day_off, dtype: int64, 1157    0\n",
       " Name: tuesday_is_day_off, dtype: int64, 1157    0\n",
       " Name: tuesday_is_day_off, dtype: int64, 1157    0\n",
       " Name: tuesday_is_day_off, dtype: int64, 1157    0\n",
       " Name: tuesday_is_day_off, dtype: int64, 1157    0\n",
       " Name: tuesday_is_day_off, dtype: int64, 1157    0\n",
       " Name: tuesday_is_day_off, dtype: int64, 1157    0\n",
       " Name: tuesday_is_day_off, dtype: int64, 1157    0\n",
       " Name: tuesday_is_day_off, dtype: int64, 1157    0\n",
       " Name: tuesday_is_day_off, dtype: int64, 1157    0\n",
       " Name: tuesday_is_day_off, dtype: int64, 1157    0\n",
       " Name: tuesday_is_day_off, dtype: int64, 1157    0\n",
       " Name: tuesday_is_day_off, dtype: int64, 1157    0\n",
       " Name: tuesday_is_day_off, dtype: int64, 1157    0\n",
       " Name: tuesday_is_day_off, dtype: int64, 1157    0\n",
       " Name: tuesday_is_day_off, dtype: int64, 1157    0\n",
       " Name: wednesday_is_day_off, dtype: int64, 1157    0\n",
       " Name: wednesday_is_day_off, dtype: int64, 1157    0\n",
       " Name: wednesday_is_day_off, dtype: int64, 1157    0\n",
       " Name: wednesday_is_day_off, dtype: int64, 1157    0\n",
       " Name: wednesday_is_day_off, dtype: int64, 1157    0\n",
       " Name: wednesday_is_day_off, dtype: int64, 1157    0\n",
       " Name: wednesday_is_day_off, dtype: int64, 1157    0\n",
       " Name: wednesday_is_day_off, dtype: int64, 1157    0\n",
       " Name: wednesday_is_day_off, dtype: int64, 1157    0\n",
       " Name: wednesday_is_day_off, dtype: int64, 1157    0\n",
       " Name: wednesday_is_day_off, dtype: int64, 1157    0\n",
       " Name: wednesday_is_day_off, dtype: int64, 1157    0\n",
       " Name: wednesday_is_day_off, dtype: int64, 1157    0\n",
       " Name: wednesday_is_day_off, dtype: int64, 1157    0\n",
       " Name: wednesday_is_day_off, dtype: int64, 1157    0\n",
       " Name: wednesday_is_day_off, dtype: int64, 1157    0\n",
       " Name: wednesday_is_day_off, dtype: int64, 1157    0\n",
       " Name: wednesday_is_day_off, dtype: int64, 1157    0\n",
       " Name: wednesday_is_day_off, dtype: int64, 1157    0\n",
       " Name: wednesday_is_day_off, dtype: int64, 1157    0\n",
       " Name: wednesday_is_day_off, dtype: int64, 1157    0\n",
       " Name: wednesday_is_day_off, dtype: int64, 1157    0\n",
       " Name: wednesday_is_day_off, dtype: int64, 1157    0\n",
       " Name: wednesday_is_day_off, dtype: int64, 1157    0\n",
       " Name: thursday_is_day_off, dtype: int64, 1157    0\n",
       " Name: thursday_is_day_off, dtype: int64, 1157    0\n",
       " Name: thursday_is_day_off, dtype: int64, 1157    0\n",
       " Name: thursday_is_day_off, dtype: int64, 1157    0\n",
       " Name: thursday_is_day_off, dtype: int64, 1157    0\n",
       " Name: thursday_is_day_off, dtype: int64, 1157    0\n",
       " Name: thursday_is_day_off, dtype: int64, 1157    0\n",
       " Name: thursday_is_day_off, dtype: int64, 1157    0\n",
       " Name: thursday_is_day_off, dtype: int64, 1157    0\n",
       " Name: thursday_is_day_off, dtype: int64, 1157    0\n",
       " Name: thursday_is_day_off, dtype: int64, 1157    0\n",
       " Name: thursday_is_day_off, dtype: int64, 1157    0\n",
       " Name: thursday_is_day_off, dtype: int64, 1157    0\n",
       " Name: thursday_is_day_off, dtype: int64, 1157    0\n",
       " Name: thursday_is_day_off, dtype: int64, 1157    0\n",
       " Name: thursday_is_day_off, dtype: int64, 1157    0\n",
       " Name: thursday_is_day_off, dtype: int64, 1157    0\n",
       " Name: thursday_is_day_off, dtype: int64, 1157    0\n",
       " Name: thursday_is_day_off, dtype: int64, 1157    0\n",
       " Name: thursday_is_day_off, dtype: int64, 1157    0\n",
       " Name: thursday_is_day_off, dtype: int64, 1157    0\n",
       " Name: thursday_is_day_off, dtype: int64, 1157    0\n",
       " Name: thursday_is_day_off, dtype: int64, 1157    0\n",
       " Name: thursday_is_day_off, dtype: int64, 1157    0\n",
       " Name: friday_is_day_off, dtype: int64, 1157    0\n",
       " Name: friday_is_day_off, dtype: int64, 1157    0\n",
       " Name: friday_is_day_off, dtype: int64, 1157    0\n",
       " Name: friday_is_day_off, dtype: int64, 1157    0\n",
       " Name: friday_is_day_off, dtype: int64, 1157    0\n",
       " Name: friday_is_day_off, dtype: int64, 1157    0\n",
       " Name: friday_is_day_off, dtype: int64, 1157    0\n",
       " Name: friday_is_day_off, dtype: int64, 1157    0\n",
       " Name: friday_is_day_off, dtype: int64, 1157    0\n",
       " Name: friday_is_day_off, dtype: int64, 1157    0\n",
       " Name: friday_is_day_off, dtype: int64, 1157    0\n",
       " Name: friday_is_day_off, dtype: int64, 1157    0\n",
       " Name: friday_is_day_off, dtype: int64, 1157    0\n",
       " Name: friday_is_day_off, dtype: int64, 1157    0\n",
       " Name: friday_is_day_off, dtype: int64, 1157    0\n",
       " Name: friday_is_day_off, dtype: int64, 1157    0\n",
       " Name: friday_is_day_off, dtype: int64, 1157    0\n",
       " Name: friday_is_day_off, dtype: int64, 1157    0\n",
       " Name: friday_is_day_off, dtype: int64, 1157    0\n",
       " Name: friday_is_day_off, dtype: int64, 1157    0\n",
       " Name: friday_is_day_off, dtype: int64, 1157    0\n",
       " Name: friday_is_day_off, dtype: int64, 1157    0\n",
       " Name: friday_is_day_off, dtype: int64, 1157    0\n",
       " Name: friday_is_day_off, dtype: int64, 1157    1\n",
       " Name: saturday_is_day_off, dtype: int64, 1157    1\n",
       " Name: saturday_is_day_off, dtype: int64, 1157    1\n",
       " Name: saturday_is_day_off, dtype: int64, 1157    1\n",
       " Name: saturday_is_day_off, dtype: int64, 1157    1\n",
       " Name: saturday_is_day_off, dtype: int64, 1157    1\n",
       " Name: saturday_is_day_off, dtype: int64, 1157    1\n",
       " Name: saturday_is_day_off, dtype: int64, 1157    1\n",
       " Name: saturday_is_day_off, dtype: int64, 1157    1\n",
       " Name: saturday_is_day_off, dtype: int64, 1157    1\n",
       " Name: saturday_is_day_off, dtype: int64, 1157    1\n",
       " Name: saturday_is_day_off, dtype: int64, 1157    1\n",
       " Name: saturday_is_day_off, dtype: int64, 1157    1\n",
       " Name: saturday_is_day_off, dtype: int64, 1157    1\n",
       " Name: saturday_is_day_off, dtype: int64, 1157    1\n",
       " Name: saturday_is_day_off, dtype: int64, 1157    1\n",
       " Name: saturday_is_day_off, dtype: int64, 1157    1\n",
       " Name: saturday_is_day_off, dtype: int64, 1157    1\n",
       " Name: saturday_is_day_off, dtype: int64, 1157    1\n",
       " Name: saturday_is_day_off, dtype: int64, 1157    1\n",
       " Name: saturday_is_day_off, dtype: int64, 1157    1\n",
       " Name: saturday_is_day_off, dtype: int64, 1157    1\n",
       " Name: saturday_is_day_off, dtype: int64, 1157    1\n",
       " Name: saturday_is_day_off, dtype: int64, 1157    1\n",
       " Name: saturday_is_day_off, dtype: int64, 1157    1\n",
       " Name: sunday_is_day_off, dtype: int64, 1157    1\n",
       " Name: sunday_is_day_off, dtype: int64, 1157    1\n",
       " Name: sunday_is_day_off, dtype: int64, 1157    1\n",
       " Name: sunday_is_day_off, dtype: int64, 1157    1\n",
       " Name: sunday_is_day_off, dtype: int64, 1157    1\n",
       " Name: sunday_is_day_off, dtype: int64, 1157    1\n",
       " Name: sunday_is_day_off, dtype: int64, 1157    1\n",
       " Name: sunday_is_day_off, dtype: int64, 1157    1\n",
       " Name: sunday_is_day_off, dtype: int64, 1157    1\n",
       " Name: sunday_is_day_off, dtype: int64, 1157    1\n",
       " Name: sunday_is_day_off, dtype: int64, 1157    1\n",
       " Name: sunday_is_day_off, dtype: int64, 1157    1\n",
       " Name: sunday_is_day_off, dtype: int64, 1157    1\n",
       " Name: sunday_is_day_off, dtype: int64, 1157    1\n",
       " Name: sunday_is_day_off, dtype: int64, 1157    1\n",
       " Name: sunday_is_day_off, dtype: int64, 1157    1\n",
       " Name: sunday_is_day_off, dtype: int64, 1157    1\n",
       " Name: sunday_is_day_off, dtype: int64, 1157    1\n",
       " Name: sunday_is_day_off, dtype: int64, 1157    1\n",
       " Name: sunday_is_day_off, dtype: int64, 1157    1\n",
       " Name: sunday_is_day_off, dtype: int64, 1157    1\n",
       " Name: sunday_is_day_off, dtype: int64, 1157    1\n",
       " Name: sunday_is_day_off, dtype: int64, 1157    1\n",
       " Name: sunday_is_day_off, dtype: int64, 1157    0\n",
       " Name: monday_is_day_off, dtype: int64, 1157    0\n",
       " Name: monday_is_day_off, dtype: int64, 1157    0\n",
       " Name: monday_is_day_off, dtype: int64, 1157    0\n",
       " Name: monday_is_day_off, dtype: int64, 1157    0\n",
       " Name: monday_is_day_off, dtype: int64, 1157    0\n",
       " Name: monday_is_day_off, dtype: int64, 1157    0\n",
       " Name: monday_is_day_off, dtype: int64, 1157    0\n",
       " Name: monday_is_day_off, dtype: int64, 1157    0\n",
       " Name: monday_is_day_off, dtype: int64, 1157    0\n",
       " Name: monday_is_day_off, dtype: int64, 1157    0\n",
       " Name: monday_is_day_off, dtype: int64, 1157    0\n",
       " Name: monday_is_day_off, dtype: int64, 1157    0\n",
       " Name: monday_is_day_off, dtype: int64, 1157    0\n",
       " Name: monday_is_day_off, dtype: int64, 1157    0\n",
       " Name: monday_is_day_off, dtype: int64, 1157    0\n",
       " Name: monday_is_day_off, dtype: int64, 1157    0\n",
       " Name: monday_is_day_off, dtype: int64, 1157    0\n",
       " Name: monday_is_day_off, dtype: int64, 1157    0\n",
       " Name: monday_is_day_off, dtype: int64, 1157    0\n",
       " Name: monday_is_day_off, dtype: int64, 1157    0\n",
       " Name: monday_is_day_off, dtype: int64, 1157    0\n",
       " Name: monday_is_day_off, dtype: int64, 1157    0\n",
       " Name: monday_is_day_off, dtype: int64, 1157    0\n",
       " Name: monday_is_day_off, dtype: int64, 1157    0\n",
       " Name: tuesday_is_day_off, dtype: int64, 1157    0\n",
       " Name: tuesday_is_day_off, dtype: int64, 1157    0\n",
       " Name: tuesday_is_day_off, dtype: int64, 1157    0\n",
       " Name: tuesday_is_day_off, dtype: int64, 1157    0\n",
       " Name: tuesday_is_day_off, dtype: int64, 1157    0\n",
       " Name: tuesday_is_day_off, dtype: int64, 1157    0\n",
       " Name: tuesday_is_day_off, dtype: int64, 1157    0\n",
       " Name: tuesday_is_day_off, dtype: int64, 1157    0\n",
       " Name: tuesday_is_day_off, dtype: int64, 1157    0\n",
       " Name: tuesday_is_day_off, dtype: int64, 1157    0\n",
       " Name: tuesday_is_day_off, dtype: int64, 1157    0\n",
       " Name: tuesday_is_day_off, dtype: int64, 1157    0\n",
       " Name: tuesday_is_day_off, dtype: int64, 1157    0\n",
       " Name: tuesday_is_day_off, dtype: int64, 1157    0\n",
       " Name: tuesday_is_day_off, dtype: int64, 1157    0\n",
       " Name: tuesday_is_day_off, dtype: int64, 1157    0\n",
       " Name: tuesday_is_day_off, dtype: int64, 1157    0\n",
       " Name: tuesday_is_day_off, dtype: int64, 1157    0\n",
       " Name: tuesday_is_day_off, dtype: int64, 1157    0\n",
       " Name: tuesday_is_day_off, dtype: int64, 1157    0\n",
       " Name: tuesday_is_day_off, dtype: int64, 1157    0\n",
       " Name: tuesday_is_day_off, dtype: int64, 1157    0\n",
       " Name: tuesday_is_day_off, dtype: int64, 1157    0\n",
       " Name: tuesday_is_day_off, dtype: int64, 1157    0\n",
       " Name: wednesday_is_day_off, dtype: int64, 1157    0\n",
       " Name: wednesday_is_day_off, dtype: int64, 1157    0\n",
       " Name: wednesday_is_day_off, dtype: int64, 1157    0\n",
       " Name: wednesday_is_day_off, dtype: int64, 1157    0\n",
       " Name: wednesday_is_day_off, dtype: int64, 1157    0\n",
       " Name: wednesday_is_day_off, dtype: int64, 1157    0\n",
       " Name: wednesday_is_day_off, dtype: int64, 1157    0\n",
       " Name: wednesday_is_day_off, dtype: int64, 1157    0\n",
       " Name: wednesday_is_day_off, dtype: int64, 1157    0\n",
       " Name: wednesday_is_day_off, dtype: int64, 1157    0\n",
       " Name: wednesday_is_day_off, dtype: int64, 1157    0\n",
       " Name: wednesday_is_day_off, dtype: int64, 1157    0\n",
       " Name: wednesday_is_day_off, dtype: int64, 1157    0\n",
       " Name: wednesday_is_day_off, dtype: int64, 1157    0\n",
       " Name: wednesday_is_day_off, dtype: int64, 1157    0\n",
       " Name: wednesday_is_day_off, dtype: int64, 1157    0\n",
       " Name: wednesday_is_day_off, dtype: int64, 1157    0\n",
       " Name: wednesday_is_day_off, dtype: int64, 1157    0\n",
       " Name: wednesday_is_day_off, dtype: int64, 1157    0\n",
       " Name: wednesday_is_day_off, dtype: int64, 1157    0\n",
       " Name: wednesday_is_day_off, dtype: int64, 1157    0\n",
       " Name: wednesday_is_day_off, dtype: int64, 1157    0\n",
       " Name: wednesday_is_day_off, dtype: int64, 1157    0\n",
       " Name: wednesday_is_day_off, dtype: int64, 1157    0\n",
       " Name: thursday_is_day_off, dtype: int64, 1157    0\n",
       " Name: thursday_is_day_off, dtype: int64, 1157    0\n",
       " Name: thursday_is_day_off, dtype: int64, 1157    0\n",
       " Name: thursday_is_day_off, dtype: int64, 1157    0\n",
       " Name: thursday_is_day_off, dtype: int64, 1157    0\n",
       " Name: thursday_is_day_off, dtype: int64, 1157    0\n",
       " Name: thursday_is_day_off, dtype: int64, 1157    0\n",
       " Name: thursday_is_day_off, dtype: int64, 1157    0\n",
       " Name: thursday_is_day_off, dtype: int64, 1157    0\n",
       " Name: thursday_is_day_off, dtype: int64, 1157    0\n",
       " Name: thursday_is_day_off, dtype: int64, 1157    0\n",
       " Name: thursday_is_day_off, dtype: int64, 1157    0\n",
       " Name: thursday_is_day_off, dtype: int64, 1157    0\n",
       " Name: thursday_is_day_off, dtype: int64, 1157    0\n",
       " Name: thursday_is_day_off, dtype: int64, 1157    0\n",
       " Name: thursday_is_day_off, dtype: int64, 1157    0\n",
       " Name: thursday_is_day_off, dtype: int64, 1157    0\n",
       " Name: thursday_is_day_off, dtype: int64, 1157    0\n",
       " Name: thursday_is_day_off, dtype: int64, 1157    0\n",
       " Name: thursday_is_day_off, dtype: int64, 1157    0\n",
       " Name: thursday_is_day_off, dtype: int64, 1157    0\n",
       " Name: thursday_is_day_off, dtype: int64, 1157    0\n",
       " Name: thursday_is_day_off, dtype: int64, 1157    0\n",
       " Name: thursday_is_day_off, dtype: int64, 1157    0\n",
       " Name: friday_is_day_off, dtype: int64, 1157    0\n",
       " Name: friday_is_day_off, dtype: int64, 1157    0\n",
       " Name: friday_is_day_off, dtype: int64, 1157    0\n",
       " Name: friday_is_day_off, dtype: int64, 1157    0\n",
       " Name: friday_is_day_off, dtype: int64, 1157    0\n",
       " Name: friday_is_day_off, dtype: int64, 1157    0\n",
       " Name: friday_is_day_off, dtype: int64, 1157    0\n",
       " Name: friday_is_day_off, dtype: int64, 1157    0\n",
       " Name: friday_is_day_off, dtype: int64, 1157    0\n",
       " Name: friday_is_day_off, dtype: int64, 1157    0\n",
       " Name: friday_is_day_off, dtype: int64, 1157    0\n",
       " Name: friday_is_day_off, dtype: int64, 1157    0\n",
       " Name: friday_is_day_off, dtype: int64, 1157    0\n",
       " Name: friday_is_day_off, dtype: int64, 1157    0\n",
       " Name: friday_is_day_off, dtype: int64, 1157    0\n",
       " Name: friday_is_day_off, dtype: int64, 1157    0\n",
       " Name: friday_is_day_off, dtype: int64, 1157    0\n",
       " Name: friday_is_day_off, dtype: int64, 1157    0\n",
       " Name: friday_is_day_off, dtype: int64, 1157    0\n",
       " Name: friday_is_day_off, dtype: int64, 1157    0\n",
       " Name: friday_is_day_off, dtype: int64, 1157    0\n",
       " Name: friday_is_day_off, dtype: int64, 1157    0\n",
       " Name: friday_is_day_off, dtype: int64, 1157    0\n",
       " Name: friday_is_day_off, dtype: int64, 1157    1\n",
       " Name: saturday_is_day_off, dtype: int64, 1157    1\n",
       " Name: saturday_is_day_off, dtype: int64, 1157    1\n",
       " Name: saturday_is_day_off, dtype: int64, 1157    1\n",
       " Name: saturday_is_day_off, dtype: int64, 1157    1\n",
       " Name: saturday_is_day_off, dtype: int64, 1157    1\n",
       " Name: saturday_is_day_off, dtype: int64, 1157    1\n",
       " Name: saturday_is_day_off, dtype: int64, 1157    1\n",
       " Name: saturday_is_day_off, dtype: int64, 1157    1\n",
       " Name: saturday_is_day_off, dtype: int64, 1157    1\n",
       " Name: saturday_is_day_off, dtype: int64, 1157    1\n",
       " Name: saturday_is_day_off, dtype: int64, 1157    1\n",
       " Name: saturday_is_day_off, dtype: int64, 1157    1\n",
       " Name: saturday_is_day_off, dtype: int64, 1157    1\n",
       " Name: saturday_is_day_off, dtype: int64, 1157    1\n",
       " Name: saturday_is_day_off, dtype: int64, 1157    1\n",
       " Name: saturday_is_day_off, dtype: int64, 1157    1\n",
       " Name: saturday_is_day_off, dtype: int64, 1157    1\n",
       " Name: saturday_is_day_off, dtype: int64, 1157    1\n",
       " Name: saturday_is_day_off, dtype: int64, 1157    1\n",
       " Name: saturday_is_day_off, dtype: int64, 1157    1\n",
       " Name: saturday_is_day_off, dtype: int64, 1157    1\n",
       " Name: saturday_is_day_off, dtype: int64, 1157    1\n",
       " Name: saturday_is_day_off, dtype: int64, 1157    1\n",
       " Name: saturday_is_day_off, dtype: int64, 1157    1\n",
       " Name: sunday_is_day_off, dtype: int64, 1157    1\n",
       " Name: sunday_is_day_off, dtype: int64, 1157    1\n",
       " Name: sunday_is_day_off, dtype: int64, 1157    1\n",
       " Name: sunday_is_day_off, dtype: int64, 1157    1\n",
       " Name: sunday_is_day_off, dtype: int64, 1157    1\n",
       " Name: sunday_is_day_off, dtype: int64, 1157    1\n",
       " Name: sunday_is_day_off, dtype: int64, 1157    1\n",
       " Name: sunday_is_day_off, dtype: int64, 1157    1\n",
       " Name: sunday_is_day_off, dtype: int64, 1157    1\n",
       " Name: sunday_is_day_off, dtype: int64, 1157    1\n",
       " Name: sunday_is_day_off, dtype: int64, 1157    1\n",
       " Name: sunday_is_day_off, dtype: int64, 1157    1\n",
       " Name: sunday_is_day_off, dtype: int64, 1157    1\n",
       " Name: sunday_is_day_off, dtype: int64, 1157    1\n",
       " Name: sunday_is_day_off, dtype: int64, 1157    1\n",
       " Name: sunday_is_day_off, dtype: int64, 1157    1\n",
       " Name: sunday_is_day_off, dtype: int64, 1157    1\n",
       " Name: sunday_is_day_off, dtype: int64, 1157    1\n",
       " Name: sunday_is_day_off, dtype: int64, 1157    1\n",
       " Name: sunday_is_day_off, dtype: int64, 1157    1\n",
       " Name: sunday_is_day_off, dtype: int64, 1157    1\n",
       " Name: sunday_is_day_off, dtype: int64, 1157    1\n",
       " Name: sunday_is_day_off, dtype: int64, 1157    1\n",
       " Name: sunday_is_day_off, dtype: int64, 1157    0\n",
       " Name: monday_is_day_off, dtype: int64, 1157    0\n",
       " Name: monday_is_day_off, dtype: int64, 1157    0\n",
       " Name: monday_is_day_off, dtype: int64, 1157    0\n",
       " Name: monday_is_day_off, dtype: int64, 1157    0\n",
       " Name: monday_is_day_off, dtype: int64, 1157    0\n",
       " Name: monday_is_day_off, dtype: int64, 1157    0\n",
       " Name: monday_is_day_off, dtype: int64, 1157    0\n",
       " Name: monday_is_day_off, dtype: int64, 1157    0\n",
       " Name: monday_is_day_off, dtype: int64, 1157    0\n",
       " Name: monday_is_day_off, dtype: int64, 1157    0\n",
       " Name: monday_is_day_off, dtype: int64, 1157    0\n",
       " Name: monday_is_day_off, dtype: int64, 1157    0\n",
       " Name: monday_is_day_off, dtype: int64, 1157    0\n",
       " Name: monday_is_day_off, dtype: int64, 1157    0\n",
       " Name: monday_is_day_off, dtype: int64, 1157    0\n",
       " Name: monday_is_day_off, dtype: int64, 1157    0\n",
       " Name: monday_is_day_off, dtype: int64, 1157    0\n",
       " Name: monday_is_day_off, dtype: int64, 1157    0\n",
       " Name: monday_is_day_off, dtype: int64, 1157    0\n",
       " Name: monday_is_day_off, dtype: int64, 1157    0\n",
       " Name: monday_is_day_off, dtype: int64, 1157    0\n",
       " Name: monday_is_day_off, dtype: int64, 1157    0\n",
       " Name: monday_is_day_off, dtype: int64, 1157    0\n",
       " Name: monday_is_day_off, dtype: int64, 1157    0\n",
       " Name: tuesday_is_day_off, dtype: int64, 1157    0\n",
       " Name: tuesday_is_day_off, dtype: int64, 1157    0\n",
       " Name: tuesday_is_day_off, dtype: int64, 1157    0\n",
       " Name: tuesday_is_day_off, dtype: int64, 1157    0\n",
       " Name: tuesday_is_day_off, dtype: int64, 1157    0\n",
       " Name: tuesday_is_day_off, dtype: int64, 1157    0\n",
       " Name: tuesday_is_day_off, dtype: int64, 1157    0\n",
       " Name: tuesday_is_day_off, dtype: int64, 1157    0\n",
       " Name: tuesday_is_day_off, dtype: int64, 1157    0\n",
       " Name: tuesday_is_day_off, dtype: int64, 1157    0\n",
       " Name: tuesday_is_day_off, dtype: int64, 1157    0\n",
       " Name: tuesday_is_day_off, dtype: int64, 1157    0\n",
       " Name: tuesday_is_day_off, dtype: int64, 1157    0\n",
       " Name: tuesday_is_day_off, dtype: int64, 1157    0\n",
       " Name: tuesday_is_day_off, dtype: int64, 1157    0\n",
       " Name: tuesday_is_day_off, dtype: int64, 1157    0\n",
       " Name: tuesday_is_day_off, dtype: int64, 1157    0\n",
       " Name: tuesday_is_day_off, dtype: int64, 1157    0\n",
       " Name: tuesday_is_day_off, dtype: int64, 1157    0\n",
       " Name: tuesday_is_day_off, dtype: int64, 1157    0\n",
       " Name: tuesday_is_day_off, dtype: int64, 1157    0\n",
       " Name: tuesday_is_day_off, dtype: int64, 1157    0\n",
       " Name: tuesday_is_day_off, dtype: int64, 1157    0\n",
       " Name: tuesday_is_day_off, dtype: int64, 502    0\n",
       " Name: wednesday_is_day_off, dtype: int64, 502    0\n",
       " Name: wednesday_is_day_off, dtype: int64, 502    0\n",
       " Name: wednesday_is_day_off, dtype: int64, 502    0\n",
       " Name: wednesday_is_day_off, dtype: int64, 502    0\n",
       " Name: wednesday_is_day_off, dtype: int64, 502    0\n",
       " Name: wednesday_is_day_off, dtype: int64, 502    0\n",
       " Name: wednesday_is_day_off, dtype: int64, 502    0\n",
       " Name: wednesday_is_day_off, dtype: int64, 502    0\n",
       " Name: wednesday_is_day_off, dtype: int64, 502    0\n",
       " Name: wednesday_is_day_off, dtype: int64, 502    0\n",
       " Name: wednesday_is_day_off, dtype: int64, 502    0\n",
       " Name: wednesday_is_day_off, dtype: int64, 502    0\n",
       " Name: wednesday_is_day_off, dtype: int64, 502    0\n",
       " Name: wednesday_is_day_off, dtype: int64, 502    0\n",
       " Name: wednesday_is_day_off, dtype: int64, 502    0\n",
       " Name: wednesday_is_day_off, dtype: int64, 502    0\n",
       " Name: wednesday_is_day_off, dtype: int64, 502    0\n",
       " Name: wednesday_is_day_off, dtype: int64, 502    0\n",
       " Name: wednesday_is_day_off, dtype: int64, 502    0\n",
       " Name: wednesday_is_day_off, dtype: int64, 502    0\n",
       " Name: wednesday_is_day_off, dtype: int64, 502    0\n",
       " Name: wednesday_is_day_off, dtype: int64, 502    0\n",
       " Name: wednesday_is_day_off, dtype: int64, 502    0\n",
       " Name: wednesday_is_day_off, dtype: int64, 502    0\n",
       " Name: thursday_is_day_off, dtype: int64, 502    0\n",
       " Name: thursday_is_day_off, dtype: int64, 502    0\n",
       " Name: thursday_is_day_off, dtype: int64, 502    0\n",
       " Name: thursday_is_day_off, dtype: int64, 502    0\n",
       " Name: thursday_is_day_off, dtype: int64, 502    0\n",
       " Name: thursday_is_day_off, dtype: int64, 502    0\n",
       " Name: thursday_is_day_off, dtype: int64, 502    0\n",
       " Name: thursday_is_day_off, dtype: int64, 502    0\n",
       " Name: thursday_is_day_off, dtype: int64, 502    0\n",
       " Name: thursday_is_day_off, dtype: int64, 502    0\n",
       " Name: thursday_is_day_off, dtype: int64, 502    0\n",
       " Name: thursday_is_day_off, dtype: int64, 502    0\n",
       " Name: thursday_is_day_off, dtype: int64, 502    0\n",
       " Name: thursday_is_day_off, dtype: int64, 502    0\n",
       " Name: thursday_is_day_off, dtype: int64, 502    0\n",
       " Name: thursday_is_day_off, dtype: int64, 502    0\n",
       " Name: thursday_is_day_off, dtype: int64, 502    0\n",
       " Name: thursday_is_day_off, dtype: int64, 502    0\n",
       " Name: thursday_is_day_off, dtype: int64, 502    0\n",
       " Name: thursday_is_day_off, dtype: int64, 502    0\n",
       " Name: thursday_is_day_off, dtype: int64, 502    0\n",
       " Name: thursday_is_day_off, dtype: int64, 502    0\n",
       " Name: thursday_is_day_off, dtype: int64, 502    0\n",
       " Name: thursday_is_day_off, dtype: int64, 502    0\n",
       " Name: friday_is_day_off, dtype: int64, 502    0\n",
       " Name: friday_is_day_off, dtype: int64, 502    0\n",
       " Name: friday_is_day_off, dtype: int64, 502    0\n",
       " Name: friday_is_day_off, dtype: int64, 502    0\n",
       " Name: friday_is_day_off, dtype: int64, 502    0\n",
       " Name: friday_is_day_off, dtype: int64, 502    0\n",
       " Name: friday_is_day_off, dtype: int64, 502    0\n",
       " Name: friday_is_day_off, dtype: int64, 502    0\n",
       " Name: friday_is_day_off, dtype: int64, 502    0\n",
       " Name: friday_is_day_off, dtype: int64, 502    0\n",
       " Name: friday_is_day_off, dtype: int64, 502    0\n",
       " Name: friday_is_day_off, dtype: int64, 502    0\n",
       " Name: friday_is_day_off, dtype: int64, 502    0\n",
       " Name: friday_is_day_off, dtype: int64, 502    0\n",
       " Name: friday_is_day_off, dtype: int64, 502    0\n",
       " Name: friday_is_day_off, dtype: int64, 502    0\n",
       " Name: friday_is_day_off, dtype: int64, 502    0\n",
       " Name: friday_is_day_off, dtype: int64, 502    0\n",
       " Name: friday_is_day_off, dtype: int64, 502    0\n",
       " Name: friday_is_day_off, dtype: int64, 502    0\n",
       " Name: friday_is_day_off, dtype: int64, 502    0\n",
       " Name: friday_is_day_off, dtype: int64, 502    0\n",
       " Name: friday_is_day_off, dtype: int64, 502    0\n",
       " Name: friday_is_day_off, dtype: int64, 502    1\n",
       " Name: saturday_is_day_off, dtype: int64, 502    1\n",
       " Name: saturday_is_day_off, dtype: int64, 502    1\n",
       " Name: saturday_is_day_off, dtype: int64, 502    1\n",
       " Name: saturday_is_day_off, dtype: int64, 502    1\n",
       " Name: saturday_is_day_off, dtype: int64, 502    1\n",
       " Name: saturday_is_day_off, dtype: int64, 502    1\n",
       " Name: saturday_is_day_off, dtype: int64, 502    1\n",
       " Name: saturday_is_day_off, dtype: int64, 502    1\n",
       " Name: saturday_is_day_off, dtype: int64, 502    1\n",
       " Name: saturday_is_day_off, dtype: int64, 502    1\n",
       " Name: saturday_is_day_off, dtype: int64, 502    1\n",
       " Name: saturday_is_day_off, dtype: int64, 502    1\n",
       " Name: saturday_is_day_off, dtype: int64, 502    1\n",
       " Name: saturday_is_day_off, dtype: int64, 502    1\n",
       " Name: saturday_is_day_off, dtype: int64, 502    1\n",
       " Name: saturday_is_day_off, dtype: int64, 502    1\n",
       " Name: saturday_is_day_off, dtype: int64, 502    1\n",
       " Name: saturday_is_day_off, dtype: int64, 502    1\n",
       " Name: saturday_is_day_off, dtype: int64, 502    1\n",
       " Name: saturday_is_day_off, dtype: int64, 502    1\n",
       " Name: saturday_is_day_off, dtype: int64, 502    1\n",
       " Name: saturday_is_day_off, dtype: int64, 502    1\n",
       " Name: saturday_is_day_off, dtype: int64, 502    1\n",
       " Name: saturday_is_day_off, dtype: int64, 502    1\n",
       " Name: sunday_is_day_off, dtype: int64, 502    1\n",
       " Name: sunday_is_day_off, dtype: int64, 502    1\n",
       " Name: sunday_is_day_off, dtype: int64, 502    1\n",
       " Name: sunday_is_day_off, dtype: int64, 502    1\n",
       " Name: sunday_is_day_off, dtype: int64, 502    1\n",
       " Name: sunday_is_day_off, dtype: int64, 502    1\n",
       " Name: sunday_is_day_off, dtype: int64, 502    1\n",
       " Name: sunday_is_day_off, dtype: int64, 502    1\n",
       " Name: sunday_is_day_off, dtype: int64, 502    1\n",
       " Name: sunday_is_day_off, dtype: int64, 502    1\n",
       " Name: sunday_is_day_off, dtype: int64, 502    1\n",
       " Name: sunday_is_day_off, dtype: int64, 502    1\n",
       " Name: sunday_is_day_off, dtype: int64, 502    1\n",
       " Name: sunday_is_day_off, dtype: int64, 502    1\n",
       " Name: sunday_is_day_off, dtype: int64, 502    1\n",
       " Name: sunday_is_day_off, dtype: int64, 502    1\n",
       " Name: sunday_is_day_off, dtype: int64, 502    1\n",
       " Name: sunday_is_day_off, dtype: int64, 502    1\n",
       " Name: sunday_is_day_off, dtype: int64, 502    1\n",
       " Name: sunday_is_day_off, dtype: int64, 502    1\n",
       " Name: sunday_is_day_off, dtype: int64, 502    1\n",
       " Name: sunday_is_day_off, dtype: int64, 502    1\n",
       " Name: sunday_is_day_off, dtype: int64, 502    1\n",
       " Name: sunday_is_day_off, dtype: int64, 502    0\n",
       " Name: monday_is_day_off, dtype: int64, 502    0\n",
       " Name: monday_is_day_off, dtype: int64, 502    0\n",
       " Name: monday_is_day_off, dtype: int64, 502    0\n",
       " Name: monday_is_day_off, dtype: int64, 502    0\n",
       " Name: monday_is_day_off, dtype: int64, 502    0\n",
       " Name: monday_is_day_off, dtype: int64, 502    0\n",
       " Name: monday_is_day_off, dtype: int64, 502    0\n",
       " Name: monday_is_day_off, dtype: int64, 502    0\n",
       " Name: monday_is_day_off, dtype: int64, 502    0\n",
       " Name: monday_is_day_off, dtype: int64, 502    0\n",
       " Name: monday_is_day_off, dtype: int64, 502    0\n",
       " Name: monday_is_day_off, dtype: int64, 502    0\n",
       " Name: monday_is_day_off, dtype: int64, 502    0\n",
       " Name: monday_is_day_off, dtype: int64, 502    0\n",
       " Name: monday_is_day_off, dtype: int64, 502    0\n",
       " Name: monday_is_day_off, dtype: int64, 502    0\n",
       " Name: monday_is_day_off, dtype: int64, 502    0\n",
       " Name: monday_is_day_off, dtype: int64, 502    0\n",
       " Name: monday_is_day_off, dtype: int64, 502    0\n",
       " Name: monday_is_day_off, dtype: int64, 502    0\n",
       " Name: monday_is_day_off, dtype: int64, 502    0\n",
       " Name: monday_is_day_off, dtype: int64, 502    0\n",
       " Name: monday_is_day_off, dtype: int64, 502    0\n",
       " Name: monday_is_day_off, dtype: int64, 502    0\n",
       " Name: tuesday_is_day_off, dtype: int64, 502    0\n",
       " Name: tuesday_is_day_off, dtype: int64, 502    0\n",
       " Name: tuesday_is_day_off, dtype: int64, 502    0\n",
       " Name: tuesday_is_day_off, dtype: int64, 502    0\n",
       " Name: tuesday_is_day_off, dtype: int64, 502    0\n",
       " Name: tuesday_is_day_off, dtype: int64, 502    0\n",
       " Name: tuesday_is_day_off, dtype: int64, 502    0\n",
       " Name: tuesday_is_day_off, dtype: int64, 502    0\n",
       " Name: tuesday_is_day_off, dtype: int64, 502    0\n",
       " Name: tuesday_is_day_off, dtype: int64, 502    0\n",
       " Name: tuesday_is_day_off, dtype: int64, 502    0\n",
       " Name: tuesday_is_day_off, dtype: int64, 502    0\n",
       " Name: tuesday_is_day_off, dtype: int64, 502    0\n",
       " Name: tuesday_is_day_off, dtype: int64, 502    0\n",
       " Name: tuesday_is_day_off, dtype: int64, 502    0\n",
       " Name: tuesday_is_day_off, dtype: int64, 502    0\n",
       " Name: tuesday_is_day_off, dtype: int64, 502    0\n",
       " Name: tuesday_is_day_off, dtype: int64, 502    0\n",
       " Name: tuesday_is_day_off, dtype: int64, 502    0\n",
       " Name: tuesday_is_day_off, dtype: int64, 502    0\n",
       " Name: tuesday_is_day_off, dtype: int64, 502    0\n",
       " Name: tuesday_is_day_off, dtype: int64, 502    0\n",
       " Name: tuesday_is_day_off, dtype: int64, 502    0\n",
       " Name: tuesday_is_day_off, dtype: int64, 502    0\n",
       " Name: wednesday_is_day_off, dtype: int64, 502    0\n",
       " Name: wednesday_is_day_off, dtype: int64, 502    0\n",
       " Name: wednesday_is_day_off, dtype: int64, 502    0\n",
       " Name: wednesday_is_day_off, dtype: int64, 502    0\n",
       " Name: wednesday_is_day_off, dtype: int64, 502    0\n",
       " Name: wednesday_is_day_off, dtype: int64, 502    0\n",
       " Name: wednesday_is_day_off, dtype: int64, 502    0\n",
       " Name: wednesday_is_day_off, dtype: int64, 502    0\n",
       " Name: wednesday_is_day_off, dtype: int64, 502    0\n",
       " Name: wednesday_is_day_off, dtype: int64, 502    0\n",
       " Name: wednesday_is_day_off, dtype: int64, 502    0\n",
       " Name: wednesday_is_day_off, dtype: int64, 502    0\n",
       " Name: wednesday_is_day_off, dtype: int64, 502    0\n",
       " Name: wednesday_is_day_off, dtype: int64, 502    0\n",
       " Name: wednesday_is_day_off, dtype: int64, 502    0\n",
       " Name: wednesday_is_day_off, dtype: int64, 502    0\n",
       " Name: wednesday_is_day_off, dtype: int64, 502    0\n",
       " Name: wednesday_is_day_off, dtype: int64, 502    0\n",
       " Name: wednesday_is_day_off, dtype: int64, 502    0\n",
       " Name: wednesday_is_day_off, dtype: int64, 502    0\n",
       " Name: wednesday_is_day_off, dtype: int64, 502    0\n",
       " Name: wednesday_is_day_off, dtype: int64, 502    0\n",
       " Name: wednesday_is_day_off, dtype: int64, 502    0\n",
       " Name: wednesday_is_day_off, dtype: int64, 502    0\n",
       " Name: thursday_is_day_off, dtype: int64, 502    0\n",
       " Name: thursday_is_day_off, dtype: int64, 502    0\n",
       " Name: thursday_is_day_off, dtype: int64, 502    0\n",
       " Name: thursday_is_day_off, dtype: int64, 502    0\n",
       " Name: thursday_is_day_off, dtype: int64, 502    0\n",
       " Name: thursday_is_day_off, dtype: int64, 502    0\n",
       " Name: thursday_is_day_off, dtype: int64, 502    0\n",
       " Name: thursday_is_day_off, dtype: int64, 502    0\n",
       " Name: thursday_is_day_off, dtype: int64, 502    0\n",
       " Name: thursday_is_day_off, dtype: int64, 502    0\n",
       " Name: thursday_is_day_off, dtype: int64, 502    0\n",
       " Name: thursday_is_day_off, dtype: int64, 502    0\n",
       " Name: thursday_is_day_off, dtype: int64, 502    0\n",
       " Name: thursday_is_day_off, dtype: int64, 502    0\n",
       " Name: thursday_is_day_off, dtype: int64, 502    0\n",
       " Name: thursday_is_day_off, dtype: int64, 502    0\n",
       " Name: thursday_is_day_off, dtype: int64, 502    0\n",
       " Name: thursday_is_day_off, dtype: int64, 502    0\n",
       " Name: thursday_is_day_off, dtype: int64, 502    0\n",
       " Name: thursday_is_day_off, dtype: int64, 502    0\n",
       " Name: thursday_is_day_off, dtype: int64, 502    0\n",
       " Name: thursday_is_day_off, dtype: int64, 502    0\n",
       " Name: thursday_is_day_off, dtype: int64, 502    0\n",
       " Name: thursday_is_day_off, dtype: int64, 502    0\n",
       " Name: friday_is_day_off, dtype: int64, 502    0\n",
       " Name: friday_is_day_off, dtype: int64, 502    0\n",
       " Name: friday_is_day_off, dtype: int64, 502    0\n",
       " Name: friday_is_day_off, dtype: int64, 502    0\n",
       " Name: friday_is_day_off, dtype: int64, 502    0\n",
       " Name: friday_is_day_off, dtype: int64, 502    0\n",
       " Name: friday_is_day_off, dtype: int64, 502    0\n",
       " Name: friday_is_day_off, dtype: int64, 502    0\n",
       " Name: friday_is_day_off, dtype: int64, 502    0\n",
       " Name: friday_is_day_off, dtype: int64, 502    0\n",
       " Name: friday_is_day_off, dtype: int64, 502    0\n",
       " Name: friday_is_day_off, dtype: int64, 502    0\n",
       " Name: friday_is_day_off, dtype: int64, 502    0\n",
       " Name: friday_is_day_off, dtype: int64, 502    0\n",
       " Name: friday_is_day_off, dtype: int64, 502    0\n",
       " Name: friday_is_day_off, dtype: int64, 502    0\n",
       " Name: friday_is_day_off, dtype: int64, 502    0\n",
       " Name: friday_is_day_off, dtype: int64, 502    0\n",
       " Name: friday_is_day_off, dtype: int64, 502    0\n",
       " Name: friday_is_day_off, dtype: int64, 502    0\n",
       " Name: friday_is_day_off, dtype: int64, 502    0\n",
       " Name: friday_is_day_off, dtype: int64, 502    0\n",
       " Name: friday_is_day_off, dtype: int64, 502    0\n",
       " Name: friday_is_day_off, dtype: int64, 502    1\n",
       " Name: saturday_is_day_off, dtype: int64, 502    1\n",
       " Name: saturday_is_day_off, dtype: int64, 502    1\n",
       " Name: saturday_is_day_off, dtype: int64, 502    1\n",
       " Name: saturday_is_day_off, dtype: int64, 502    1\n",
       " Name: saturday_is_day_off, dtype: int64, 502    1\n",
       " Name: saturday_is_day_off, dtype: int64, 502    1\n",
       " Name: saturday_is_day_off, dtype: int64, 502    1\n",
       " Name: saturday_is_day_off, dtype: int64, 502    1\n",
       " Name: saturday_is_day_off, dtype: int64, 502    1\n",
       " Name: saturday_is_day_off, dtype: int64, 502    1\n",
       " Name: saturday_is_day_off, dtype: int64, 502    1\n",
       " Name: saturday_is_day_off, dtype: int64, 502    1\n",
       " Name: saturday_is_day_off, dtype: int64, 502    1\n",
       " Name: saturday_is_day_off, dtype: int64, 502    1\n",
       " Name: saturday_is_day_off, dtype: int64, 502    1\n",
       " Name: saturday_is_day_off, dtype: int64, 502    1\n",
       " Name: saturday_is_day_off, dtype: int64, 502    1\n",
       " Name: saturday_is_day_off, dtype: int64, 502    1\n",
       " Name: saturday_is_day_off, dtype: int64, 502    1\n",
       " Name: saturday_is_day_off, dtype: int64, 502    1\n",
       " Name: saturday_is_day_off, dtype: int64, 502    1\n",
       " Name: saturday_is_day_off, dtype: int64, 502    1\n",
       " Name: saturday_is_day_off, dtype: int64, 502    1\n",
       " Name: saturday_is_day_off, dtype: int64, 502    1\n",
       " Name: sunday_is_day_off, dtype: int64, 502    1\n",
       " Name: sunday_is_day_off, dtype: int64, 502    1\n",
       " Name: sunday_is_day_off, dtype: int64, 502    1\n",
       " Name: sunday_is_day_off, dtype: int64, 502    1\n",
       " Name: sunday_is_day_off, dtype: int64, 502    1\n",
       " Name: sunday_is_day_off, dtype: int64, 502    1\n",
       " Name: sunday_is_day_off, dtype: int64, 502    1\n",
       " Name: sunday_is_day_off, dtype: int64, 502    1\n",
       " Name: sunday_is_day_off, dtype: int64, 502    1\n",
       " Name: sunday_is_day_off, dtype: int64, 502    1\n",
       " Name: sunday_is_day_off, dtype: int64, 502    1\n",
       " Name: sunday_is_day_off, dtype: int64, 502    1\n",
       " Name: sunday_is_day_off, dtype: int64, 502    1\n",
       " Name: sunday_is_day_off, dtype: int64, 502    1\n",
       " Name: sunday_is_day_off, dtype: int64, 502    1\n",
       " Name: sunday_is_day_off, dtype: int64, 502    1\n",
       " Name: sunday_is_day_off, dtype: int64, 502    1\n",
       " Name: sunday_is_day_off, dtype: int64, 502    1\n",
       " Name: sunday_is_day_off, dtype: int64, 502    1\n",
       " Name: sunday_is_day_off, dtype: int64, 502    1\n",
       " Name: sunday_is_day_off, dtype: int64, 502    1\n",
       " Name: sunday_is_day_off, dtype: int64, 502    1\n",
       " Name: sunday_is_day_off, dtype: int64, 502    1\n",
       " Name: sunday_is_day_off, dtype: int64, 502    0\n",
       " Name: monday_is_day_off, dtype: int64, 502    0\n",
       " Name: monday_is_day_off, dtype: int64, 502    0\n",
       " Name: monday_is_day_off, dtype: int64, 502    0\n",
       " Name: monday_is_day_off, dtype: int64, 502    0\n",
       " Name: monday_is_day_off, dtype: int64, 502    0\n",
       " Name: monday_is_day_off, dtype: int64, 502    0\n",
       " Name: monday_is_day_off, dtype: int64, 502    0\n",
       " Name: monday_is_day_off, dtype: int64, 502    0\n",
       " Name: monday_is_day_off, dtype: int64, 502    0\n",
       " Name: monday_is_day_off, dtype: int64, 502    0\n",
       " Name: monday_is_day_off, dtype: int64, 502    0\n",
       " Name: monday_is_day_off, dtype: int64, 502    0\n",
       " Name: monday_is_day_off, dtype: int64, 502    0\n",
       " Name: monday_is_day_off, dtype: int64, 502    0\n",
       " Name: monday_is_day_off, dtype: int64, 502    0\n",
       " Name: monday_is_day_off, dtype: int64, 502    0\n",
       " Name: monday_is_day_off, dtype: int64, 502    0\n",
       " Name: monday_is_day_off, dtype: int64, 502    0\n",
       " Name: monday_is_day_off, dtype: int64, 502    0\n",
       " Name: monday_is_day_off, dtype: int64, 502    0\n",
       " Name: monday_is_day_off, dtype: int64, 502    0\n",
       " Name: monday_is_day_off, dtype: int64, 502    0\n",
       " Name: monday_is_day_off, dtype: int64, 502    0\n",
       " Name: monday_is_day_off, dtype: int64, 502    0\n",
       " Name: tuesday_is_day_off, dtype: int64, 502    0\n",
       " Name: tuesday_is_day_off, dtype: int64, 502    0\n",
       " Name: tuesday_is_day_off, dtype: int64, 502    0\n",
       " Name: tuesday_is_day_off, dtype: int64, 502    0\n",
       " Name: tuesday_is_day_off, dtype: int64, 502    0\n",
       " Name: tuesday_is_day_off, dtype: int64, 502    0\n",
       " Name: tuesday_is_day_off, dtype: int64, 502    0\n",
       " Name: tuesday_is_day_off, dtype: int64, 502    0\n",
       " Name: tuesday_is_day_off, dtype: int64, 502    0\n",
       " Name: tuesday_is_day_off, dtype: int64, 502    0\n",
       " Name: tuesday_is_day_off, dtype: int64, 502    0\n",
       " Name: tuesday_is_day_off, dtype: int64, 502    0\n",
       " Name: tuesday_is_day_off, dtype: int64, 502    0\n",
       " Name: tuesday_is_day_off, dtype: int64, 502    0\n",
       " Name: tuesday_is_day_off, dtype: int64, 502    0\n",
       " Name: tuesday_is_day_off, dtype: int64, ...]"
      ]
     },
     "execution_count": 20,
     "metadata": {},
     "output_type": "execute_result"
    }
   ],
   "source": [
    "list(map(lambda x: meta.loc[meta.series_id==consumption_train.loc[x,'series_id'], \n",
    "                            weekday_dict[consumption_train.loc[x,'day_of_week']]], consumption_train.index))"
   ]
  },
  {
   "cell_type": "code",
   "execution_count": 30,
   "metadata": {},
   "outputs": [
    {
     "data": {
      "text/html": [
       "<div>\n",
       "<style scoped>\n",
       "    .dataframe tbody tr th:only-of-type {\n",
       "        vertical-align: middle;\n",
       "    }\n",
       "\n",
       "    .dataframe tbody tr th {\n",
       "        vertical-align: top;\n",
       "    }\n",
       "\n",
       "    .dataframe thead th {\n",
       "        text-align: right;\n",
       "    }\n",
       "</style>\n",
       "<table border=\"1\" class=\"dataframe\">\n",
       "  <thead>\n",
       "    <tr style=\"text-align: right;\">\n",
       "      <th></th>\n",
       "      <th>series_id</th>\n",
       "      <th>timestamp</th>\n",
       "      <th>consumption</th>\n",
       "      <th>temperature</th>\n",
       "      <th>day_of_week</th>\n",
       "      <th>hour</th>\n",
       "      <th>weekend</th>\n",
       "    </tr>\n",
       "  </thead>\n",
       "  <tbody>\n",
       "    <tr>\n",
       "      <th>0</th>\n",
       "      <td>103088</td>\n",
       "      <td>2014-12-24 00:00:00</td>\n",
       "      <td>101842.233424</td>\n",
       "      <td>15.759585</td>\n",
       "      <td>2</td>\n",
       "      <td>0</td>\n",
       "      <td>0.0</td>\n",
       "    </tr>\n",
       "    <tr>\n",
       "      <th>1</th>\n",
       "      <td>103088</td>\n",
       "      <td>2014-12-24 01:00:00</td>\n",
       "      <td>105878.048906</td>\n",
       "      <td>15.358927</td>\n",
       "      <td>2</td>\n",
       "      <td>1</td>\n",
       "      <td>0.0</td>\n",
       "    </tr>\n",
       "    <tr>\n",
       "      <th>2</th>\n",
       "      <td>103088</td>\n",
       "      <td>2014-12-24 02:00:00</td>\n",
       "      <td>91619.105008</td>\n",
       "      <td>14.943660</td>\n",
       "      <td>2</td>\n",
       "      <td>2</td>\n",
       "      <td>0.0</td>\n",
       "    </tr>\n",
       "    <tr>\n",
       "      <th>3</th>\n",
       "      <td>103088</td>\n",
       "      <td>2014-12-24 03:00:00</td>\n",
       "      <td>94473.706203</td>\n",
       "      <td>14.588253</td>\n",
       "      <td>2</td>\n",
       "      <td>3</td>\n",
       "      <td>0.0</td>\n",
       "    </tr>\n",
       "    <tr>\n",
       "      <th>4</th>\n",
       "      <td>103088</td>\n",
       "      <td>2014-12-24 04:00:00</td>\n",
       "      <td>96976.755526</td>\n",
       "      <td>14.301696</td>\n",
       "      <td>2</td>\n",
       "      <td>4</td>\n",
       "      <td>0.0</td>\n",
       "    </tr>\n",
       "  </tbody>\n",
       "</table>\n",
       "</div>"
      ],
      "text/plain": [
       "   series_id           timestamp    consumption  temperature  day_of_week  \\\n",
       "0     103088 2014-12-24 00:00:00  101842.233424    15.759585            2   \n",
       "1     103088 2014-12-24 01:00:00  105878.048906    15.358927            2   \n",
       "2     103088 2014-12-24 02:00:00   91619.105008    14.943660            2   \n",
       "3     103088 2014-12-24 03:00:00   94473.706203    14.588253            2   \n",
       "4     103088 2014-12-24 04:00:00   96976.755526    14.301696            2   \n",
       "\n",
       "   hour  weekend  \n",
       "0     0      0.0  \n",
       "1     1      0.0  \n",
       "2     2      0.0  \n",
       "3     3      0.0  \n",
       "4     4      0.0  "
      ]
     },
     "execution_count": 30,
     "metadata": {},
     "output_type": "execute_result"
    }
   ],
   "source": [
    "consumption_train.head()"
   ]
  },
  {
   "cell_type": "code",
   "execution_count": 61,
   "metadata": {},
   "outputs": [],
   "source": [
    "# initialize day off as 0\n",
    "consumption_train['day_off'] = 0\n",
    "consumption_test['day_off'] = 0\n",
    "\n",
    "# indicate day off based on metadata\n",
    "for day in range(7):\n",
    "    consumption_train.loc[(consumption_train.series_id.isin(meta[meta[weekday_dict[day]]==1].series_id.tolist()))&\n",
    "                         (consumption_train.day_of_week==day),'day_off'] = 1\n",
    "    consumption_test.loc[(consumption_test.series_id.isin(meta[meta[weekday_dict[day]]==1].series_id.tolist()))&\n",
    "                        (consumption_test.day_of_week==day),'day_off'] = 1"
   ]
  },
  {
   "cell_type": "markdown",
   "metadata": {},
   "source": [
    "---------"
   ]
  },
  {
   "cell_type": "markdown",
   "metadata": {},
   "source": [
    "## Model Building"
   ]
  },
  {
   "cell_type": "code",
   "execution_count": 63,
   "metadata": {},
   "outputs": [],
   "source": [
    "def describe_training_data(train_df):\n",
    "    num_training_series = train_df.series_id.nunique()\n",
    "    num_training_days = num_training_series * 28\n",
    "    num_training_hours = num_training_days * 24\n",
    "    assert num_training_hours == train_df.shape[0]\n",
    "    \n",
    "    desc = f'There are {num_training_series} training ' \\\n",
    "           f'series totaling {num_training_days} days ' \\\n",
    "           f'({num_training_hours} hours) of consumption data.'\n",
    "    \n",
    "    print(desc)"
   ]
  },
  {
   "cell_type": "code",
   "execution_count": 64,
   "metadata": {
    "scrolled": true
   },
   "outputs": [
    {
     "name": "stdout",
     "output_type": "stream",
     "text": [
      "There are 39 training series totaling 1092 days (26208 hours) of consumption data.\n"
     ]
    }
   ],
   "source": [
    "# choose subset of series to use\n",
    "frac_series_to_use = 0.05\n",
    "rng = np.random.RandomState(seed=RANDOM_SEED)\n",
    "series_ids = consumption_train.series_id.unique()\n",
    "series_mask = rng.binomial(1,\n",
    "                           frac_series_to_use,\n",
    "                           size=series_ids.shape).astype(bool)\n",
    "training_series = series_ids[series_mask]\n",
    "\n",
    "# reduce training data to series subset\n",
    "consumption_train = consumption_train[consumption_train.series_id.isin(training_series)]\n",
    "\n",
    "# describe the reduced set\n",
    "describe_training_data(consumption_train)"
   ]
  },
  {
   "cell_type": "code",
   "execution_count": 65,
   "metadata": {},
   "outputs": [
    {
     "data": {
      "text/plain": [
       "(39, 39, 625)"
      ]
     },
     "execution_count": 65,
     "metadata": {},
     "output_type": "execute_result"
    }
   ],
   "source": [
    "len(training_series), consumption_train.series_id.nunique(), consumption_test.series_id.nunique()"
   ]
  },
  {
   "cell_type": "markdown",
   "metadata": {},
   "source": [
    "# IGNORE BELOW UNTIL NOTIFIED"
   ]
  },
  {
   "cell_type": "markdown",
   "metadata": {},
   "source": [
    "-----------"
   ]
  },
  {
   "cell_type": "markdown",
   "metadata": {},
   "source": [
    "## Create prediction windows for test set"
   ]
  },
  {
   "cell_type": "markdown",
   "metadata": {},
   "source": [
    "Create training set first"
   ]
  },
  {
   "cell_type": "code",
   "execution_count": 20,
   "metadata": {},
   "outputs": [],
   "source": [
    "pred_groups = pd.DataFrame(data={'series_id':test_series, 'prediction_window':[random.choice(['hourly','daily','weekly']) for _ in range(len(test_series))]})\n",
    "test_window = pred_groups.merge(\n",
    "    consumption_test[consumption_test.series_id==pred_groups.series_id.values.tolist()[0]]\n",
    "                                .iloc[:50,:], on='series_id', how='inner')\n",
    "for i in pred_groups.series_id.values.tolist()[1:]:\n",
    "    test_window = pd.concat([test_window, pred_groups.merge(\n",
    "        consumption_test[consumption_test.series_id==i].iloc[:50,:], on='series_id', how='inner')])"
   ]
  },
  {
   "cell_type": "code",
   "execution_count": 21,
   "metadata": {},
   "outputs": [],
   "source": [
    "def create_scoring_format(train_hours=40, pred_hours=10):\n",
    "    pred_scoring = test_window[test_window.series_id==pred_groups.series_id.values.tolist()[0]][train_hours:train_hours+pred_hours]\n",
    "    for j in pred_groups.series_id.values.tolist()[1:]:\n",
    "        pred_scoring = pd.concat([pred_scoring, test_window[test_window.series_id==j][train_hours:train_hours+pred_hours]])\n",
    "    pred_scoring.set_index('timestamp', inplace=True)\n",
    "    return pred_scoring"
   ]
  },
  {
   "cell_type": "code",
   "execution_count": 22,
   "metadata": {},
   "outputs": [],
   "source": [
    "pred_scoring = create_scoring_format()"
   ]
  },
  {
   "cell_type": "code",
   "execution_count": 27,
   "metadata": {
    "scrolled": true
   },
   "outputs": [],
   "source": [
    "# map_window = {'daily':7,'hourly':14,'weekly':2}\n",
    "# test_window['total_row'] = test_window.apply(\n",
    "#     lambda row: map_window[row['prediction_window']], axis=1)"
   ]
  },
  {
   "cell_type": "code",
   "execution_count": 28,
   "metadata": {},
   "outputs": [
    {
     "name": "stdout",
     "output_type": "stream",
     "text": [
      "Unique series_id:  11\n"
     ]
    }
   ],
   "source": [
    "print('Unique series_id: ', test_window.series_id.nunique())\n",
    "# all([x==14 for x in test_window[test_window.prediction_window=='hourly'].groupby('series_id').size()])\n",
    "# all([x==7 for x in test_window[test_window.prediction_window=='daily'].groupby('series_id').size()])\n",
    "# all([x==2 for x in test_window[test_window.prediction_window=='weekly'].groupby('series_id').size()])"
   ]
  },
  {
   "cell_type": "raw",
   "metadata": {},
   "source": [
    "pred_window = pd.DataFrame(data={'series_id':test_series, 'prediction_window':[random.choice(['hourly','daily','weekly']) for _ in range(39)]})\n",
    "test_window = pred_window.merge(\n",
    "    consumption_test[consumption_test.series_id==pred_window.loc[pred_window.prediction_window=='hourly','series_id'].values.tolist()[0]]\n",
    "                                .iloc[:14,:], on='series_id', how='inner')\n",
    "for i in pred_window.loc[pred_window.prediction_window=='hourly','series_id'].values.tolist()[1:]:\n",
    "    test_window = pd.concat([test_window, pred_window.merge(\n",
    "        consumption_test[consumption_test.series_id==i].iloc[:14,:], on='series_id', how='inner')])\n",
    "for i in pred_window.loc[pred_window.prediction_window=='daily','series_id'].values.tolist()[:]:\n",
    "    test_window = pd.concat([test_window, pred_window.merge(\n",
    "        consumption_test[consumption_test.series_id==i].iloc[:7,:], on='series_id', how='inner')])\n",
    "for i in pred_window.loc[pred_window.prediction_window=='weekly','series_id'].values.tolist()[:]:\n",
    "    test_window = pd.concat([test_window, pred_window.merge(\n",
    "        consumption_test[consumption_test.series_id==i].iloc[:2,:], on='series_id', how='inner')])"
   ]
  },
  {
   "cell_type": "markdown",
   "metadata": {},
   "source": [
    "## Explore data"
   ]
  },
  {
   "cell_type": "code",
   "execution_count": 35,
   "metadata": {
    "scrolled": true
   },
   "outputs": [
    {
     "data": {
      "image/png": "[encoded data removed]",
      "text/plain": [
       "<Figure size 432x288 with 1 Axes>"
      ]
     },
     "metadata": {},
     "output_type": "display_data"
    }
   ],
   "source": [
    "ax = (consumption_test.groupby('series_id').count()\n",
    "                                           .timestamp\n",
    "                                           .divide(24)\n",
    "                                           .value_counts()\n",
    "                                           .sort_index()\n",
    "                                           .plot.bar())\n",
    "ax.set_xlabel('Days in Cold Start Data')\n",
    "ax.set_ylabel('Number of Test Series')\n",
    "plt.show()"
   ]
  },
  {
   "cell_type": "code",
   "execution_count": 36,
   "metadata": {
    "scrolled": true
   },
   "outputs": [
    {
     "data": {
      "image/png": "[encoded data removed]",
      "text/plain": [
       "<Figure size 432x288 with 1 Axes>"
      ]
     },
     "metadata": {},
     "output_type": "display_data"
    },
    {
     "data": {
      "image/png": "[encoded data removed]",
      "text/plain": [
       "<Figure size 432x288 with 1 Axes>"
      ]
     },
     "metadata": {},
     "output_type": "display_data"
    },
    {
     "data": {
      "image/png": "[encoded data removed]",
      "text/plain": [
       "<Figure size 432x288 with 1 Axes>"
      ]
     },
     "metadata": {},
     "output_type": "display_data"
    }
   ],
   "source": [
    "# plot a few consumption patterns\n",
    "series_to_plot = rng.choice(consumption_train.series_id.unique(), 3)\n",
    "\n",
    "for ser_id in series_to_plot:\n",
    "    ser_data = consumption_train[consumption_train.series_id == ser_id]\n",
    "    ax = ser_data.plot(x='timestamp',\n",
    "                       y='consumption', \n",
    "                       title=f\"series_id {int(ser_id)}\",\n",
    "                       legend=False)\n",
    "    plt.ylabel('consumption (watt-hours)')\n",
    "    plt.show()"
   ]
  },
  {
   "cell_type": "code",
   "execution_count": 37,
   "metadata": {},
   "outputs": [
    {
     "data": {
      "text/plain": [
       "27 days 23:00:00    28\n",
       "Name: timestamp, dtype: int64"
      ]
     },
     "execution_count": 37,
     "metadata": {},
     "output_type": "execute_result"
    }
   ],
   "source": [
    "(consumption_train.groupby('series_id')\n",
    "                  .timestamp\n",
    "                  .apply(lambda x: x.max() - x.min())\n",
    "                  .value_counts())"
   ]
  },
  {
   "cell_type": "markdown",
   "metadata": {},
   "source": [
    "-------"
   ]
  },
  {
   "cell_type": "markdown",
   "metadata": {},
   "source": [
    "# RESUME"
   ]
  },
  {
   "cell_type": "markdown",
   "metadata": {},
   "source": [
    "## Set up data for model"
   ]
  },
  {
   "cell_type": "code",
   "execution_count": 66,
   "metadata": {},
   "outputs": [
    {
     "name": "stderr",
     "output_type": "stream",
     "text": [
      "Using TensorFlow backend.\n"
     ]
    }
   ],
   "source": [
    "from sklearn.preprocessing import LabelEncoder\n",
    "from sklearn.preprocessing import MinMaxScaler\n",
    "from sklearn.metrics import mean_squared_error\n",
    "\n",
    "from keras import backend as K\n",
    "from keras.models import Sequential\n",
    "from keras.layers import Dense, LSTM\n",
    "from keras.models import load_model\n",
    "from subprocess import check_output\n",
    "\n",
    "from tqdm import tqdm"
   ]
  },
  {
   "cell_type": "code",
   "execution_count": 115,
   "metadata": {},
   "outputs": [],
   "source": [
    "def create_lagged_features(df, features=['consumption','temperature','weekend','day_off'], lag=1):\n",
    "    if not type(df) == pd.DataFrame:\n",
    "        df = pd.DataFrame(df, columns=features)\n",
    "    \n",
    "    def _rename_lag(ser, j):\n",
    "        ser.name = ser.name + f'_{j}'\n",
    "        return ser\n",
    "        \n",
    "    # add a column lagged by `i` steps\n",
    "    for i in range(1, lag + 1):\n",
    "        df = df.join(df.consumption.shift(i).pipe(_rename_lag, i))\n",
    "        df = df.join(df.temperature.shift(i).pipe(_rename_lag, i))\n",
    "        df = df.join(df.weekend.shift(i).pipe(_rename_lag, i))\n",
    "        df = df.join(df.day_off.shift(i).pipe(_rename_lag, i))\n",
    "        \n",
    "    df.dropna(inplace=True)\n",
    "    return df"
   ]
  },
  {
   "cell_type": "code",
   "execution_count": 85,
   "metadata": {},
   "outputs": [],
   "source": [
    "def prepare_training_data(consumption_series, lag):\n",
    "    \"\"\" Converts a series of consumption data into a\n",
    "        lagged, scaled sample.\n",
    "    \"\"\"\n",
    "    # scale training data\n",
    "    scaler = MinMaxScaler(feature_range=(-1, 1))\n",
    "#     consumption_vals = scaler.fit_transform(consumption_series.values.reshape(-1, 1))\n",
    "    consumption_vals = scaler.fit_transform(consumption_series.values)\n",
    "    \n",
    "    # convert consumption series to lagged features\n",
    "    consumption_lagged = create_lagged_features(consumption_vals, features=consumption_series.columns, lag=lag)\n",
    "\n",
    "    # X, y format taking the first column (original time series) to be the y\n",
    "    X = consumption_lagged.drop('consumption', axis=1).values\n",
    "    y = consumption_lagged.consumption.values\n",
    "    \n",
    "    # keras expects 3 dimensional X\n",
    "    X = X.reshape(X.shape[0], 1, X.shape[1])\n",
    "    \n",
    "    return X, y, scaler"
   ]
  },
  {
   "cell_type": "code",
   "execution_count": 70,
   "metadata": {},
   "outputs": [
    {
     "data": {
      "text/html": [
       "<div>\n",
       "<style scoped>\n",
       "    .dataframe tbody tr th:only-of-type {\n",
       "        vertical-align: middle;\n",
       "    }\n",
       "\n",
       "    .dataframe tbody tr th {\n",
       "        vertical-align: top;\n",
       "    }\n",
       "\n",
       "    .dataframe thead th {\n",
       "        text-align: right;\n",
       "    }\n",
       "</style>\n",
       "<table border=\"1\" class=\"dataframe\">\n",
       "  <thead>\n",
       "    <tr style=\"text-align: right;\">\n",
       "      <th></th>\n",
       "      <th>consumption</th>\n",
       "      <th>temperature</th>\n",
       "      <th>weekend</th>\n",
       "      <th>consumption_1</th>\n",
       "      <th>temperature_1</th>\n",
       "      <th>weekend_1</th>\n",
       "      <th>consumption_2</th>\n",
       "      <th>temperature_2</th>\n",
       "      <th>weekend_2</th>\n",
       "      <th>consumption_3</th>\n",
       "      <th>temperature_3</th>\n",
       "      <th>weekend_3</th>\n",
       "    </tr>\n",
       "    <tr>\n",
       "      <th>timestamp</th>\n",
       "      <th></th>\n",
       "      <th></th>\n",
       "      <th></th>\n",
       "      <th></th>\n",
       "      <th></th>\n",
       "      <th></th>\n",
       "      <th></th>\n",
       "      <th></th>\n",
       "      <th></th>\n",
       "      <th></th>\n",
       "      <th></th>\n",
       "      <th></th>\n",
       "    </tr>\n",
       "  </thead>\n",
       "  <tbody>\n",
       "    <tr>\n",
       "      <th>2017-06-07 03:00:00</th>\n",
       "      <td>562464.244579</td>\n",
       "      <td>14.588253</td>\n",
       "      <td>0.0</td>\n",
       "      <td>570699.933083</td>\n",
       "      <td>14.943660</td>\n",
       "      <td>0.0</td>\n",
       "      <td>561278.342934</td>\n",
       "      <td>15.358927</td>\n",
       "      <td>0.0</td>\n",
       "      <td>527862.165731</td>\n",
       "      <td>15.759585</td>\n",
       "      <td>0.0</td>\n",
       "    </tr>\n",
       "    <tr>\n",
       "      <th>2017-06-07 04:00:00</th>\n",
       "      <td>565464.153881</td>\n",
       "      <td>14.301696</td>\n",
       "      <td>0.0</td>\n",
       "      <td>562464.244579</td>\n",
       "      <td>14.588253</td>\n",
       "      <td>0.0</td>\n",
       "      <td>570699.933083</td>\n",
       "      <td>14.943660</td>\n",
       "      <td>0.0</td>\n",
       "      <td>561278.342934</td>\n",
       "      <td>15.358927</td>\n",
       "      <td>0.0</td>\n",
       "    </tr>\n",
       "    <tr>\n",
       "      <th>2017-06-07 05:00:00</th>\n",
       "      <td>593757.048480</td>\n",
       "      <td>14.104140</td>\n",
       "      <td>0.0</td>\n",
       "      <td>565464.153881</td>\n",
       "      <td>14.301696</td>\n",
       "      <td>0.0</td>\n",
       "      <td>562464.244579</td>\n",
       "      <td>14.588253</td>\n",
       "      <td>0.0</td>\n",
       "      <td>570699.933083</td>\n",
       "      <td>14.943660</td>\n",
       "      <td>0.0</td>\n",
       "    </tr>\n",
       "    <tr>\n",
       "      <th>2017-06-07 06:00:00</th>\n",
       "      <td>606651.971117</td>\n",
       "      <td>14.038189</td>\n",
       "      <td>0.0</td>\n",
       "      <td>593757.048480</td>\n",
       "      <td>14.104140</td>\n",
       "      <td>0.0</td>\n",
       "      <td>565464.153881</td>\n",
       "      <td>14.301696</td>\n",
       "      <td>0.0</td>\n",
       "      <td>562464.244579</td>\n",
       "      <td>14.588253</td>\n",
       "      <td>0.0</td>\n",
       "    </tr>\n",
       "    <tr>\n",
       "      <th>2017-06-07 07:00:00</th>\n",
       "      <td>570132.762731</td>\n",
       "      <td>14.491973</td>\n",
       "      <td>0.0</td>\n",
       "      <td>606651.971117</td>\n",
       "      <td>14.038189</td>\n",
       "      <td>0.0</td>\n",
       "      <td>593757.048480</td>\n",
       "      <td>14.104140</td>\n",
       "      <td>0.0</td>\n",
       "      <td>565464.153881</td>\n",
       "      <td>14.301696</td>\n",
       "      <td>0.0</td>\n",
       "    </tr>\n",
       "  </tbody>\n",
       "</table>\n",
       "</div>"
      ],
      "text/plain": [
       "                       consumption  temperature  weekend  consumption_1  \\\n",
       "timestamp                                                                 \n",
       "2017-06-07 03:00:00  562464.244579    14.588253      0.0  570699.933083   \n",
       "2017-06-07 04:00:00  565464.153881    14.301696      0.0  562464.244579   \n",
       "2017-06-07 05:00:00  593757.048480    14.104140      0.0  565464.153881   \n",
       "2017-06-07 06:00:00  606651.971117    14.038189      0.0  593757.048480   \n",
       "2017-06-07 07:00:00  570132.762731    14.491973      0.0  606651.971117   \n",
       "\n",
       "                     temperature_1  weekend_1  consumption_2  temperature_2  \\\n",
       "timestamp                                                                     \n",
       "2017-06-07 03:00:00      14.943660        0.0  561278.342934      15.358927   \n",
       "2017-06-07 04:00:00      14.588253        0.0  570699.933083      14.943660   \n",
       "2017-06-07 05:00:00      14.301696        0.0  562464.244579      14.588253   \n",
       "2017-06-07 06:00:00      14.104140        0.0  565464.153881      14.301696   \n",
       "2017-06-07 07:00:00      14.038189        0.0  593757.048480      14.104140   \n",
       "\n",
       "                     weekend_2  consumption_3  temperature_3  weekend_3  \n",
       "timestamp                                                                \n",
       "2017-06-07 03:00:00        0.0  527862.165731      15.759585        0.0  \n",
       "2017-06-07 04:00:00        0.0  561278.342934      15.358927        0.0  \n",
       "2017-06-07 05:00:00        0.0  570699.933083      14.943660        0.0  \n",
       "2017-06-07 06:00:00        0.0  562464.244579      14.588253        0.0  \n",
       "2017-06-07 07:00:00        0.0  565464.153881      14.301696        0.0  "
      ]
     },
     "execution_count": 70,
     "metadata": {},
     "output_type": "execute_result"
    }
   ],
   "source": [
    "# try example set\n",
    "example_series = consumption_train[consumption_train.series_id == training_series[0]].reset_index(drop=True)\n",
    "example_series.index = example_series.timestamp\n",
    "create_lagged_features(example_series[['consumption','temperature','weekend']], lag=3).head()"
   ]
  },
  {
   "cell_type": "code",
   "execution_count": 71,
   "metadata": {},
   "outputs": [
    {
     "name": "stdout",
     "output_type": "stream",
     "text": [
      "(660, 1, 38)\n",
      "(660,)\n",
      "MinMaxScaler(copy=True, feature_range=(-1, 1))\n"
     ]
    }
   ],
   "source": [
    "_X, _y, scaler = prepare_training_data(example_series[['consumption','temperature','weekend']], 12)\n",
    "print(_X.shape)\n",
    "print(_y.shape)\n",
    "print(scaler)"
   ]
  },
  {
   "cell_type": "code",
   "execution_count": null,
   "metadata": {},
   "outputs": [],
   "source": []
  },
  {
   "cell_type": "markdown",
   "metadata": {},
   "source": [
    "## Fit model"
   ]
  },
  {
   "cell_type": "code",
   "execution_count": 97,
   "metadata": {},
   "outputs": [],
   "source": [
    "def set_model_basic(lag=24, num_neurons=24, batch_size=1, n_layers=1):\n",
    "    # model parameters\n",
    "    n_features = 4*(lag+1)-1\n",
    "    batch_input_shape=(batch_size, 1, n_features)\n",
    "    \n",
    "    # instantiate a sequential model\n",
    "    model = Sequential()\n",
    "\n",
    "    # add LSTM layer - stateful MUST be true here in \n",
    "    # order to learn the patterns within a series\n",
    "    model.add(LSTM(units=num_neurons, \n",
    "                  batch_input_shape=batch_input_shape, \n",
    "                  stateful=True))\n",
    "    # followed by a dense layer with a single output for regression\n",
    "    model.add(Dense(1))\n",
    "    \n",
    "    #compile\n",
    "    model.compile(loss='mean_absolute_error', optimizer='adam')\n",
    "    \n",
    "    return model"
   ]
  },
  {
   "cell_type": "code",
   "execution_count": 98,
   "metadata": {},
   "outputs": [],
   "source": [
    "def set_model_tanh(lag=24, num_neurons=24, batch_size=1, n_layers=1):\n",
    "    # model parameters\n",
    "    batch_input_shape=(batch_size, 1, lag)\n",
    "    \n",
    "    #set up model\n",
    "    model = Sequential()\n",
    "#     if n_layers==1:\n",
    "#         model.add(LSTM(units=num_neurons[0], batch_input_shape=batch_input_shape, stateful=True, dropout=0.2))\n",
    "#     elif n_layers>1:\n",
    "#         model.add(LSTM(units=num_neurons[0], batch_input_shape=batch_input_shape, stateful=True, return_sequences=True, dropout=0.2))\n",
    "#         for i in range(n_layers-1):\n",
    "#             model.add(LSTM(units=num_neurons[i+1], stateful=True, activation='relu', dropout=0.2))\n",
    "    if n_layers==1:\n",
    "        model.add(LSTM(units=num_neurons, batch_input_shape=batch_input_shape, stateful=True, dropout=0.2))\n",
    "    elif n_layers>1:\n",
    "        \n",
    "        for i in range(n_layers-1):\n",
    "            model.add(LSTM(units=num_neurons, batch_input_shape=batch_input_shape, stateful=True, return_sequences=True, dropout=0.2))\n",
    "        model.add(LSTM(units=num_neurons, stateful=True, activation='tanh', dropout=0.2))    \n",
    "    \n",
    "    model.add(Dense(1))\n",
    "    model.compile(loss='mean_absolute_error', optimizer='adam')\n",
    "    \n",
    "    return model"
   ]
  },
  {
   "cell_type": "code",
   "execution_count": 99,
   "metadata": {},
   "outputs": [],
   "source": [
    "def set_model_relu(lag=24, num_neurons=24, batch_size=1, n_layers=1):\n",
    "    # model parameters\n",
    "    batch_input_shape=(batch_size, 1, lag)\n",
    "    \n",
    "    #set up model\n",
    "    model = Sequential()\n",
    "#     if n_layers==1:\n",
    "#         model.add(LSTM(units=num_neurons[0], batch_input_shape=batch_input_shape, stateful=True, dropout=0.2))\n",
    "#     elif n_layers>1:\n",
    "#         model.add(LSTM(units=num_neurons[0], batch_input_shape=batch_input_shape, stateful=True, return_sequences=True, dropout=0.2))\n",
    "#         for i in range(n_layers-1):\n",
    "#             model.add(LSTM(units=num_neurons[i+1], stateful=True, activation='relu', dropout=0.2))\n",
    "    if n_layers==1:\n",
    "        model.add(LSTM(units=num_neurons, batch_input_shape=batch_input_shape, stateful=True, dropout=0.2))\n",
    "    elif n_layers>1:\n",
    "        \n",
    "        for i in range(n_layers-1):\n",
    "            model.add(LSTM(units=num_neurons, batch_input_shape=batch_input_shape, stateful=True, return_sequences=True, dropout=0.2))\n",
    "        model.add(LSTM(units=num_neurons, stateful=True, activation='relu', dropout=0.2))    \n",
    "    \n",
    "    model.add(Dense(1))\n",
    "    model.compile(loss='mean_absolute_error', optimizer='adam')\n",
    "    \n",
    "    return model"
   ]
  },
  {
   "cell_type": "code",
   "execution_count": 100,
   "metadata": {
    "scrolled": true
   },
   "outputs": [
    {
     "name": "stdout",
     "output_type": "stream",
     "text": [
      "672 28.0\n",
      "672 28.0\n",
      "672 28.0\n",
      "672 28.0\n",
      "672 28.0\n",
      "672 28.0\n",
      "672 28.0\n",
      "672 28.0\n",
      "672 28.0\n",
      "672 28.0\n"
     ]
    }
   ],
   "source": [
    "for i in consumption_train.series_id.unique()[:10]:\n",
    "    shape_train = consumption_train[consumption_train.series_id==i].shape[0]\n",
    "    print(shape_train, int(shape_train)/24)"
   ]
  },
  {
   "cell_type": "code",
   "execution_count": 112,
   "metadata": {},
   "outputs": [],
   "source": [
    "def fit_model(model, train_data, n_epochs=3, batch_size=1, lag=12):\n",
    "    \"\"\" Fits model on training data on each series_id with specified\n",
    "        number of epochs.\n",
    "    \"\"\"\n",
    "    for i in tqdm(range(n_epochs), total=n_epochs, desc='Learning Consumption Trends - Epochs'):\n",
    "        \n",
    "        # reset the LSTM state for training on each series\n",
    "        for ser_id, ser_data in train_data.groupby('series_id'):\n",
    "            # prepare the data\n",
    "            X, y, scaler = prepare_training_data(ser_data[['consumption','temperature','weekend','day_off']], lag)\n",
    "            #fit the model\n",
    "            model.fit(X, y, epochs=1, batch_size=batch_size, verbose=0, shuffle=False)\n",
    "#             model.fit(X, y, epochs=1, batch_input_shape=(n_batch, train_X.shape[1], train_X.shape[2]),\n",
    "#                       verbose=1, shuffle=False)\n",
    "            model.reset_states()\n",
    "    return model"
   ]
  },
  {
   "cell_type": "code",
   "execution_count": 143,
   "metadata": {},
   "outputs": [],
   "source": [
    "def generate_hourly_forecast(num_pred_hours, consumption, model, scaler, lag, batch_size):\n",
    "    \"\"\" Uses last hour's prediction to generate next for num_pred_hours, \n",
    "        initialized by most recent cold start prediction. Inverts scale of \n",
    "        predictions before return.\n",
    "    \"\"\"\n",
    "    # indicate number of features\n",
    "    n_features = 4*(lag+1)-1\n",
    "    \n",
    "   # allocate prediction frame\n",
    "    preds_scaled = np.zeros(num_pred_hours)\n",
    "    \n",
    "    # initial X is last lag values from the cold start\n",
    "#     X = scaler.transform(consumption.values)[-lag:]\n",
    "    X = scaler.transform(consumption.values).reshape(-1,1)[-1*n_features:]\n",
    "    \n",
    "    # forecast\n",
    "    for i in range(num_pred_hours):\n",
    "        # predict scaled value for next time step\n",
    "        yhat = model.predict(X.reshape(1, 1, n_features), batch_size=batch_size)[0][0]\n",
    "        preds_scaled[i] = yhat\n",
    "        \n",
    "        # update X to be latest data plus prediction\n",
    "        X = pd.Series(X.ravel()).shift(-1).fillna(yhat).values\n",
    "\n",
    "    # revert scale back to original range\n",
    "    hourly_preds = scaler.inverse_transform(preds_scaled.reshape(-1, 4)).ravel()\n",
    "    return hourly_preds"
   ]
  },
  {
   "cell_type": "code",
   "execution_count": 78,
   "metadata": {
    "scrolled": true
   },
   "outputs": [],
   "source": [
    "series_data = consumption_test.loc[consumption_test.series_id == 100283, ['consumption','temperature','weekend']]"
   ]
  },
  {
   "cell_type": "code",
   "execution_count": 211,
   "metadata": {},
   "outputs": [],
   "source": [
    "# preds_scaled = np.zeros(14)\n",
    "X = scaler.transform(series_data)[-lag:]"
   ]
  },
  {
   "cell_type": "code",
   "execution_count": 213,
   "metadata": {},
   "outputs": [
    {
     "data": {
      "text/plain": [
       "(35, 1)"
      ]
     },
     "execution_count": 213,
     "metadata": {},
     "output_type": "execute_result"
    }
   ],
   "source": [
    "scaler.transform(series_data.values).reshape(-1,1)[-lag*3+1:].shape"
   ]
  },
  {
   "cell_type": "code",
   "execution_count": 139,
   "metadata": {
    "collapsed": true
   },
   "outputs": [
    {
     "data": {
      "text/plain": [
       "array([[[ 5.60289908e+00,  6.88862221e-01, -1.00000000e+00],\n",
       "        [ 4.39585872e+00,  8.58041596e-01, -1.00000000e+00],\n",
       "        [ 3.58216430e+00,  9.48569260e-01, -1.00000000e+00],\n",
       "        [ 3.72483224e+00,  1.00000000e+00, -1.00000000e+00],\n",
       "        [ 3.64967059e+00,  9.35289476e-01, -1.00000000e+00],\n",
       "        [ 3.66351982e+00,  7.82809672e-01, -1.00000000e+00],\n",
       "        [ 3.45188411e+00,  5.97766568e-01, -1.00000000e+00],\n",
       "        [ 3.52607144e+00,  4.08442928e-01, -1.00000000e+00],\n",
       "        [ 3.65266314e+00,  1.94618776e-01, -1.00000000e+00],\n",
       "        [ 4.35799952e+00, -3.07904882e-03, -1.00000000e+00],\n",
       "        [ 4.74703063e+00, -1.72592049e-01, -1.00000000e+00],\n",
       "        [ 3.37366033e+00, -3.23544825e-01, -1.00000000e+00]]])"
      ]
     },
     "execution_count": 139,
     "metadata": {},
     "output_type": "execute_result"
    }
   ],
   "source": [
    "X.reshape(1, lag, 3)"
   ]
  },
  {
   "cell_type": "code",
   "execution_count": null,
   "metadata": {},
   "outputs": [],
   "source": [
    "preds = generate_hourly_forecast(14, series_data, model, scaler, lag)"
   ]
  },
  {
   "cell_type": "code",
   "execution_count": 104,
   "metadata": {},
   "outputs": [],
   "source": [
    "# num_pred_hours = 10\n",
    "# num_test_series = consumption_test.series_id.nunique()\n",
    "# for ser_id, pred_df in tqdm(consumption_test.groupby('series_id'),\n",
    "#                            total=num_test_series,\n",
    "#                            desc='Forecasting from Cold Start Data'):\n",
    "#     series_data = consumption_test[consumption_test.series_id==ser_id].consumption[:20]\n",
    "#     cold_X, cold_y, scaler = prepare_training_data(series_data, lag)\n",
    "#     model.fit(cold_X, cold_y, epochs=1, batch_size=batch_size, verbose=0, shuffle=False)\n",
    "#     y_pred = generate_hourly_forecast(num_pred_hours, series_data, model, scaler, lag, batch_size)\n",
    "#     y_real = consumption_test[consumption_test.series_id==ser_id].consumption[20:]\n",
    "#     model.reset_states()\n",
    "#     print(RMSE(y_real, y_pred))"
   ]
  },
  {
   "cell_type": "code",
   "execution_count": 144,
   "metadata": {},
   "outputs": [],
   "source": [
    "def generate_complete_forecast(model, test_data, submission, lag=24, batch_size=1):\n",
    "    # set definitions of prediction windows\n",
    "    pred_window_to_num_preds = {'hourly': 24, 'daily': 7, 'weekly': 2}\n",
    "    pred_window_to_num_pred_hours = {'hourly': 24, 'daily': 7 * 24, 'weekly': 2 * 7 * 24}\n",
    "    \n",
    "    num_test_series = submission.series_id.nunique()\n",
    "    model.reset_states()\n",
    "    \n",
    "    for ser_id, pred_df in tqdm(submission.groupby('series_id'),\n",
    "                               total=num_test_series,\n",
    "                               desc=\"Forecasting from Cold Start Data\"):\n",
    "        \n",
    "        # get info about this series' prediction window\n",
    "        pred_window = pred_df.prediction_window.unique()[0]\n",
    "        num_preds = pred_window_to_num_preds[pred_window]\n",
    "        num_pred_hours = pred_window_to_num_pred_hours[pred_window]\n",
    "        \n",
    "        # prepare cold start data\n",
    "        series_data = consumption_test[consumption_test.series_id == ser_id].consumption\n",
    "        cold_X, cold_y, scaler = prepare_training_data(series_data, lag)\n",
    "        \n",
    "        # fine tune our lstm model to this site using cold start data    \n",
    "        model.fit(cold_X, cold_y, epochs=1, batch_size=batch_size, verbose=1, shuffle=False)\n",
    "\n",
    "        # make hourly forecasts for duration of pred window\n",
    "        preds = generate_hourly_forecast(num_pred_hours, series_data, model, scaler, lag, batch_size)\n",
    "\n",
    "        # reduce by taking sum over each sub window in pred window\n",
    "        reduced_preds = [pred.sum() for pred in np.split(preds, num_preds)]\n",
    "\n",
    "        # store result in submission DataFrame\n",
    "        ser_id_mask = my_submission.series_id == ser_id\n",
    "        my_submission.loc[ser_id_mask, 'consumption'] = reduced_preds\n",
    "        \n",
    "    return model, my_submission"
   ]
  },
  {
   "cell_type": "code",
   "execution_count": 145,
   "metadata": {},
   "outputs": [],
   "source": [
    "def run_experiment(train, test, lag, num_neurons, batch_size, n_epochs, n_layers, train_hours=40, pred_hours=10):\n",
    "    # set up model architecture\n",
    "    pred_scoring = create_scoring_format()\n",
    "    model = set_model(lag=lag, num_neurons=num_neurons, batch_size=batch_size, n_layers=n_layers)\n",
    "    \n",
    "    # fit model on training data\n",
    "    model = fit_model(model, train, n_epochs=n_epochs, batch_size=batch_size)\n",
    "    \n",
    "    num_pred_hours = pred_hours\n",
    "    num_test_series = test.series_id.nunique()\n",
    "    scores = []\n",
    "    \n",
    "    for ser_id, pred_df in tqdm(test.groupby('series_id'),\n",
    "                           total=num_test_series,\n",
    "                           desc='Forecasting from Cold Start Data'):\n",
    "        series_data = test[test.series_id==ser_id].consumption[:train_hours]\n",
    "        cold_X, cold_y, scaler = prepare_training_data(series_data, lag)\n",
    "        model.fit(cold_X, cold_y, epochs=1, batch_size=batch_size, verbose=0, shuffle=False)\n",
    "        y_pred = generate_hourly_forecast(num_pred_hours, series_data, model, scaler, lag, batch_size)\n",
    "        y_real = test[test.series_id==ser_id].consumption[train_hours:train_hours+pred_hours]\n",
    "        model.reset_states()\n",
    "        pred_scoring.loc[pred_scoring.series_id==ser_id,'prediction'] = y_pred\n",
    "        scores.append(RMSE(y_real, y_pred))\n",
    "    \n",
    "    return model, scores, pred_scoring"
   ]
  },
  {
   "cell_type": "code",
   "execution_count": 146,
   "metadata": {},
   "outputs": [],
   "source": [
    "def RMSE(y, pred):\n",
    "    return mean_squared_error(y, pred)**0.5\n",
    "\n",
    "def MAE(y, pred):\n",
    "    return sum([abs(i) for i in (y-pred)])/y.shape[0]"
   ]
  },
  {
   "cell_type": "markdown",
   "metadata": {},
   "source": [
    "-----"
   ]
  },
  {
   "cell_type": "code",
   "execution_count": 181,
   "metadata": {},
   "outputs": [],
   "source": [
    "group_series = meta.loc[meta.days_off=='0000011', 'series_id'].unique().tolist()\n",
    "group_train = consumption_train[consumption_train.series_id.isin(group_series)]\n",
    "model = set_model_basic(lag=lag, num_neurons=num_neurons, batch_size=batch_size)\n"
   ]
  },
  {
   "cell_type": "code",
   "execution_count": 205,
   "metadata": {},
   "outputs": [],
   "source": [
    "ser_data = group_train.loc[group_train.series_id==103585, ['consumption','temperature','weekend']]"
   ]
  },
  {
   "cell_type": "code",
   "execution_count": 206,
   "metadata": {},
   "outputs": [],
   "source": [
    "X, y, scaler = prepare_training_data(ser_data[['consumption','temperature','weekend']], 12)"
   ]
  },
  {
   "cell_type": "code",
   "execution_count": 207,
   "metadata": {},
   "outputs": [],
   "source": [
    "model = set_model_basic(lag=lag, num_neurons=num_neurons, batch_size=batch_size)"
   ]
  },
  {
   "cell_type": "code",
   "execution_count": 208,
   "metadata": {
    "scrolled": true
   },
   "outputs": [
    {
     "data": {
      "text/plain": [
       "<keras.callbacks.History at 0x7f4737578e10>"
      ]
     },
     "execution_count": 208,
     "metadata": {},
     "output_type": "execute_result"
    }
   ],
   "source": [
    "model.fit(X, y, epochs=1, batch_size=batch_size, verbose=0, shuffle=False)"
   ]
  },
  {
   "cell_type": "code",
   "execution_count": null,
   "metadata": {},
   "outputs": [],
   "source": [
    "for ser_id, ser_data in train_data.groupby('series_id'):\n",
    "    X, y, scaler = prepare_training_data(ser_data[['consumption','temperature','']])"
   ]
  },
  {
   "cell_type": "code",
   "execution_count": 182,
   "metadata": {
    "collapsed": true
   },
   "outputs": [
    {
     "name": "stderr",
     "output_type": "stream",
     "text": [
      "Learning Consumption Trends - Epochs:   0%|          | 0/2 [00:00<?, ?it/s]\n"
     ]
    },
    {
     "ename": "ValueError",
     "evalue": "Error when checking input: expected lstm_4_input to have shape (1, 12) but got array with shape (1, 38)",
     "output_type": "error",
     "traceback": [
      "\u001b[0;31m---------------------------------------------------------------------------\u001b[0m",
      "\u001b[0;31mValueError\u001b[0m                                Traceback (most recent call last)",
      "\u001b[0;32m<ipython-input-182-e6982af7d6b6>\u001b[0m in \u001b[0;36m<module>\u001b[0;34m()\u001b[0m\n\u001b[0;32m----> 1\u001b[0;31m \u001b[0mmodel\u001b[0m \u001b[0;34m=\u001b[0m \u001b[0mfit_model\u001b[0m\u001b[0;34m(\u001b[0m\u001b[0mmodel\u001b[0m\u001b[0;34m,\u001b[0m \u001b[0mgroup_train\u001b[0m\u001b[0;34m,\u001b[0m \u001b[0mn_epochs\u001b[0m\u001b[0;34m=\u001b[0m\u001b[0;36m2\u001b[0m\u001b[0;34m,\u001b[0m \u001b[0mbatch_size\u001b[0m\u001b[0;34m=\u001b[0m\u001b[0mbatch_size\u001b[0m\u001b[0;34m)\u001b[0m\u001b[0;34m\u001b[0m\u001b[0m\n\u001b[0m",
      "\u001b[0;32m<ipython-input-175-c0f5dbc95c70>\u001b[0m in \u001b[0;36mfit_model\u001b[0;34m(model, train_data, n_epochs, batch_size)\u001b[0m\n\u001b[1;32m     10\u001b[0m             \u001b[0mX\u001b[0m\u001b[0;34m,\u001b[0m \u001b[0my\u001b[0m\u001b[0;34m,\u001b[0m \u001b[0mscaler\u001b[0m \u001b[0;34m=\u001b[0m \u001b[0mprepare_training_data\u001b[0m\u001b[0;34m(\u001b[0m\u001b[0mser_data\u001b[0m\u001b[0;34m[\u001b[0m\u001b[0;34m[\u001b[0m\u001b[0;34m'consumption'\u001b[0m\u001b[0;34m,\u001b[0m\u001b[0;34m'temperature'\u001b[0m\u001b[0;34m,\u001b[0m\u001b[0;34m'weekend'\u001b[0m\u001b[0;34m]\u001b[0m\u001b[0;34m]\u001b[0m\u001b[0;34m,\u001b[0m \u001b[0mlag\u001b[0m\u001b[0;34m)\u001b[0m\u001b[0;34m\u001b[0m\u001b[0m\n\u001b[1;32m     11\u001b[0m             \u001b[0;31m#fit the model\u001b[0m\u001b[0;34m\u001b[0m\u001b[0;34m\u001b[0m\u001b[0m\n\u001b[0;32m---> 12\u001b[0;31m             \u001b[0mmodel\u001b[0m\u001b[0;34m.\u001b[0m\u001b[0mfit\u001b[0m\u001b[0;34m(\u001b[0m\u001b[0mX\u001b[0m\u001b[0;34m,\u001b[0m \u001b[0my\u001b[0m\u001b[0;34m,\u001b[0m \u001b[0mepochs\u001b[0m\u001b[0;34m=\u001b[0m\u001b[0;36m1\u001b[0m\u001b[0;34m,\u001b[0m \u001b[0mbatch_size\u001b[0m\u001b[0;34m=\u001b[0m\u001b[0mbatch_size\u001b[0m\u001b[0;34m,\u001b[0m \u001b[0mverbose\u001b[0m\u001b[0;34m=\u001b[0m\u001b[0;36m0\u001b[0m\u001b[0;34m,\u001b[0m \u001b[0mshuffle\u001b[0m\u001b[0;34m=\u001b[0m\u001b[0;32mFalse\u001b[0m\u001b[0;34m)\u001b[0m\u001b[0;34m\u001b[0m\u001b[0m\n\u001b[0m\u001b[1;32m     13\u001b[0m \u001b[0;31m#             model.fit(X, y, epochs=1, batch_input_shape=(n_batch, train_X.shape[1], train_X.shape[2]),\u001b[0m\u001b[0;34m\u001b[0m\u001b[0;34m\u001b[0m\u001b[0m\n\u001b[1;32m     14\u001b[0m \u001b[0;31m#                       verbose=1, shuffle=False)\u001b[0m\u001b[0;34m\u001b[0m\u001b[0;34m\u001b[0m\u001b[0m\n",
      "\u001b[0;32m~/anaconda3/envs/tensorflow_p36/lib/python3.6/site-packages/keras/engine/training.py\u001b[0m in \u001b[0;36mfit\u001b[0;34m(self, x, y, batch_size, epochs, verbose, callbacks, validation_split, validation_data, shuffle, class_weight, sample_weight, initial_epoch, steps_per_epoch, validation_steps, **kwargs)\u001b[0m\n\u001b[1;32m    948\u001b[0m             \u001b[0msample_weight\u001b[0m\u001b[0;34m=\u001b[0m\u001b[0msample_weight\u001b[0m\u001b[0;34m,\u001b[0m\u001b[0;34m\u001b[0m\u001b[0m\n\u001b[1;32m    949\u001b[0m             \u001b[0mclass_weight\u001b[0m\u001b[0;34m=\u001b[0m\u001b[0mclass_weight\u001b[0m\u001b[0;34m,\u001b[0m\u001b[0;34m\u001b[0m\u001b[0m\n\u001b[0;32m--> 950\u001b[0;31m             batch_size=batch_size)\n\u001b[0m\u001b[1;32m    951\u001b[0m         \u001b[0;31m# Prepare validation data.\u001b[0m\u001b[0;34m\u001b[0m\u001b[0;34m\u001b[0m\u001b[0m\n\u001b[1;32m    952\u001b[0m         \u001b[0mdo_validation\u001b[0m \u001b[0;34m=\u001b[0m \u001b[0;32mFalse\u001b[0m\u001b[0;34m\u001b[0m\u001b[0m\n",
      "\u001b[0;32m~/anaconda3/envs/tensorflow_p36/lib/python3.6/site-packages/keras/engine/training.py\u001b[0m in \u001b[0;36m_standardize_user_data\u001b[0;34m(self, x, y, sample_weight, class_weight, check_array_lengths, batch_size)\u001b[0m\n\u001b[1;32m    747\u001b[0m             \u001b[0mfeed_input_shapes\u001b[0m\u001b[0;34m,\u001b[0m\u001b[0;34m\u001b[0m\u001b[0m\n\u001b[1;32m    748\u001b[0m             \u001b[0mcheck_batch_axis\u001b[0m\u001b[0;34m=\u001b[0m\u001b[0;32mFalse\u001b[0m\u001b[0;34m,\u001b[0m  \u001b[0;31m# Don't enforce the batch size.\u001b[0m\u001b[0;34m\u001b[0m\u001b[0m\n\u001b[0;32m--> 749\u001b[0;31m             exception_prefix='input')\n\u001b[0m\u001b[1;32m    750\u001b[0m \u001b[0;34m\u001b[0m\u001b[0m\n\u001b[1;32m    751\u001b[0m         \u001b[0;32mif\u001b[0m \u001b[0my\u001b[0m \u001b[0;32mis\u001b[0m \u001b[0;32mnot\u001b[0m \u001b[0;32mNone\u001b[0m\u001b[0;34m:\u001b[0m\u001b[0;34m\u001b[0m\u001b[0m\n",
      "\u001b[0;32m~/anaconda3/envs/tensorflow_p36/lib/python3.6/site-packages/keras/engine/training_utils.py\u001b[0m in \u001b[0;36mstandardize_input_data\u001b[0;34m(data, names, shapes, check_batch_axis, exception_prefix)\u001b[0m\n\u001b[1;32m    135\u001b[0m                             \u001b[0;34m': expected '\u001b[0m \u001b[0;34m+\u001b[0m \u001b[0mnames\u001b[0m\u001b[0;34m[\u001b[0m\u001b[0mi\u001b[0m\u001b[0;34m]\u001b[0m \u001b[0;34m+\u001b[0m \u001b[0;34m' to have shape '\u001b[0m \u001b[0;34m+\u001b[0m\u001b[0;34m\u001b[0m\u001b[0m\n\u001b[1;32m    136\u001b[0m                             \u001b[0mstr\u001b[0m\u001b[0;34m(\u001b[0m\u001b[0mshape\u001b[0m\u001b[0;34m)\u001b[0m \u001b[0;34m+\u001b[0m \u001b[0;34m' but got array with shape '\u001b[0m \u001b[0;34m+\u001b[0m\u001b[0;34m\u001b[0m\u001b[0m\n\u001b[0;32m--> 137\u001b[0;31m                             str(data_shape))\n\u001b[0m\u001b[1;32m    138\u001b[0m     \u001b[0;32mreturn\u001b[0m \u001b[0mdata\u001b[0m\u001b[0;34m\u001b[0m\u001b[0m\n\u001b[1;32m    139\u001b[0m \u001b[0;34m\u001b[0m\u001b[0m\n",
      "\u001b[0;31mValueError\u001b[0m: Error when checking input: expected lstm_4_input to have shape (1, 12) but got array with shape (1, 38)"
     ]
    }
   ],
   "source": [
    "model = fit_model(model, group_train, n_epochs=2, batch_size=batch_size)"
   ]
  },
  {
   "cell_type": "markdown",
   "metadata": {},
   "source": [
    "# GOLDEN CODE TO PREDICT BY GROUPS"
   ]
  },
  {
   "cell_type": "markdown",
   "metadata": {},
   "source": [
    "------"
   ]
  },
  {
   "cell_type": "code",
   "execution_count": null,
   "metadata": {},
   "outputs": [],
   "source": [
    "# set parameters\n",
    "lag = 12\n",
    "num_neurons = 100\n",
    "batch_size = 1\n",
    "n_epochs = 1"
   ]
  },
  {
   "cell_type": "code",
   "execution_count": 148,
   "metadata": {},
   "outputs": [],
   "source": [
    "model_dict = dict()\n",
    "my_submission = submission_format.copy()"
   ]
  },
  {
   "cell_type": "code",
   "execution_count": 149,
   "metadata": {},
   "outputs": [],
   "source": [
    "pred_window_to_num_preds = {'hourly': 24, 'daily': 7, 'weekly': 2}\n",
    "pred_window_to_num_pred_hours = {'hourly': 24, 'daily': 7 * 24, 'weekly': 2 * 7 * 24}"
   ]
  },
  {
   "cell_type": "code",
   "execution_count": 153,
   "metadata": {},
   "outputs": [
    {
     "name": "stderr",
     "output_type": "stream",
     "text": [
      "Learning Consumption Trends - Epochs: 100%|██████████| 2/2 [00:31<00:00, 16.04s/it]\n",
      "Forecasting from Cold Start Data: 100%|██████████| 164/164 [01:21<00:00,  3.07it/s]\n",
      "Learning Consumption Trends - Epochs: 100%|██████████| 2/2 [00:31<00:00, 16.02s/it]\n",
      "Forecasting from Cold Start Data: 100%|██████████| 145/145 [01:17<00:00,  1.57it/s]\n",
      "Learning Consumption Trends - Epochs: 100%|██████████| 2/2 [00:13<00:00,  6.89s/it]\n",
      "Forecasting from Cold Start Data: 100%|██████████| 84/84 [00:40<00:00,  1.71it/s]\n",
      "Learning Consumption Trends - Epochs: 100%|██████████| 2/2 [00:06<00:00,  3.62s/it]\n",
      "Forecasting from Cold Start Data: 100%|██████████| 59/59 [00:30<00:00,  1.93it/s]\n",
      "Learning Consumption Trends - Epochs: 100%|██████████| 2/2 [00:00<00:00, 1577.99it/s]\n",
      "Forecasting from Cold Start Data: 100%|██████████| 49/49 [00:27<00:00,  1.95it/s]\n",
      "Learning Consumption Trends - Epochs: 100%|██████████| 2/2 [00:13<00:00,  7.28s/it]\n",
      "Forecasting from Cold Start Data: 100%|██████████| 54/54 [00:26<00:00,  2.32it/s]\n",
      "Learning Consumption Trends - Epochs: 100%|██████████| 2/2 [00:04<00:00,  2.82s/it]\n",
      "Forecasting from Cold Start Data: 100%|██████████| 70/70 [00:36<00:00,  2.46it/s]\n"
     ]
    }
   ],
   "source": [
    "for group in meta.surface.unique():\n",
    "    \n",
    "    # create list of series_id in the group\n",
    "    group_series = meta.loc[meta.surface==group,'series_id'].unique().tolist()\n",
    "    # select train data that belong in the days off group\n",
    "    group_train = consumption_train[consumption_train.series_id.isin(group_series)]\n",
    "    # set basic model architecture\n",
    "    model = set_model_basic(lag=lag, num_neurons=num_neurons, batch_size=batch_size)\n",
    "    # fit model to training data\n",
    "    model = fit_model(model, group_train, n_epochs=n_epochs, batch_size=batch_size, lag=lag)\n",
    "    # create submission dataframe belonging in the group\n",
    "    this_submission = my_submission[my_submission.series_id.isin(group_series)]\n",
    "\n",
    "    num_test_series = this_submission.series_id.nunique()\n",
    "    model.reset_states()\n",
    "    \n",
    "    for ser_id, pred_df in tqdm(this_submission.groupby('series_id'), \n",
    "                            total=num_test_series, \n",
    "                            desc=\"Forecasting from Cold Start Data\"):\n",
    "        # get info about this series' prediction window\n",
    "        pred_window = pred_df.prediction_window.unique()[0]\n",
    "        num_preds = pred_window_to_num_preds[pred_window]\n",
    "        num_pred_hours = pred_window_to_num_pred_hours[pred_window]\n",
    "        \n",
    "        # prepare cold start data\n",
    "        series_data = consumption_test.loc[consumption_test.series_id == ser_id, ['consumption','temperature','weekend','day_off']]\n",
    "        cold_X, cold_y, scaler = prepare_training_data(series_data, lag)\n",
    "        \n",
    "        # fine tune our lstm model to this site using cold start data    \n",
    "        model.fit(cold_X, cold_y, epochs=1, batch_size=batch_size, verbose=0, shuffle=False)\n",
    "        \n",
    "        # make hourly forecasts for duration of pred window\n",
    "        preds = generate_hourly_forecast(num_pred_hours, series_data, model, scaler, lag, batch_size)\n",
    "        \n",
    "        # reduce by taking sum over each sub window in pred window\n",
    "        reduced_preds = [pred.sum() for pred in np.split(preds, num_preds)]\n",
    "\n",
    "        # store result in submission DataFrame\n",
    "        ser_id_mask = my_submission.series_id == ser_id\n",
    "        my_submission.loc[ser_id_mask, 'consumption'] = reduced_preds"
   ]
  },
  {
   "cell_type": "markdown",
   "metadata": {},
   "source": [
    "-----"
   ]
  },
  {
   "cell_type": "code",
   "execution_count": 117,
   "metadata": {},
   "outputs": [],
   "source": [
    "series_data = consumption_test.loc[consumption_test.series_id == ser_id, ['consumption','temperature','weekend','day_off']]\n",
    "cold_X, cold_y, scaler = prepare_training_data(series_data, lag)"
   ]
  },
  {
   "cell_type": "code",
   "execution_count": 118,
   "metadata": {},
   "outputs": [
    {
     "data": {
      "text/plain": [
       "<keras.callbacks.History at 0x7fcc9150a668>"
      ]
     },
     "execution_count": 118,
     "metadata": {},
     "output_type": "execute_result"
    }
   ],
   "source": [
    "# fine tune our lstm model to this site using cold start data    \n",
    "model.fit(cold_X, cold_y, epochs=1, batch_size=batch_size, verbose=0, shuffle=False)"
   ]
  },
  {
   "cell_type": "code",
   "execution_count": 119,
   "metadata": {
    "collapsed": true
   },
   "outputs": [
    {
     "ename": "ValueError",
     "evalue": "non-broadcastable output operand with shape (336,1) doesn't match the broadcast shape (336,4)",
     "output_type": "error",
     "traceback": [
      "\u001b[0;31m---------------------------------------------------------------------------\u001b[0m",
      "\u001b[0;31mValueError\u001b[0m                                Traceback (most recent call last)",
      "\u001b[0;32m<ipython-input-119-c579f818605b>\u001b[0m in \u001b[0;36m<module>\u001b[0;34m()\u001b[0m\n\u001b[1;32m      1\u001b[0m \u001b[0;31m# make hourly forecasts for duration of pred window\u001b[0m\u001b[0;34m\u001b[0m\u001b[0;34m\u001b[0m\u001b[0m\n\u001b[0;32m----> 2\u001b[0;31m \u001b[0mpreds\u001b[0m \u001b[0;34m=\u001b[0m \u001b[0mgenerate_hourly_forecast\u001b[0m\u001b[0;34m(\u001b[0m\u001b[0mnum_pred_hours\u001b[0m\u001b[0;34m,\u001b[0m \u001b[0mseries_data\u001b[0m\u001b[0;34m,\u001b[0m \u001b[0mmodel\u001b[0m\u001b[0;34m,\u001b[0m \u001b[0mscaler\u001b[0m\u001b[0;34m,\u001b[0m \u001b[0mlag\u001b[0m\u001b[0;34m,\u001b[0m \u001b[0mbatch_size\u001b[0m\u001b[0;34m)\u001b[0m\u001b[0;34m\u001b[0m\u001b[0m\n\u001b[0m",
      "\u001b[0;32m<ipython-input-113-739bce2c4ee9>\u001b[0m in \u001b[0;36mgenerate_hourly_forecast\u001b[0;34m(num_pred_hours, consumption, model, scaler, lag, batch_size)\u001b[0m\n\u001b[1;32m     24\u001b[0m \u001b[0;34m\u001b[0m\u001b[0m\n\u001b[1;32m     25\u001b[0m     \u001b[0;31m# revert scale back to original range\u001b[0m\u001b[0;34m\u001b[0m\u001b[0;34m\u001b[0m\u001b[0m\n\u001b[0;32m---> 26\u001b[0;31m     \u001b[0mhourly_preds\u001b[0m \u001b[0;34m=\u001b[0m \u001b[0mscaler\u001b[0m\u001b[0;34m.\u001b[0m\u001b[0minverse_transform\u001b[0m\u001b[0;34m(\u001b[0m\u001b[0mpreds_scaled\u001b[0m\u001b[0;34m.\u001b[0m\u001b[0mreshape\u001b[0m\u001b[0;34m(\u001b[0m\u001b[0;34m-\u001b[0m\u001b[0;36m1\u001b[0m\u001b[0;34m,\u001b[0m \u001b[0;36m1\u001b[0m\u001b[0;34m)\u001b[0m\u001b[0;34m)\u001b[0m\u001b[0;34m.\u001b[0m\u001b[0mravel\u001b[0m\u001b[0;34m(\u001b[0m\u001b[0;34m)\u001b[0m\u001b[0;34m\u001b[0m\u001b[0m\n\u001b[0m\u001b[1;32m     27\u001b[0m     \u001b[0;32mreturn\u001b[0m \u001b[0mhourly_preds\u001b[0m\u001b[0;34m\u001b[0m\u001b[0m\n",
      "\u001b[0;32m~/anaconda3/envs/tensorflow_p36/lib/python3.6/site-packages/sklearn/preprocessing/data.py\u001b[0m in \u001b[0;36minverse_transform\u001b[0;34m(self, X)\u001b[0m\n\u001b[1;32m    383\u001b[0m         \u001b[0mX\u001b[0m \u001b[0;34m=\u001b[0m \u001b[0mcheck_array\u001b[0m\u001b[0;34m(\u001b[0m\u001b[0mX\u001b[0m\u001b[0;34m,\u001b[0m \u001b[0mcopy\u001b[0m\u001b[0;34m=\u001b[0m\u001b[0mself\u001b[0m\u001b[0;34m.\u001b[0m\u001b[0mcopy\u001b[0m\u001b[0;34m,\u001b[0m \u001b[0mdtype\u001b[0m\u001b[0;34m=\u001b[0m\u001b[0mFLOAT_DTYPES\u001b[0m\u001b[0;34m)\u001b[0m\u001b[0;34m\u001b[0m\u001b[0m\n\u001b[1;32m    384\u001b[0m \u001b[0;34m\u001b[0m\u001b[0m\n\u001b[0;32m--> 385\u001b[0;31m         \u001b[0mX\u001b[0m \u001b[0;34m-=\u001b[0m \u001b[0mself\u001b[0m\u001b[0;34m.\u001b[0m\u001b[0mmin_\u001b[0m\u001b[0;34m\u001b[0m\u001b[0m\n\u001b[0m\u001b[1;32m    386\u001b[0m         \u001b[0mX\u001b[0m \u001b[0;34m/=\u001b[0m \u001b[0mself\u001b[0m\u001b[0;34m.\u001b[0m\u001b[0mscale_\u001b[0m\u001b[0;34m\u001b[0m\u001b[0m\n\u001b[1;32m    387\u001b[0m         \u001b[0;32mreturn\u001b[0m \u001b[0mX\u001b[0m\u001b[0;34m\u001b[0m\u001b[0m\n",
      "\u001b[0;31mValueError\u001b[0m: non-broadcastable output operand with shape (336,1) doesn't match the broadcast shape (336,4)"
     ]
    }
   ],
   "source": [
    "# make hourly forecasts for duration of pred window\n",
    "preds = generate_hourly_forecast(num_pred_hours, series_data, model, scaler, lag, batch_size)"
   ]
  },
  {
   "cell_type": "code",
   "execution_count": 125,
   "metadata": {},
   "outputs": [],
   "source": [
    "n_features = 4*(lag+1)-1\n",
    "preds_scaled=np.zeros(num_pred_hours)"
   ]
  },
  {
   "cell_type": "code",
   "execution_count": 127,
   "metadata": {},
   "outputs": [],
   "source": [
    "X = scaler.transform(series_data.values).reshape(-1,1)[-1*n_features:]"
   ]
  },
  {
   "cell_type": "code",
   "execution_count": 130,
   "metadata": {},
   "outputs": [],
   "source": [
    "for i in range(num_pred_hours):\n",
    "    # predict scaled value for next time step\n",
    "    yhat = model.predict(X.reshape(1, 1, n_features), batch_size=batch_size)[0][0]\n",
    "    preds_scaled[i] = yhat\n",
    "\n",
    "    # update X to be latest data plus prediction\n",
    "    X = pd.Series(X.ravel()).shift(-1).fillna(yhat).values"
   ]
  },
  {
   "cell_type": "code",
   "execution_count": 147,
   "metadata": {
    "collapsed": true
   },
   "outputs": [
    {
     "data": {
      "text/plain": [
       "array([3.58686987e+05, 3.18350664e+01, 2.00975984e-01, 9.31350887e-02,\n",
       "       3.52887381e+05, 3.23877711e+01, 1.84883326e-01, 8.87885988e-02,\n",
       "       3.39602242e+05, 3.29352040e+01, 1.60844445e-01, 7.54670799e-02,\n",
       "       3.46658467e+05, 3.31431204e+01, 1.47373289e-01, 7.65925348e-02,\n",
       "       3.39467100e+05, 3.29487356e+01, 1.36422098e-01, 6.77619874e-02,\n",
       "       3.44388570e+05, 3.33860575e+01, 1.60774469e-01, 7.69790411e-02,\n",
       "       3.62403676e+05, 3.27651549e+01, 1.59249842e-01, 8.38854611e-02,\n",
       "       3.69197458e+05, 3.12200510e+01, 1.43252730e-01, 8.44017565e-02,\n",
       "       3.83290315e+05, 2.98089233e+01, 1.33171648e-01, 1.02551818e-01,\n",
       "       3.49774766e+05, 2.97956596e+01, 1.48936987e-01, 9.44820046e-02,\n",
       "       2.98409418e+05, 2.74448308e+01, 1.08702987e-01, 7.01291561e-02,\n",
       "       2.88280264e+05, 2.55034271e+01, 1.13348454e-01, 6.59063160e-02,\n",
       "       3.06757900e+05, 3.14278439e+01, 3.54937404e-01, 1.09431326e-01,\n",
       "       3.18831780e+05, 3.22405422e+01, 3.20449680e-01, 9.55317020e-02,\n",
       "       3.13796266e+05, 3.23039064e+01, 2.57191062e-01, 8.15925896e-02,\n",
       "       3.20976713e+05, 3.21696025e+01, 2.32008278e-01, 9.25803781e-02,\n",
       "       3.14788543e+05, 3.14451340e+01, 2.12359130e-01, 8.87523592e-02,\n",
       "       3.18107145e+05, 3.15228706e+01, 2.57788330e-01, 1.01756692e-01,\n",
       "       3.35369275e+05, 3.11365468e+01, 2.60804057e-01, 1.19833857e-01,\n",
       "       3.42140730e+05, 3.01881272e+01, 2.45844334e-01, 1.30109370e-01,\n",
       "       3.45370569e+05, 2.90536372e+01, 2.26031393e-01, 1.54566497e-01,\n",
       "       3.07387362e+05, 2.83540618e+01, 2.45040298e-01, 1.30989790e-01,\n",
       "       2.66302643e+05, 2.57228271e+01, 1.87702209e-01, 1.03469908e-01,\n",
       "       2.61704245e+05, 2.53410755e+01, 2.31229305e-01, 9.70778167e-02,\n",
       "       2.76035630e+05, 3.13653205e+01, 4.76642251e-01, 1.18329555e-01,\n",
       "       2.99249410e+05, 3.24296671e+01, 4.09177512e-01, 9.98393893e-02,\n",
       "       2.99420615e+05, 3.19982666e+01, 3.07713419e-01, 9.39467549e-02,\n",
       "       3.05046458e+05, 3.13470777e+01, 2.67817348e-01, 1.18864119e-01,\n",
       "       2.98079632e+05, 2.98518605e+01, 2.45945275e-01, 1.20430976e-01,\n",
       "       2.97679473e+05, 2.97231600e+01, 3.24477673e-01, 1.45349860e-01,\n",
       "       3.12767395e+05, 3.00739424e+01, 3.43920156e-01, 1.69697016e-01,\n",
       "       3.19002769e+05, 2.95941250e+01, 3.31305534e-01, 1.81608409e-01,\n",
       "       3.15311393e+05, 2.83994164e+01, 2.98464477e-01, 1.97160006e-01,\n",
       "       2.74483065e+05, 2.66945922e+01, 3.06836575e-01, 1.55657172e-01,\n",
       "       2.46630875e+05, 2.41735306e+01, 2.44935006e-01, 1.21975213e-01,\n",
       "       2.45840468e+05, 2.50476320e+01, 3.37768793e-01, 1.21013999e-01,\n",
       "       2.53969553e+05, 3.12719583e+01, 5.48870273e-01, 1.47939384e-01,\n",
       "       2.86730743e+05, 3.25358398e+01, 4.38378870e-01, 1.21014029e-01,\n",
       "       2.92301822e+05, 3.16685354e+01, 3.11081380e-01, 1.19945168e-01,\n",
       "       2.96047057e+05, 3.01670350e+01, 2.59240776e-01, 1.57171428e-01,\n",
       "       2.85668909e+05, 2.77653090e+01, 2.53294349e-01, 1.66768640e-01,\n",
       "       2.78489962e+05, 2.77112625e+01, 3.78717832e-01, 2.15561897e-01,\n",
       "       2.90414610e+05, 2.90815175e+01, 4.20089751e-01, 2.29699075e-01,\n",
       "       2.98177092e+05, 2.92478681e+01, 3.98401633e-01, 2.27664411e-01,\n",
       "       2.91809954e+05, 2.78365517e+01, 3.49634320e-01, 2.24581927e-01,\n",
       "       2.53628882e+05, 2.50875404e+01, 3.33066419e-01, 1.76512808e-01,\n",
       "       2.35301538e+05, 2.31329827e+01, 2.72096902e-01, 1.42000675e-01,\n",
       "       2.36897782e+05, 2.48660031e+01, 4.30016309e-01, 1.75085872e-01,\n",
       "       2.41894871e+05, 3.13331039e+01, 5.84349222e-01, 1.88048750e-01,\n",
       "       2.78667997e+05, 3.25395878e+01, 4.32652541e-01, 1.42270237e-01,\n",
       "       2.91315269e+05, 3.12808355e+01, 2.79552698e-01, 1.46665007e-01,\n",
       "       2.93974019e+05, 2.85320400e+01, 2.23218948e-01, 1.98140293e-01,\n",
       "       2.76721620e+05, 2.52391680e+01, 2.46868372e-01, 2.29205698e-01,\n",
       "       2.60098212e+05, 2.56507546e+01, 4.56280183e-01, 3.06370720e-01,\n",
       "       2.66622121e+05, 2.83229801e+01, 5.06018028e-01, 2.89208755e-01,\n",
       "       2.78717116e+05, 2.92648341e+01, 4.52779535e-01, 2.51418471e-01,\n",
       "       2.75797770e+05, 2.75019282e+01, 3.73510092e-01, 2.31550187e-01,\n",
       "       2.45180160e+05, 2.37120627e+01, 3.12128246e-01, 1.95272863e-01,\n",
       "       2.33353393e+05, 2.24062223e+01, 2.82463968e-01, 1.78116232e-01,\n",
       "       2.34284158e+05, 2.47747660e+01, 5.09773962e-01, 2.51555413e-01,\n",
       "       2.37259789e+05, 3.15074650e+01, 6.11737452e-01, 2.31867403e-01,\n",
       "       2.75219519e+05, 3.26049313e+01, 4.17457595e-01, 1.52424723e-01,\n",
       "       2.98953146e+05, 3.09133439e+01, 2.31353343e-01, 1.68734103e-01,\n",
       "       2.99166872e+05, 2.65518223e+01, 1.72315747e-01, 2.48157978e-01,\n",
       "       2.71303114e+05, 2.25725586e+01, 2.37868428e-01, 3.18494499e-01,\n",
       "       2.44415473e+05, 2.37413836e+01, 5.60871415e-01, 4.11532268e-01,\n",
       "       2.45168703e+05, 2.80800581e+01, 6.05488054e-01, 3.35106924e-01,\n",
       "       2.62438231e+05, 2.98919519e+01, 4.92155626e-01, 2.37873048e-01,\n",
       "       2.69115760e+05, 2.75521569e+01, 3.60184804e-01, 2.10909575e-01,\n",
       "       2.46355231e+05, 2.24501842e+01, 2.20287293e-01, 1.95863128e-01,\n",
       "       2.36211261e+05, 2.18233833e+01, 2.70411253e-01, 2.29849696e-01,\n",
       "       2.33350118e+05, 2.45175778e+01, 5.86123578e-01, 3.38323310e-01,\n",
       "       2.35478754e+05, 3.16459535e+01, 6.44019306e-01, 2.65202999e-01,\n",
       "       2.73954540e+05, 3.27989048e+01, 3.96564186e-01, 1.44061595e-01,\n",
       "       3.13811983e+05, 3.08624373e+01, 1.81782007e-01, 1.87208772e-01,\n",
       "       3.11469509e+05, 2.42757695e+01, 1.20695204e-01, 3.28319490e-01,\n",
       "       2.73374329e+05, 2.09833064e+01, 2.47132033e-01, 4.44598876e-01,\n",
       "       2.35387522e+05, 2.23494858e+01, 6.62006557e-01, 4.89219077e-01,\n",
       "       2.27163346e+05, 2.84024242e+01, 7.04517812e-01, 3.46973881e-01,\n",
       "       2.50459664e+05, 3.11317656e+01, 5.14705718e-01, 1.73574388e-01,\n",
       "       2.71271636e+05, 2.80030119e+01, 2.95892388e-01, 1.52828723e-01,\n",
       "       2.54281258e+05, 2.14798674e+01, 1.36442542e-01, 1.87641293e-01,\n",
       "       2.39155220e+05, 2.13287664e+01, 2.37487197e-01, 3.09832260e-01,\n",
       "       2.33094719e+05, 2.39353560e+01, 6.59985006e-01, 4.28476900e-01])"
      ]
     },
     "execution_count": 147,
     "metadata": {},
     "output_type": "execute_result"
    }
   ],
   "source": [
    "scaler.inverse_transform(preds_scaled.reshape(-1,4))"
   ]
  },
  {
   "cell_type": "code",
   "execution_count": 137,
   "metadata": {},
   "outputs": [
    {
     "data": {
      "text/plain": [
       "(96, 4)"
      ]
     },
     "execution_count": 137,
     "metadata": {},
     "output_type": "execute_result"
    }
   ],
   "source": [
    "series_data.shape"
   ]
  },
  {
   "cell_type": "code",
   "execution_count": 131,
   "metadata": {},
   "outputs": [
    {
     "data": {
      "text/plain": [
       "(51,)"
      ]
     },
     "execution_count": 131,
     "metadata": {},
     "output_type": "execute_result"
    }
   ],
   "source": [
    "X.shape"
   ]
  },
  {
   "cell_type": "code",
   "execution_count": 113,
   "metadata": {},
   "outputs": [],
   "source": [
    "def generate_hourly_forecast(num_pred_hours, consumption, model, scaler, lag, batch_size):\n",
    "    \"\"\" Uses last hour's prediction to generate next for num_pred_hours, \n",
    "        initialized by most recent cold start prediction. Inverts scale of \n",
    "        predictions before return.\n",
    "    \"\"\"\n",
    "    # indicate number of features\n",
    "    n_features = 4*(lag+1)-1\n",
    "    \n",
    "   # allocate prediction frame\n",
    "    preds_scaled = np.zeros(num_pred_hours)\n",
    "    \n",
    "    # initial X is last lag values from the cold start\n",
    "#     X = scaler.transform(consumption.values)[-lag:]\n",
    "    X = scaler.transform(consumption.values).reshape(-1,1)[-1*n_features:]\n",
    "    \n",
    "    # forecast\n",
    "    for i in range(num_pred_hours):\n",
    "        # predict scaled value for next time step\n",
    "        yhat = model.predict(X.reshape(1, 1, n_features), batch_size=batch_size)[0][0]\n",
    "        preds_scaled[i] = yhat\n",
    "        \n",
    "        # update X to be latest data plus prediction\n",
    "        X = pd.Series(X.ravel()).shift(-1).fillna(yhat).values\n",
    "\n",
    "    # revert scale back to original range\n",
    "    hourly_preds = scaler.inverse_transform(preds_scaled.reshape(-1, 4)).ravel()\n",
    "    return hourly_preds"
   ]
  },
  {
   "cell_type": "markdown",
   "metadata": {},
   "source": [
    "How to ravel....and fit in proper shape"
   ]
  },
  {
   "cell_type": "markdown",
   "metadata": {},
   "source": [
    "-------"
   ]
  },
  {
   "cell_type": "markdown",
   "metadata": {},
   "source": [
    "------"
   ]
  },
  {
   "cell_type": "code",
   "execution_count": null,
   "metadata": {},
   "outputs": [],
   "source": [
    "%%time\n",
    "pred_window_to_num_preds = {'hourly': 24, 'daily': 7, 'weekly': 2}\n",
    "pred_window_to_num_pred_hours = {'hourly': 24, 'daily': 7 * 24, 'weekly': 2 * 7 * 24}\n",
    "\n",
    "num_test_series = my_submission.series_id.nunique()\n",
    "\n",
    "model.reset_states()\n",
    "\n",
    "for ser_id, pred_df in tqdm(my_submission.groupby('series_id'), \n",
    "                            total=num_test_series, \n",
    "                            desc=\"Forecasting from Cold Start Data\"):\n",
    "        \n",
    "    # get info about this series' prediction window\n",
    "    pred_window = pred_df.prediction_window.unique()[0]\n",
    "    num_preds = pred_window_to_num_preds[pred_window]\n",
    "    num_pred_hours = pred_window_to_num_pred_hours[pred_window]\n",
    "    \n",
    "    # prepare cold start data\n",
    "    series_data = consumption_test[consumption_test.series_id == ser_id].consumption\n",
    "    cold_X, cold_y, scaler = prepare_training_data(series_data, lag)\n",
    "    \n",
    "    # fine tune our lstm model to this site using cold start data    \n",
    "    model.fit(cold_X, cold_y, epochs=1, batch_size=batch_size, verbose=0, shuffle=False)\n",
    "    \n",
    "    # make hourly forecasts for duration of pred window\n",
    "    preds = generate_hourly_forecast(num_pred_hours, series_data, model, scaler, lag)\n",
    "    \n",
    "    # reduce by taking sum over each sub window in pred window\n",
    "    reduced_preds = [pred.sum() for pred in np.split(preds, num_preds)]\n",
    "    \n",
    "    # store result in submission DataFrame\n",
    "    ser_id_mask = my_submission.series_id == ser_id\n",
    "    my_submission.loc[ser_id_mask, 'consumption'] = reduced_preds"
   ]
  },
  {
   "cell_type": "code",
   "execution_count": 56,
   "metadata": {
    "collapsed": true
   },
   "outputs": [
    {
     "name": "stderr",
     "output_type": "stream",
     "text": [
      "\n",
      "Learning Consumption Trends - Epochs:   0%|          | 0/20 [00:00<?, ?it/s]\u001b[A"
     ]
    },
    {
     "name": "stdout",
     "output_type": "stream",
     "text": [
      "Epoch 1/1\n",
      "660/660 [==============================] - 1s 1ms/step - loss: 0.3047\n",
      "Epoch 1/1\n",
      "660/660 [==============================] - 0s 363us/step - loss: 0.3714\n",
      "Epoch 1/1\n",
      "660/660 [==============================] - 0s 359us/step - loss: 0.4232\n",
      "Epoch 1/1\n",
      "660/660 [==============================] - 0s 361us/step - loss: 0.2563\n",
      "Epoch 1/1\n",
      "660/660 [==============================] - 0s 364us/step - loss: 0.2400\n",
      "Epoch 1/1\n",
      "660/660 [==============================] - 0s 358us/step - loss: 0.2395\n",
      "Epoch 1/1\n",
      "660/660 [==============================] - 0s 358us/step - loss: 0.2871\n",
      "Epoch 1/1\n",
      "  4/660 [..............................] - ETA: 0s - loss: 0.2668"
     ]
    },
    {
     "ename": "KeyboardInterrupt",
     "evalue": "",
     "output_type": "error",
     "traceback": [
      "\u001b[0;31m---------------------------------------------------------------------------\u001b[0m",
      "\u001b[0;31mKeyboardInterrupt\u001b[0m                         Traceback (most recent call last)",
      "\u001b[0;32m<ipython-input-56-3e1c41f400af>\u001b[0m in \u001b[0;36m<module>\u001b[0;34m()\u001b[0m\n\u001b[1;32m      3\u001b[0m \u001b[0;34m\u001b[0m\u001b[0m\n\u001b[1;32m      4\u001b[0m \u001b[0;31m# fit model on training data\u001b[0m\u001b[0;34m\u001b[0m\u001b[0;34m\u001b[0m\u001b[0m\n\u001b[0;32m----> 5\u001b[0;31m \u001b[0mmodel\u001b[0m \u001b[0;34m=\u001b[0m \u001b[0mfit_model\u001b[0m\u001b[0;34m(\u001b[0m\u001b[0mmodel\u001b[0m\u001b[0;34m,\u001b[0m \u001b[0mconsumption_train\u001b[0m\u001b[0;34m,\u001b[0m \u001b[0mn_epochs\u001b[0m\u001b[0;34m=\u001b[0m\u001b[0mn_epochs\u001b[0m\u001b[0;34m,\u001b[0m \u001b[0mbatch_size\u001b[0m\u001b[0;34m=\u001b[0m\u001b[0mbatch_size\u001b[0m\u001b[0;34m)\u001b[0m\u001b[0;34m\u001b[0m\u001b[0m\n\u001b[0m",
      "\u001b[0;32m<ipython-input-39-5f51815b3934>\u001b[0m in \u001b[0;36mfit_model\u001b[0;34m(model, train_data, n_epochs, batch_size)\u001b[0m\n\u001b[1;32m     10\u001b[0m             \u001b[0mX\u001b[0m\u001b[0;34m,\u001b[0m \u001b[0my\u001b[0m\u001b[0;34m,\u001b[0m \u001b[0mscaler\u001b[0m \u001b[0;34m=\u001b[0m \u001b[0mprepare_training_data\u001b[0m\u001b[0;34m(\u001b[0m\u001b[0mser_data\u001b[0m\u001b[0;34m.\u001b[0m\u001b[0mconsumption\u001b[0m\u001b[0;34m,\u001b[0m \u001b[0mlag\u001b[0m\u001b[0;34m)\u001b[0m\u001b[0;34m\u001b[0m\u001b[0m\n\u001b[1;32m     11\u001b[0m             \u001b[0;31m#fit the model\u001b[0m\u001b[0;34m\u001b[0m\u001b[0;34m\u001b[0m\u001b[0m\n\u001b[0;32m---> 12\u001b[0;31m             \u001b[0mmodel\u001b[0m\u001b[0;34m.\u001b[0m\u001b[0mfit\u001b[0m\u001b[0;34m(\u001b[0m\u001b[0mX\u001b[0m\u001b[0;34m,\u001b[0m \u001b[0my\u001b[0m\u001b[0;34m,\u001b[0m \u001b[0mepochs\u001b[0m\u001b[0;34m=\u001b[0m\u001b[0;36m1\u001b[0m\u001b[0;34m,\u001b[0m \u001b[0mbatch_size\u001b[0m\u001b[0;34m=\u001b[0m\u001b[0mbatch_size\u001b[0m\u001b[0;34m,\u001b[0m \u001b[0mverbose\u001b[0m\u001b[0;34m=\u001b[0m\u001b[0;36m1\u001b[0m\u001b[0;34m,\u001b[0m \u001b[0mshuffle\u001b[0m\u001b[0;34m=\u001b[0m\u001b[0;32mFalse\u001b[0m\u001b[0;34m)\u001b[0m\u001b[0;34m\u001b[0m\u001b[0m\n\u001b[0m\u001b[1;32m     13\u001b[0m \u001b[0;31m#             model.fit(X, y, epochs=1, batch_input_shape=(n_batch, train_X.shape[1], train_X.shape[2]),\u001b[0m\u001b[0;34m\u001b[0m\u001b[0;34m\u001b[0m\u001b[0m\n\u001b[1;32m     14\u001b[0m \u001b[0;31m#                       verbose=1, shuffle=False)\u001b[0m\u001b[0;34m\u001b[0m\u001b[0;34m\u001b[0m\u001b[0m\n",
      "\u001b[0;32m~/anaconda3/envs/tensorflow_p36/lib/python3.6/site-packages/keras/engine/training.py\u001b[0m in \u001b[0;36mfit\u001b[0;34m(self, x, y, batch_size, epochs, verbose, callbacks, validation_split, validation_data, shuffle, class_weight, sample_weight, initial_epoch, steps_per_epoch, validation_steps, **kwargs)\u001b[0m\n\u001b[1;32m   1035\u001b[0m                                         \u001b[0minitial_epoch\u001b[0m\u001b[0;34m=\u001b[0m\u001b[0minitial_epoch\u001b[0m\u001b[0;34m,\u001b[0m\u001b[0;34m\u001b[0m\u001b[0m\n\u001b[1;32m   1036\u001b[0m                                         \u001b[0msteps_per_epoch\u001b[0m\u001b[0;34m=\u001b[0m\u001b[0msteps_per_epoch\u001b[0m\u001b[0;34m,\u001b[0m\u001b[0;34m\u001b[0m\u001b[0m\n\u001b[0;32m-> 1037\u001b[0;31m                                         validation_steps=validation_steps)\n\u001b[0m\u001b[1;32m   1038\u001b[0m \u001b[0;34m\u001b[0m\u001b[0m\n\u001b[1;32m   1039\u001b[0m     def evaluate(self, x=None, y=None,\n",
      "\u001b[0;32m~/anaconda3/envs/tensorflow_p36/lib/python3.6/site-packages/keras/engine/training_arrays.py\u001b[0m in \u001b[0;36mfit_loop\u001b[0;34m(model, f, ins, out_labels, batch_size, epochs, verbose, callbacks, val_f, val_ins, shuffle, callback_metrics, initial_epoch, steps_per_epoch, validation_steps)\u001b[0m\n\u001b[1;32m    197\u001b[0m                     \u001b[0mins_batch\u001b[0m\u001b[0;34m[\u001b[0m\u001b[0mi\u001b[0m\u001b[0;34m]\u001b[0m \u001b[0;34m=\u001b[0m \u001b[0mins_batch\u001b[0m\u001b[0;34m[\u001b[0m\u001b[0mi\u001b[0m\u001b[0;34m]\u001b[0m\u001b[0;34m.\u001b[0m\u001b[0mtoarray\u001b[0m\u001b[0;34m(\u001b[0m\u001b[0;34m)\u001b[0m\u001b[0;34m\u001b[0m\u001b[0m\n\u001b[1;32m    198\u001b[0m \u001b[0;34m\u001b[0m\u001b[0m\n\u001b[0;32m--> 199\u001b[0;31m                 \u001b[0mouts\u001b[0m \u001b[0;34m=\u001b[0m \u001b[0mf\u001b[0m\u001b[0;34m(\u001b[0m\u001b[0mins_batch\u001b[0m\u001b[0;34m)\u001b[0m\u001b[0;34m\u001b[0m\u001b[0m\n\u001b[0m\u001b[1;32m    200\u001b[0m                 \u001b[0mouts\u001b[0m \u001b[0;34m=\u001b[0m \u001b[0mto_list\u001b[0m\u001b[0;34m(\u001b[0m\u001b[0mouts\u001b[0m\u001b[0;34m)\u001b[0m\u001b[0;34m\u001b[0m\u001b[0m\n\u001b[1;32m    201\u001b[0m                 \u001b[0;32mfor\u001b[0m \u001b[0ml\u001b[0m\u001b[0;34m,\u001b[0m \u001b[0mo\u001b[0m \u001b[0;32min\u001b[0m \u001b[0mzip\u001b[0m\u001b[0;34m(\u001b[0m\u001b[0mout_labels\u001b[0m\u001b[0;34m,\u001b[0m \u001b[0mouts\u001b[0m\u001b[0;34m)\u001b[0m\u001b[0;34m:\u001b[0m\u001b[0;34m\u001b[0m\u001b[0m\n",
      "\u001b[0;32m~/anaconda3/envs/tensorflow_p36/lib/python3.6/site-packages/keras/backend/tensorflow_backend.py\u001b[0m in \u001b[0;36m__call__\u001b[0;34m(self, inputs)\u001b[0m\n\u001b[1;32m   2664\u001b[0m                 \u001b[0;32mreturn\u001b[0m \u001b[0mself\u001b[0m\u001b[0;34m.\u001b[0m\u001b[0m_legacy_call\u001b[0m\u001b[0;34m(\u001b[0m\u001b[0minputs\u001b[0m\u001b[0;34m)\u001b[0m\u001b[0;34m\u001b[0m\u001b[0m\n\u001b[1;32m   2665\u001b[0m \u001b[0;34m\u001b[0m\u001b[0m\n\u001b[0;32m-> 2666\u001b[0;31m             \u001b[0;32mreturn\u001b[0m \u001b[0mself\u001b[0m\u001b[0;34m.\u001b[0m\u001b[0m_call\u001b[0m\u001b[0;34m(\u001b[0m\u001b[0minputs\u001b[0m\u001b[0;34m)\u001b[0m\u001b[0;34m\u001b[0m\u001b[0m\n\u001b[0m\u001b[1;32m   2667\u001b[0m         \u001b[0;32melse\u001b[0m\u001b[0;34m:\u001b[0m\u001b[0;34m\u001b[0m\u001b[0m\n\u001b[1;32m   2668\u001b[0m             \u001b[0;32mif\u001b[0m \u001b[0mpy_any\u001b[0m\u001b[0;34m(\u001b[0m\u001b[0mis_tensor\u001b[0m\u001b[0;34m(\u001b[0m\u001b[0mx\u001b[0m\u001b[0;34m)\u001b[0m \u001b[0;32mfor\u001b[0m \u001b[0mx\u001b[0m \u001b[0;32min\u001b[0m \u001b[0minputs\u001b[0m\u001b[0;34m)\u001b[0m\u001b[0;34m:\u001b[0m\u001b[0;34m\u001b[0m\u001b[0m\n",
      "\u001b[0;32m~/anaconda3/envs/tensorflow_p36/lib/python3.6/site-packages/keras/backend/tensorflow_backend.py\u001b[0m in \u001b[0;36m_call\u001b[0;34m(self, inputs)\u001b[0m\n\u001b[1;32m   2634\u001b[0m                                 \u001b[0msymbol_vals\u001b[0m\u001b[0;34m,\u001b[0m\u001b[0;34m\u001b[0m\u001b[0m\n\u001b[1;32m   2635\u001b[0m                                 session)\n\u001b[0;32m-> 2636\u001b[0;31m         \u001b[0mfetched\u001b[0m \u001b[0;34m=\u001b[0m \u001b[0mself\u001b[0m\u001b[0;34m.\u001b[0m\u001b[0m_callable_fn\u001b[0m\u001b[0;34m(\u001b[0m\u001b[0;34m*\u001b[0m\u001b[0marray_vals\u001b[0m\u001b[0;34m)\u001b[0m\u001b[0;34m\u001b[0m\u001b[0m\n\u001b[0m\u001b[1;32m   2637\u001b[0m         \u001b[0;32mreturn\u001b[0m \u001b[0mfetched\u001b[0m\u001b[0;34m[\u001b[0m\u001b[0;34m:\u001b[0m\u001b[0mlen\u001b[0m\u001b[0;34m(\u001b[0m\u001b[0mself\u001b[0m\u001b[0;34m.\u001b[0m\u001b[0moutputs\u001b[0m\u001b[0;34m)\u001b[0m\u001b[0;34m]\u001b[0m\u001b[0;34m\u001b[0m\u001b[0m\n\u001b[1;32m   2638\u001b[0m \u001b[0;34m\u001b[0m\u001b[0m\n",
      "\u001b[0;32m~/anaconda3/envs/tensorflow_p36/lib/python3.6/site-packages/tensorflow/python/client/session.py\u001b[0m in \u001b[0;36m__call__\u001b[0;34m(self, *args, **kwargs)\u001b[0m\n\u001b[1;32m   1380\u001b[0m           ret = tf_session.TF_SessionRunCallable(\n\u001b[1;32m   1381\u001b[0m               \u001b[0mself\u001b[0m\u001b[0;34m.\u001b[0m\u001b[0m_session\u001b[0m\u001b[0;34m.\u001b[0m\u001b[0m_session\u001b[0m\u001b[0;34m,\u001b[0m \u001b[0mself\u001b[0m\u001b[0;34m.\u001b[0m\u001b[0m_handle\u001b[0m\u001b[0;34m,\u001b[0m \u001b[0margs\u001b[0m\u001b[0;34m,\u001b[0m \u001b[0mstatus\u001b[0m\u001b[0;34m,\u001b[0m\u001b[0;34m\u001b[0m\u001b[0m\n\u001b[0;32m-> 1382\u001b[0;31m               run_metadata_ptr)\n\u001b[0m\u001b[1;32m   1383\u001b[0m         \u001b[0;32mif\u001b[0m \u001b[0mrun_metadata\u001b[0m\u001b[0;34m:\u001b[0m\u001b[0;34m\u001b[0m\u001b[0m\n\u001b[1;32m   1384\u001b[0m           \u001b[0mproto_data\u001b[0m \u001b[0;34m=\u001b[0m \u001b[0mtf_session\u001b[0m\u001b[0;34m.\u001b[0m\u001b[0mTF_GetBuffer\u001b[0m\u001b[0;34m(\u001b[0m\u001b[0mrun_metadata_ptr\u001b[0m\u001b[0;34m)\u001b[0m\u001b[0;34m\u001b[0m\u001b[0m\n",
      "\u001b[0;31mKeyboardInterrupt\u001b[0m: "
     ]
    }
   ],
   "source": [
    "# set up model architecture\n",
    "model = set_model_basic(lag=lag, num_neurons=num_neurons, batch_size=batch_size)\n",
    "\n",
    "# fit model on training data\n",
    "model = fit_model(model, consumption_train, n_epochs=n_epochs, batch_size=batch_size)"
   ]
  },
  {
   "cell_type": "code",
   "execution_count": null,
   "metadata": {},
   "outputs": [],
   "source": []
  },
  {
   "cell_type": "code",
   "execution_count": null,
   "metadata": {},
   "outputs": [],
   "source": []
  },
  {
   "cell_type": "code",
   "execution_count": 30,
   "metadata": {},
   "outputs": [
    {
     "name": "stderr",
     "output_type": "stream",
     "text": [
      "Forecasting from Cold Start Data: 100%|██████████| 625/625 [13:19<00:00,  1.28s/it]\n"
     ]
    }
   ],
   "source": [
    "# copy submission format and fill in values\n",
    "my_submission = submission_format.copy()\n",
    "model, my_submission = generate_complete_forecast(model, consumption_test, my_submission, lag=lag, batch_size=batch_size)"
   ]
  },
  {
   "cell_type": "code",
   "execution_count": 31,
   "metadata": {},
   "outputs": [
    {
     "data": {
      "text/plain": [
       "count    5.808000e+03\n",
       "mean     1.661096e+05\n",
       "std      6.193884e+05\n",
       "min     -3.393037e+04\n",
       "25%      1.511113e+04\n",
       "50%      3.704044e+04\n",
       "75%      9.533242e+04\n",
       "max      5.095149e+06\n",
       "Name: consumption, dtype: float64"
      ]
     },
     "execution_count": 31,
     "metadata": {},
     "output_type": "execute_result"
    }
   ],
   "source": [
    "my_submission[my_submission.prediction_window == 'hourly'].consumption.describe()"
   ]
  },
  {
   "cell_type": "code",
   "execution_count": 32,
   "metadata": {},
   "outputs": [
    {
     "data": {
      "text/plain": [
       "count    1.337000e+03\n",
       "mean     3.406911e+06\n",
       "std      9.819808e+06\n",
       "min     -1.137587e+04\n",
       "25%      4.271856e+05\n",
       "50%      9.248156e+05\n",
       "75%      2.730388e+06\n",
       "max      1.156378e+08\n",
       "Name: consumption, dtype: float64"
      ]
     },
     "execution_count": 32,
     "metadata": {},
     "output_type": "execute_result"
    }
   ],
   "source": [
    "my_submission[my_submission.prediction_window == 'daily'].consumption.describe()"
   ]
  },
  {
   "cell_type": "code",
   "execution_count": 33,
   "metadata": {},
   "outputs": [
    {
     "data": {
      "text/plain": [
       "count    3.840000e+02\n",
       "mean     2.435026e+07\n",
       "std      6.639902e+07\n",
       "min     -1.357406e+06\n",
       "25%      2.819529e+06\n",
       "50%      7.594946e+06\n",
       "75%      2.026643e+07\n",
       "max      7.481041e+08\n",
       "Name: consumption, dtype: float64"
      ]
     },
     "execution_count": 33,
     "metadata": {},
     "output_type": "execute_result"
    }
   ],
   "source": [
    "my_submission[my_submission.prediction_window == 'weekly'].consumption.describe()"
   ]
  },
  {
   "cell_type": "code",
   "execution_count": 36,
   "metadata": {},
   "outputs": [],
   "source": [
    "my_submission.loc[my_submission.consumption<0,'consumption']=0"
   ]
  },
  {
   "cell_type": "code",
   "execution_count": 37,
   "metadata": {},
   "outputs": [
    {
     "data": {
      "text/plain": [
       "<matplotlib.axes._subplots.AxesSubplot at 0x1a23a31080>"
      ]
     },
     "execution_count": 37,
     "metadata": {},
     "output_type": "execute_result"
    },
    {
     "data": {
      "image/png": "[encoded data removed]",
      "text/plain": [
       "<matplotlib.figure.Figure at 0x1a23a31da0>"
      ]
     },
     "metadata": {},
     "output_type": "display_data"
    }
   ],
   "source": [
    "# plot samples\n",
    "sample_ser = (my_submission[my_submission.prediction_window == 'hourly']\n",
    "                           .series_id\n",
    "                           .sample().values[0])\n",
    "\n",
    "(my_submission[my_submission.series_id == sample_ser]\n",
    "              .plot(x='timestamp',\n",
    "                    y='consumption',\n",
    "                    title=sample_ser,\n",
    "                    rot=90))"
   ]
  },
  {
   "cell_type": "code",
   "execution_count": 38,
   "metadata": {},
   "outputs": [],
   "source": [
    "my_submission.iloc[:,:-1].to_csv(\"submissions/my_submmission_20181001_2.csv\", index_label='pred_id')"
   ]
  },
  {
   "cell_type": "code",
   "execution_count": null,
   "metadata": {},
   "outputs": [],
   "source": []
  },
  {
   "cell_type": "code",
   "execution_count": null,
   "metadata": {},
   "outputs": [],
   "source": []
  },
  {
   "cell_type": "markdown",
   "metadata": {},
   "source": [
    "-------"
   ]
  },
  {
   "cell_type": "code",
   "execution_count": 156,
   "metadata": {},
   "outputs": [],
   "source": [
    "def create_train_test(train_size, test_size, data, limit=5800):\n",
    "    train = data[:train_size]\n",
    "    test  = data[train_size:limit]\n",
    "    scaler = MinMaxScaler(feature_range=(0,1))\n",
    "    scaler.fit(train)\n",
    "    train = scaler.transform(train)\n",
    "    test = scaler.transform(test)\n",
    "    return scaler, train, test"
   ]
  },
  {
   "cell_type": "code",
   "execution_count": 157,
   "metadata": {},
   "outputs": [],
   "source": [
    "def split_train_test(train, test):\n",
    "    # Split into input and outputs \n",
    "    train_X, train_y = train[:,:-5], train[:,-5:]\n",
    "    test_X, test_y = test[:, :-5], test[:, -5:]\n",
    "    # LSTM requires 3D data sets: [samples, timesteps, features]\n",
    "    total_features = train_X.shape[1]\n",
    "    train_X = train_X.reshape(train_X.shape[0],7,int(total_features/7))\n",
    "    test_X = test_X.reshape(test_X.shape[0], 7,int(total_features/7))\n",
    "    print(train_X.shape, train_y.shape, test_X.shape, test_y.shape)\n",
    "    \n",
    "    return train_X, train_y, test_X, test_y"
   ]
  },
  {
   "cell_type": "code",
   "execution_count": 60,
   "metadata": {},
   "outputs": [],
   "source": [
    "def fit_lstm(train_X, train_y, layers=3, n_batch=50, n_neurons=100, n_epochs=100, n_output=1, dropout=0):\n",
    "    model = Sequential()\n",
    "    model.add(LSTM(n_neurons, batch_input_shape=(n_batch, train_X.shape[1], train_X.shape[2]),\n",
    "                 stateful=True, activation='tanh', return_sequences=True))\n",
    "    for i in range(layers-2):\n",
    "        model.add(LSTM(n_neurons, stateful=True, activation='tanh', return_sequences=True, dropout=dropout))\n",
    "    model.add(LSTM(n_neurons, stateful=True, activation='relu', dropout=dropout))\n",
    "    model.add(Dense(n_output))\n",
    "    model.compile(loss='mse', optimizer='adam')\n",
    "    for i in range(int(train_X.shape[0] / n_batch)):\n",
    "        this_X = train_X[(i * n_batch):((i + 1) * n_batch)][:][:]\n",
    "        this_y = train_y[(i * n_batch):((i + 1) * n_batch)]\n",
    "        history = model.fit(this_X, this_y, epochs=n_epochs, \n",
    "                                    batch_size=n_batch, \n",
    "                                    verbose=1, shuffle=False)\n",
    "        model.reset_states()\n",
    "    return model, history, n_batch"
   ]
  },
  {
   "cell_type": "code",
   "execution_count": 61,
   "metadata": {},
   "outputs": [],
   "source": [
    "def evaluate_model(model, test_X, test_y, scaler, n_batch, n_samples=1):\n",
    "\n",
    "    y_pred = [test_X.shape[0]]\n",
    "    for i in range(int(test_X.shape[0] / n_batch)):\n",
    "        this_X = test_X[(i * n_batch):((i + 1) * n_batch)][:][:]\n",
    "        this_pred = model.predict(this_X, batch_size=n_batch)    \n",
    "        y_pred[(i * n_batch):((i + 1) * n_batch)] = [list(i) for i in this_pred]\n",
    "    \n",
    "    test_X_nn = test_X.reshape((test_X.shape[0], test_X.shape[1]*test_X.shape[2]))\n",
    "    # Invert scaling for forecast\n",
    "    inv_y_pred = np.concatenate((y_pred, test_X_nn[:, :]), axis=1)\n",
    "    inv_y_pred = scaler.inverse_transform(inv_y_pred)\n",
    "    inv_y_pred = inv_y_pred[:,:5]\n",
    "    inv_y_pred = np.round(np.maximum(inv_y_pred, 0))\n",
    "    # Invert scaling for actual\n",
    "    test_y_nn = test_y.reshape((len(test_y), 5))\n",
    "    inv_y = np.concatenate((test_y_nn, test_X_nn[:, :]), axis=1)\n",
    "    inv_y = scaler.inverse_transform(inv_y)\n",
    "    inv_y = inv_y[:,:5]\n",
    "    # print scores\n",
    "    print(inv_y_pred[:10])\n",
    "    print(inv_y[:10])\n",
    "    rmse = dict()\n",
    "    for i in range(n_samples):\n",
    "        rmse[i] = RMSE([m[i]/4 for m in inv_y], [n[i]/4 for n in inv_y_pred])\n",
    "        print('Test RMSE: %.3f' % rmse[i])\n",
    "    \n",
    "    return rmse, inv_y_pred, inv_y"
   ]
  },
  {
   "cell_type": "code",
   "execution_count": 62,
   "metadata": {},
   "outputs": [],
   "source": [
    "def append_prediction(df, prediction):\n",
    "    pred_df = df.iloc[-prediction.shape[0]-26:-26,:]\n",
    "#     pred_df = df.iloc[-prediction.shape[0]-33:-33,:]\n",
    "    for i in range(prediction.shape[1]):\n",
    "        pred_df['prediction{}'.format(i)] = [x[i] for x in prediction]\n",
    "    return pred_df"
   ]
  },
  {
   "cell_type": "code",
   "execution_count": 63,
   "metadata": {},
   "outputs": [],
   "source": [
    "def append_baseline(data, n_samples):\n",
    "    baseline = dict()\n",
    "    for i in range(n_samples):\n",
    "        baseline[i] = data.iloc[:5100,:].groupby(['hour'])['swaps{}'.format(i)].quantile(.75)\n",
    "        baseline[i] = baseline[i].reset_index()\n",
    "        baseline[i].rename(columns={'swaps{}'.format(i):'baseline{}'.format(i)}, inplace=True)\n",
    "        data = data.merge(baseline[i], on='hour', how='left')\n",
    "    return data"
   ]
  },
  {
   "cell_type": "code",
   "execution_count": 64,
   "metadata": {},
   "outputs": [],
   "source": [
    "def plot_forecast_multi(data, range_lower=-700, range_upper=None, n_samples=1):\n",
    "    plt.subplots(n_samples, 1, figsize=(20,6*n_samples))\n",
    "    for i in range(n_samples):\n",
    "        plt.subplot(n_samples, 1, i+1)\n",
    "        plt.plot(data.iloc[range_lower:range_upper].index, np.round(data.iloc[range_lower:range_upper,i]/4), label='Real')\n",
    "        plt.plot(data.iloc[range_lower:range_upper].index, np.round(data.iloc[range_lower:range_upper,list(data.columns).index('prediction{}'.format(i))]/4), label='Predict')\n",
    "        plt.plot(data.iloc[range_lower:range_upper].index, np.round(data.iloc[range_lower:range_upper,list(data.columns).index('baseline{}'.format(i))]/4), label='Baseline')\n",
    "        plt.xlabel('Date Time', fontsize=16)\n",
    "        plt.ylabel('Swaps', fontsize=16)\n",
    "        plt.legend();"
   ]
  },
  {
   "cell_type": "code",
   "execution_count": 65,
   "metadata": {},
   "outputs": [],
   "source": [
    "def run_experiment(vmlist, layers, n_batch, n_neurons, n_epochs, dropout):\n",
    "    #select GoStations to forecast\n",
    "    df_station = df[df.vmid.isin(vmlist)]\n",
    "    df_station = pd.pivot_table(df_station, values='swaps', index='datetime', columns='vmid')\n",
    "    df_station['hour'] = df_station.index.hour\n",
    "    \n",
    "    #rename columns\n",
    "    cols = df_station.columns\n",
    "    for n, i in enumerate(cols[:-1]):\n",
    "        df_station.rename(columns={i:'swaps'+str(n)}, inplace=True)\n",
    "        \n",
    "    prep_df = pd.concat([df_station[list(df_station.columns)[:-1]], pd.get_dummies(df_station['hour'], prefix='hour')], axis=1)\n",
    "    prep_df.loc[prep_df.index.dayofweek>4, 'weekend'] = 1\n",
    "    prep_df['weekend'].fillna(0, inplace=True)\n",
    "    cols = prep_df.columns\n",
    "    tmp = pd.DataFrame(series_to_supervised(prep_df, 7, 1))\n",
    "    tmp.drop(tmp.columns[-(prep_df.shape[1] - len(vmlist)):], axis=1, inplace=True)\n",
    "    super_data = tmp\n",
    "    \n",
    "    #split train/test set and scale\n",
    "    scaler, train, test = create_train_test(5100, len(super_data)-5100-26, super_data)\n",
    "    train_X, train_y, test_X, test_y = split_train_test(train, test)\n",
    "    \n",
    "    #train model\n",
    "    model, history, n_batch = fit_lstm(train_X, train_y, layers, n_batch, n_neurons, n_epochs, len(vmlist), dropout)\n",
    "    rmse, inv_y_pred, inv_y = evaluate_model(model, test_X, test_y, scaler, n_batch, len(vmlist))\n",
    "    \n",
    "    #create dataframe with all predictions and real data\n",
    "    pred_prep_df = append_prediction(prep_df, inv_y_pred)\n",
    "    pred_prep_df['hour']=pred_prep_df.index.hour\n",
    "    pred_index = pred_prep_df.index\n",
    "    pred_prep_df = append_baseline(pred_prep_df, len(vmlist))\n",
    "    pred_prep_df.index = pred_index\n",
    "    \n",
    "    hyperparam = pd.DataFrame(data={'layers':[layers],'batch_size':[n_batch],'neurons':[n_neurons],'epochs':[n_epochs],'dropout':[dropout],\n",
    "                   'RMSE0':[rmse[0]],'RMSE1':[rmse[1]],'RMSE2':[rmse[2]],'RMSE3':[rmse[3]],'RMSE4':[rmse[4]]})\n",
    "    \n",
    "    return pred_prep_df, hyperparam"
   ]
  },
  {
   "cell_type": "code",
   "execution_count": 66,
   "metadata": {},
   "outputs": [],
   "source": [
    "def append_results(df, vmlist, layers, n_batch, n_neurons, n_epochs, dropout):\n",
    "    pred_prep_df, hyperparam = run_experiment(vmlist, layers, n_batch, n_neurons, n_epochs, dropout)\n",
    "    df = df.append(hyperparam)\n",
    "    return df, pred_prep_df"
   ]
  },
  {
   "cell_type": "markdown",
   "metadata": {},
   "source": [
    "--------"
   ]
  },
  {
   "cell_type": "code",
   "execution_count": null,
   "metadata": {},
   "outputs": [],
   "source": []
  },
  {
   "cell_type": "code",
   "execution_count": 192,
   "metadata": {},
   "outputs": [],
   "source": [
    "# lag of 24 to simulate smallest cold start window. Our series\n",
    "# will be converted to a num_timesteps x lag size matrix\n",
    "lag =  24\n",
    "\n",
    "# model parameters\n",
    "num_neurons = 24\n",
    "batch_size = 1  # this forces the lstm to step through each time-step one at a time\n",
    "batch_input_shape=(batch_size, 1, lag)\n",
    "\n",
    "# instantiate a sequential model\n",
    "model = Sequential()\n",
    "\n",
    "# add LSTM layer - stateful MUST be true here in \n",
    "# order to learn the patterns within a series\n",
    "model.add(LSTM(units=num_neurons, \n",
    "              batch_input_shape=batch_input_shape, \n",
    "              stateful=True))\n",
    "\n",
    "# followed by a dense layer with a single output for regression\n",
    "model.add(Dense(1))\n",
    "\n",
    "# compile\n",
    "model.compile(loss='mean_absolute_error', optimizer='adam')"
   ]
  },
  {
   "cell_type": "code",
   "execution_count": 129,
   "metadata": {
    "scrolled": true
   },
   "outputs": [
    {
     "name": "stderr",
     "output_type": "stream",
     "text": [
      "\r",
      "Learning Consumption Trends - Epoch:   0%|          | 0/3 [00:00<?, ?it/s]"
     ]
    },
    {
     "name": "stdout",
     "output_type": "stream",
     "text": [
      "Epoch 1/1\n",
      "648/648 [==============================] - 2s 2ms/step - loss: 0.1114\n",
      "Epoch 1/1\n",
      "648/648 [==============================] - 1s 2ms/step - loss: 0.1520\n",
      "Epoch 1/1\n",
      "648/648 [==============================] - 1s 2ms/step - loss: 0.1415\n",
      "Epoch 1/1\n",
      "648/648 [==============================] - 1s 2ms/step - loss: 0.1346\n",
      "Epoch 1/1\n",
      "648/648 [==============================] - 1s 2ms/step - loss: 0.1105\n",
      "Epoch 1/1\n",
      "648/648 [==============================] - 1s 2ms/step - loss: 0.1320\n",
      "Epoch 1/1\n",
      "648/648 [==============================] - 2s 2ms/step - loss: 0.1142\n",
      "Epoch 1/1\n",
      "648/648 [==============================] - 1s 2ms/step - loss: 0.1187\n",
      "Epoch 1/1\n",
      "648/648 [==============================] - 1s 2ms/step - loss: 0.1007\n",
      "Epoch 1/1\n",
      "648/648 [==============================] - 1s 2ms/step - loss: 0.1112\n"
     ]
    },
    {
     "name": "stderr",
     "output_type": "stream",
     "text": [
      "\r",
      "Learning Consumption Trends - Epoch:  33%|███▎      | 1/3 [00:14<00:28, 14.12s/it]"
     ]
    },
    {
     "name": "stdout",
     "output_type": "stream",
     "text": [
      "Epoch 1/1\n",
      "648/648 [==============================] - 1s 2ms/step - loss: 0.0959\n",
      "Epoch 1/1\n",
      "648/648 [==============================] - 2s 3ms/step - loss: 0.1438\n",
      "Epoch 1/1\n",
      "648/648 [==============================] - 2s 2ms/step - loss: 0.1425\n",
      "Epoch 1/1\n",
      "648/648 [==============================] - 2s 3ms/step - loss: 0.1332\n",
      "Epoch 1/1\n",
      "648/648 [==============================] - 1s 2ms/step - loss: 0.1060\n",
      "Epoch 1/1\n",
      "648/648 [==============================] - 1s 2ms/step - loss: 0.1288\n",
      "Epoch 1/1\n",
      "648/648 [==============================] - 1s 2ms/step - loss: 0.1093\n",
      "Epoch 1/1\n",
      "648/648 [==============================] - 2s 2ms/step - loss: 0.1164\n",
      "Epoch 1/1\n",
      "648/648 [==============================] - 1s 2ms/step - loss: 0.0994\n",
      "Epoch 1/1\n",
      "648/648 [==============================] - 1s 2ms/step - loss: 0.1090\n"
     ]
    },
    {
     "name": "stderr",
     "output_type": "stream",
     "text": [
      "\r",
      "Learning Consumption Trends - Epoch:  67%|██████▋   | 2/3 [00:29<00:14, 14.72s/it]"
     ]
    },
    {
     "name": "stdout",
     "output_type": "stream",
     "text": [
      "Epoch 1/1\n",
      "648/648 [==============================] - 1s 2ms/step - loss: 0.0968\n",
      "Epoch 1/1\n",
      "648/648 [==============================] - 1s 2ms/step - loss: 0.1421\n",
      "Epoch 1/1\n",
      "648/648 [==============================] - 1s 2ms/step - loss: 0.1420\n",
      "Epoch 1/1\n",
      "648/648 [==============================] - 1s 2ms/step - loss: 0.1324\n",
      "Epoch 1/1\n",
      "648/648 [==============================] - 1s 2ms/step - loss: 0.1050\n",
      "Epoch 1/1\n",
      "648/648 [==============================] - 1s 2ms/step - loss: 0.1263\n",
      "Epoch 1/1\n",
      "648/648 [==============================] - 1s 2ms/step - loss: 0.1099\n",
      "Epoch 1/1\n",
      "648/648 [==============================] - 1s 2ms/step - loss: 0.1160\n",
      "Epoch 1/1\n",
      "648/648 [==============================] - 1s 2ms/step - loss: 0.1006\n",
      "Epoch 1/1\n",
      "648/648 [==============================] - 1s 2ms/step - loss: 0.1091\n"
     ]
    },
    {
     "name": "stderr",
     "output_type": "stream",
     "text": [
      "\r",
      "Learning Consumption Trends - Epoch: 100%|██████████| 3/3 [00:42<00:00, 14.11s/it]"
     ]
    },
    {
     "name": "stdout",
     "output_type": "stream",
     "text": [
      "CPU times: user 1min 1s, sys: 12 s, total: 1min 13s\n",
      "Wall time: 42.4 s\n"
     ]
    },
    {
     "name": "stderr",
     "output_type": "stream",
     "text": [
      "\n"
     ]
    }
   ],
   "source": [
    "%%time\n",
    "num_training_series = consumption_train.series_id.nunique()\n",
    "num_passes_through_data = 3\n",
    "\n",
    "for i in tqdm(range(num_passes_through_data), \n",
    "              total=num_passes_through_data, \n",
    "              desc='Learning Consumption Trends - Epoch'):\n",
    "    \n",
    "    # reset the LSTM state for training on each series\n",
    "    for ser_id, ser_data in consumption_train.groupby('series_id'):\n",
    "\n",
    "        # prepare the data\n",
    "        X, y, scaler = prepare_training_data(ser_data.consumption, lag)\n",
    "\n",
    "        # fit the model: note that we don't shuffle batches (it would ruin the sequence)\n",
    "        # and that we reset states only after an entire X has been fit, instead of after\n",
    "        # each (size 1) batch, as is the case when stateful=False\n",
    "        model.fit(X, y, epochs=1, batch_size=batch_size, verbose=1, shuffle=False)\n",
    "        model.reset_states()"
   ]
  },
  {
   "cell_type": "code",
   "execution_count": 115,
   "metadata": {},
   "outputs": [
    {
     "name": "stderr",
     "output_type": "stream",
     "text": [
      "Forecasting from Cold Start Data: 100%|██████████| 625/625 [05:53<00:00,  1.77it/s]"
     ]
    },
    {
     "name": "stdout",
     "output_type": "stream",
     "text": [
      "CPU times: user 7min 17s, sys: 1min 2s, total: 8min 19s\n",
      "Wall time: 5min 53s\n"
     ]
    },
    {
     "name": "stderr",
     "output_type": "stream",
     "text": [
      "\n"
     ]
    }
   ],
   "source": [
    "%%time\n",
    "pred_window_to_num_preds = {'hourly': 24, 'daily': 7, 'weekly': 2}\n",
    "pred_window_to_num_pred_hours = {'hourly': 24, 'daily': 7 * 24, 'weekly': 2 * 7 * 24}\n",
    "\n",
    "num_test_series = my_submission.series_id.nunique()\n",
    "\n",
    "model.reset_states()\n",
    "\n",
    "for ser_id, pred_df in tqdm(my_submission.groupby('series_id'), \n",
    "                            total=num_test_series, \n",
    "                            desc=\"Forecasting from Cold Start Data\"):\n",
    "        \n",
    "    # get info about this series' prediction window\n",
    "    pred_window = pred_df.prediction_window.unique()[0]\n",
    "    num_preds = pred_window_to_num_preds[pred_window]\n",
    "    num_pred_hours = pred_window_to_num_pred_hours[pred_window]\n",
    "    \n",
    "    # prepare cold start data\n",
    "    series_data = consumption_test[consumption_test.series_id == ser_id].consumption\n",
    "    cold_X, cold_y, scaler = prepare_training_data(series_data, lag)\n",
    "    \n",
    "    # fine tune our lstm model to this site using cold start data    \n",
    "    model.fit(cold_X, cold_y, epochs=1, batch_size=batch_size, verbose=0, shuffle=False)\n",
    "    \n",
    "    # make hourly forecasts for duration of pred window\n",
    "    preds = generate_hourly_forecast(num_pred_hours, series_data, model, scaler, lag)\n",
    "    \n",
    "    # reduce by taking sum over each sub window in pred window\n",
    "    reduced_preds = [pred.sum() for pred in np.split(preds, num_preds)]\n",
    "    \n",
    "    # store result in submission DataFrame\n",
    "    ser_id_mask = my_submission.series_id == ser_id\n",
    "    my_submission.loc[ser_id_mask, 'consumption'] = reduced_preds"
   ]
  },
  {
   "cell_type": "code",
   "execution_count": null,
   "metadata": {},
   "outputs": [],
   "source": []
  },
  {
   "cell_type": "code",
   "execution_count": null,
   "metadata": {},
   "outputs": [],
   "source": []
  },
  {
   "cell_type": "code",
   "execution_count": null,
   "metadata": {},
   "outputs": [],
   "source": []
  },
  {
   "cell_type": "code",
   "execution_count": null,
   "metadata": {},
   "outputs": [],
   "source": []
  }
 ],
 "metadata": {
  "kernelspec": {
   "display_name": "Environment (conda_tensorflow_p36)",
   "language": "python",
   "name": "conda_tensorflow_p36"
  },
  "language_info": {
   "codemirror_mode": {
    "name": "ipython",
    "version": 3
   },
   "file_extension": ".py",
   "mimetype": "text/x-python",
   "name": "python",
   "nbconvert_exporter": "python",
   "pygments_lexer": "ipython3",
   "version": "3.6.5"
  }
 },
 "nbformat": 4,
 "nbformat_minor": 2
}
