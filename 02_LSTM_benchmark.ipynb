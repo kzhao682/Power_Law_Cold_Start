{
 "cells": [
  {
   "cell_type": "code",
   "execution_count": 1,
   "metadata": {},
   "outputs": [],
   "source": [
    "from starter import *\n",
    "\n",
    "%matplotlib inline"
   ]
  },
  {
   "cell_type": "code",
   "execution_count": 2,
   "metadata": {},
   "outputs": [],
   "source": [
    "import warnings\n",
    "warnings.filterwarnings('ignore')"
   ]
  },
  {
   "cell_type": "code",
   "execution_count": 21,
   "metadata": {},
   "outputs": [],
   "source": [
    "RANDOM_SEED = 2018\n",
    "random.seed(RANDOM_SEED)"
   ]
  },
  {
   "cell_type": "markdown",
   "metadata": {},
   "source": [
    "## Load data"
   ]
  },
  {
   "cell_type": "code",
   "execution_count": 3,
   "metadata": {},
   "outputs": [],
   "source": [
    "data = dict()"
   ]
  },
  {
   "cell_type": "code",
   "execution_count": 4,
   "metadata": {},
   "outputs": [],
   "source": [
    "data['test'] = pd.read_csv('cold_start_test.csv', index_col=[0], parse_dates=[2])\n",
    "data['train'] = pd.read_csv('consumption_train.csv', index_col=[0], parse_dates=[2])\n",
    "data['meta'] = pd.read_csv('new_meta.csv', index_col=[0], converters={'days_off':str})\n",
    "data['submission'] = pd.read_csv('new_submission_format.csv', index_col=[0], parse_dates=[2])"
   ]
  },
  {
   "cell_type": "code",
   "execution_count": 5,
   "metadata": {},
   "outputs": [],
   "source": [
    "df = data['train']\n",
    "df['train'] = 1\n",
    "df = df.append(data['test'])\n",
    "df['train'].fillna(0, inplace=True)"
   ]
  },
  {
   "cell_type": "markdown",
   "metadata": {},
   "source": [
    "### Train data"
   ]
  },
  {
   "cell_type": "code",
   "execution_count": 22,
   "metadata": {},
   "outputs": [],
   "source": [
    "consumption_train = data['train']"
   ]
  },
  {
   "cell_type": "code",
   "execution_count": 6,
   "metadata": {},
   "outputs": [
    {
     "data": {
      "text/plain": [
       "0000011    1236\n",
       "0000000     104\n",
       "0000001      21\n",
       "0000111      10\n",
       "0000010       5\n",
       "1111111       4\n",
       "0011111       3\n",
       "Name: days_off, dtype: int64"
      ]
     },
     "execution_count": 6,
     "metadata": {},
     "output_type": "execute_result"
    }
   ],
   "source": [
    "data['meta'].days_off.value_counts()"
   ]
  },
  {
   "cell_type": "code",
   "execution_count": 14,
   "metadata": {},
   "outputs": [],
   "source": [
    "def describe_training_data(train_df):\n",
    "    num_training_series = train_df.series_id.nunique()\n",
    "    num_training_days = num_training_series * 28\n",
    "    num_training_hours = num_training_days * 24\n",
    "    assert num_training_hours == train_df.shape[0]\n",
    "    \n",
    "    desc = f'There are {num_training_series} training ' \\\n",
    "           f'series totaling {num_training_days} days ' \\\n",
    "           f'({num_training_hours} hours) of consumption data.'\n",
    "    \n",
    "    print(desc)"
   ]
  },
  {
   "cell_type": "code",
   "execution_count": 23,
   "metadata": {},
   "outputs": [
    {
     "name": "stdout",
     "output_type": "stream",
     "text": [
      "There are 758 training series totaling 21224 days (509376 hours) of consumption data.\n"
     ]
    }
   ],
   "source": [
    "describe_training_data(consumption_train)"
   ]
  },
  {
   "cell_type": "code",
   "execution_count": 24,
   "metadata": {},
   "outputs": [
    {
     "name": "stdout",
     "output_type": "stream",
     "text": [
      "There are 10 training series totaling 280 days (6720 hours) of consumption data.\n"
     ]
    }
   ],
   "source": [
    "# choose subset of series for training\n",
    "frac_series_to_use = 0.01\n",
    "\n",
    "rng = np.random.RandomState(seed=RANDOM_SEED)\n",
    "series_ids = consumption_train.series_id.unique()\n",
    "series_mask = rng.binomial(1,\n",
    "                           frac_series_to_use,\n",
    "                           size=series_ids.shape).astype(bool)\n",
    "\n",
    "training_series = series_ids[series_mask]\n",
    "\n",
    "# reduce training data to series subset\n",
    "consumption_train = consumption_train[consumption_train.series_id.isin(training_series)]\n",
    "\n",
    "# describe the reduced set\n",
    "describe_training_data(consumption_train)"
   ]
  },
  {
   "cell_type": "markdown",
   "metadata": {},
   "source": [
    "### Test data"
   ]
  },
  {
   "cell_type": "code",
   "execution_count": 34,
   "metadata": {},
   "outputs": [],
   "source": [
    "consumption_test = data['test']\n",
    "submission_format = data['submission']"
   ]
  },
  {
   "cell_type": "code",
   "execution_count": 33,
   "metadata": {},
   "outputs": [
    {
     "data": {
      "text/html": [
       "<div>\n",
       "<style scoped>\n",
       "    .dataframe tbody tr th:only-of-type {\n",
       "        vertical-align: middle;\n",
       "    }\n",
       "\n",
       "    .dataframe tbody tr th {\n",
       "        vertical-align: top;\n",
       "    }\n",
       "\n",
       "    .dataframe thead th {\n",
       "        text-align: right;\n",
       "    }\n",
       "</style>\n",
       "<table border=\"1\" class=\"dataframe\">\n",
       "  <thead>\n",
       "    <tr style=\"text-align: right;\">\n",
       "      <th></th>\n",
       "      <th>series_id</th>\n",
       "      <th>timestamp</th>\n",
       "      <th>consumption</th>\n",
       "      <th>temperature</th>\n",
       "    </tr>\n",
       "  </thead>\n",
       "  <tbody>\n",
       "    <tr>\n",
       "      <th>0</th>\n",
       "      <td>102781</td>\n",
       "      <td>2013-02-27 00:00:00</td>\n",
       "      <td>15295.740389</td>\n",
       "      <td>17.00</td>\n",
       "    </tr>\n",
       "    <tr>\n",
       "      <th>1</th>\n",
       "      <td>102781</td>\n",
       "      <td>2013-02-27 01:00:00</td>\n",
       "      <td>15163.209562</td>\n",
       "      <td>18.25</td>\n",
       "    </tr>\n",
       "    <tr>\n",
       "      <th>2</th>\n",
       "      <td>102781</td>\n",
       "      <td>2013-02-27 02:00:00</td>\n",
       "      <td>15022.264079</td>\n",
       "      <td>18.00</td>\n",
       "    </tr>\n",
       "    <tr>\n",
       "      <th>3</th>\n",
       "      <td>102781</td>\n",
       "      <td>2013-02-27 03:00:00</td>\n",
       "      <td>15370.420458</td>\n",
       "      <td>17.00</td>\n",
       "    </tr>\n",
       "    <tr>\n",
       "      <th>4</th>\n",
       "      <td>102781</td>\n",
       "      <td>2013-02-27 04:00:00</td>\n",
       "      <td>15303.103213</td>\n",
       "      <td>16.90</td>\n",
       "    </tr>\n",
       "  </tbody>\n",
       "</table>\n",
       "</div>"
      ],
      "text/plain": [
       "   series_id           timestamp   consumption  temperature\n",
       "0     102781 2013-02-27 00:00:00  15295.740389        17.00\n",
       "1     102781 2013-02-27 01:00:00  15163.209562        18.25\n",
       "2     102781 2013-02-27 02:00:00  15022.264079        18.00\n",
       "3     102781 2013-02-27 03:00:00  15370.420458        17.00\n",
       "4     102781 2013-02-27 04:00:00  15303.103213        16.90"
      ]
     },
     "execution_count": 33,
     "metadata": {},
     "output_type": "execute_result"
    }
   ],
   "source": [
    "consumption_test.head()"
   ]
  },
  {
   "cell_type": "markdown",
   "metadata": {},
   "source": [
    "## Explore data"
   ]
  },
  {
   "cell_type": "code",
   "execution_count": 36,
   "metadata": {},
   "outputs": [
    {
     "data": {
      "text/html": [
       "<div>\n",
       "<style scoped>\n",
       "    .dataframe tbody tr th:only-of-type {\n",
       "        vertical-align: middle;\n",
       "    }\n",
       "\n",
       "    .dataframe tbody tr th {\n",
       "        vertical-align: top;\n",
       "    }\n",
       "\n",
       "    .dataframe thead th {\n",
       "        text-align: right;\n",
       "    }\n",
       "</style>\n",
       "<table border=\"1\" class=\"dataframe\">\n",
       "  <thead>\n",
       "    <tr style=\"text-align: right;\">\n",
       "      <th></th>\n",
       "      <th>series_id</th>\n",
       "      <th>timestamp</th>\n",
       "      <th>temperature</th>\n",
       "      <th>consumption</th>\n",
       "      <th>prediction_window</th>\n",
       "      <th>total_row</th>\n",
       "    </tr>\n",
       "  </thead>\n",
       "  <tbody>\n",
       "    <tr>\n",
       "      <th>0</th>\n",
       "      <td>102781</td>\n",
       "      <td>2013-03-03</td>\n",
       "      <td>19.931250</td>\n",
       "      <td>0.0</td>\n",
       "      <td>daily</td>\n",
       "      <td>7</td>\n",
       "    </tr>\n",
       "    <tr>\n",
       "      <th>1</th>\n",
       "      <td>102781</td>\n",
       "      <td>2013-03-04</td>\n",
       "      <td>20.034375</td>\n",
       "      <td>0.0</td>\n",
       "      <td>daily</td>\n",
       "      <td>7</td>\n",
       "    </tr>\n",
       "    <tr>\n",
       "      <th>2</th>\n",
       "      <td>102781</td>\n",
       "      <td>2013-03-05</td>\n",
       "      <td>19.189583</td>\n",
       "      <td>0.0</td>\n",
       "      <td>daily</td>\n",
       "      <td>7</td>\n",
       "    </tr>\n",
       "    <tr>\n",
       "      <th>3</th>\n",
       "      <td>102781</td>\n",
       "      <td>2013-03-06</td>\n",
       "      <td>18.397917</td>\n",
       "      <td>0.0</td>\n",
       "      <td>daily</td>\n",
       "      <td>7</td>\n",
       "    </tr>\n",
       "    <tr>\n",
       "      <th>4</th>\n",
       "      <td>102781</td>\n",
       "      <td>2013-03-07</td>\n",
       "      <td>20.762500</td>\n",
       "      <td>0.0</td>\n",
       "      <td>daily</td>\n",
       "      <td>7</td>\n",
       "    </tr>\n",
       "  </tbody>\n",
       "</table>\n",
       "</div>"
      ],
      "text/plain": [
       "   series_id  timestamp  temperature  consumption prediction_window  total_row\n",
       "0     102781 2013-03-03    19.931250          0.0             daily          7\n",
       "1     102781 2013-03-04    20.034375          0.0             daily          7\n",
       "2     102781 2013-03-05    19.189583          0.0             daily          7\n",
       "3     102781 2013-03-06    18.397917          0.0             daily          7\n",
       "4     102781 2013-03-07    20.762500          0.0             daily          7"
      ]
     },
     "execution_count": 36,
     "metadata": {},
     "output_type": "execute_result"
    }
   ],
   "source": [
    "submission_format.head()"
   ]
  },
  {
   "cell_type": "code",
   "execution_count": 39,
   "metadata": {},
   "outputs": [
    {
     "data": {
      "text/plain": [
       "hourly    242\n",
       "weekly    192\n",
       "daily     191\n",
       "Name: prediction_window, dtype: int64"
      ]
     },
     "execution_count": 39,
     "metadata": {},
     "output_type": "execute_result"
    }
   ],
   "source": [
    "# confirm that every series asks for only one type of prediction\n",
    "assert all(1 == submission_format.groupby('series_id').prediction_window.nunique())\n",
    "\n",
    "# use the first() prediction window value from a series_id so as not to overcount\n",
    "submission_format.groupby('series_id').prediction_window.first().value_counts()"
   ]
  },
  {
   "cell_type": "code",
   "execution_count": 48,
   "metadata": {},
   "outputs": [
    {
     "data": {
      "image/png": "[encoded data removed]",
      "text/plain": [
       "<matplotlib.figure.Figure at 0x11086d278>"
      ]
     },
     "metadata": {},
     "output_type": "display_data"
    }
   ],
   "source": [
    "ax = (consumption_test.groupby('series_id').count()\n",
    "                                           .timestamp\n",
    "                                           .divide(24)\n",
    "                                           .value_counts()\n",
    "                                           .sort_index()\n",
    "                                           .plot.bar())\n",
    "ax.set_xlabel('Days in Cold Start Data')\n",
    "ax.set_ylabel('Number of Test Series')\n",
    "plt.show()"
   ]
  },
  {
   "cell_type": "code",
   "execution_count": 43,
   "metadata": {},
   "outputs": [
    {
     "data": {
      "text/plain": [
       "series_id  prediction_window\n",
       "100004     weekly                4.0\n",
       "100010     hourly               12.0\n",
       "100012     hourly               10.0\n",
       "100020     weekly               13.0\n",
       "100028     daily                13.0\n",
       "Name: prediction_window, dtype: float64"
      ]
     },
     "execution_count": 43,
     "metadata": {},
     "output_type": "execute_result"
    }
   ],
   "source": [
    "# add prediction_window to the test data\n",
    "pred_windows = submission_format[['series_id', 'prediction_window']].drop_duplicates()\n",
    "consumption_test = consumption_test.merge(pred_windows, on='series_id')\n",
    "\n",
    "num_cold_start_days_provided = (consumption_test.groupby('series_id')\n",
    "                                               .prediction_window\n",
    "                                               .value_counts()\n",
    "                                               .divide(24))\n",
    "\n",
    "num_cold_start_days_provided.head()"
   ]
  },
  {
   "cell_type": "code",
   "execution_count": 45,
   "metadata": {},
   "outputs": [],
   "source": [
    "def _count_cold_start_days(subdf):\n",
    "    \"\"\" Get the number of times a certain cold-start period\n",
    "        appears in the data.\n",
    "    \"\"\"\n",
    "    return (subdf.series_id\n",
    "                 .value_counts()\n",
    "                 .divide(24)  # hours to days \n",
    "                 .value_counts())"
   ]
  },
  {
   "cell_type": "code",
   "execution_count": 46,
   "metadata": {},
   "outputs": [
    {
     "data": {
      "text/plain": [
       "prediction_window      \n",
       "daily              1.0     19\n",
       "                   8.0     18\n",
       "                   13.0    18\n",
       "                   6.0     15\n",
       "                   9.0     15\n",
       "Name: series_id, dtype: int64"
      ]
     },
     "execution_count": 46,
     "metadata": {},
     "output_type": "execute_result"
    }
   ],
   "source": [
    "cold_start_occurrence = (consumption_test.groupby('prediction_window')\n",
    "                                        .apply(_count_cold_start_days))\n",
    "\n",
    "cold_start_occurrence.head()"
   ]
  },
  {
   "cell_type": "code",
   "execution_count": 47,
   "metadata": {},
   "outputs": [
    {
     "data": {
      "image/png": "[encoded data removed]",
      "text/plain": [
       "<matplotlib.figure.Figure at 0x10dfef0f0>"
      ]
     },
     "metadata": {},
     "output_type": "display_data"
    }
   ],
   "source": [
    "ax = cold_start_occurrence.unstack(0).plot.bar(figsize=(10, 6),\n",
    "                                               rot=0)\n",
    "\n",
    "ax.set_xlabel('Number of Cold-start Days')\n",
    "ax.set_ylabel('Number of Series in Dataset');"
   ]
  },
  {
   "cell_type": "code",
   "execution_count": 51,
   "metadata": {},
   "outputs": [
    {
     "data": {
      "image/png": "[encoded data removed]",
      "text/plain": [
       "<matplotlib.figure.Figure at 0x1a1ac3d2b0>"
      ]
     },
     "metadata": {},
     "output_type": "display_data"
    }
   ],
   "source": [
    "# visualize the cold start and prediction windows\n",
    "num_to_plot = 40\n",
    "\n",
    "fig, ax = plt.subplots(figsize=(45, 15))\n",
    "\n",
    "cold_start_map = {'hourly': 1, 'daily': 7, 'weekly': 14}\n",
    "\n",
    "rng = np.random.RandomState(seed=5425)\n",
    "series_to_plot = rng.choice(consumption_test.series_id.unique(), num_to_plot)\n",
    "\n",
    "for i, series_id in enumerate(series_to_plot):\n",
    "    # get relevant information about the test series from coldstart data\n",
    "    series_data = consumption_test[consumption_test.series_id == series_id]\n",
    "    start_cold = series_data.timestamp.min()\n",
    "    start_preds = series_data.timestamp.max()\n",
    "    \n",
    "    # get prediction stop from submission format\n",
    "    stop_preds = submission_format[submission_format.series_id == series_id].timestamp.max()\n",
    "    \n",
    "    # plot the cold start and prediction window relative sizes\n",
    "    ax.plot([start_cold, start_preds], [i, i], c='#6496e5', linewidth=num_to_plot / 3)\n",
    "    ax.plot([start_preds, stop_preds], [i, i], c='#e25522', linewidth=num_to_plot / 3)\n",
    "\n",
    "# the y tick labels don't mean anything so turn them off\n",
    "ax.set_yticks([])\n",
    "plt.tick_params(labelsize=35)\n",
    "plt.legend(['Cold Start (1-14 Days)', \n",
    "            'Prediction Window'], \n",
    "           fontsize=30)\n",
    "\n",
    "plt.title(f'{num_to_plot} Series Cold Starts And Their Prediction Windows', fontsize=50);\n"
   ]
  },
  {
   "cell_type": "code",
   "execution_count": 52,
   "metadata": {
    "scrolled": true
   },
   "outputs": [
    {
     "data": {
      "image/png": "[encoded data removed]",
      "text/plain": [
       "<matplotlib.figure.Figure at 0x1a1aac6358>"
      ]
     },
     "metadata": {},
     "output_type": "display_data"
    },
    {
     "data": {
      "image/png": "[encoded data removed]",
      "text/plain": [
       "<matplotlib.figure.Figure at 0x118415390>"
      ]
     },
     "metadata": {},
     "output_type": "display_data"
    },
    {
     "data": {
      "image/png": "[encoded data removed]",
      "text/plain": [
       "<matplotlib.figure.Figure at 0x1a1abc20f0>"
      ]
     },
     "metadata": {},
     "output_type": "display_data"
    }
   ],
   "source": [
    "# plot a few consumption patterns\n",
    "series_to_plot = rng.choice(consumption_train.series_id.unique(), 3)\n",
    "\n",
    "for ser_id in series_to_plot:\n",
    "    ser_data = consumption_train[consumption_train.series_id == ser_id]\n",
    "    ax = ser_data.plot(x='timestamp',\n",
    "                       y='consumption', \n",
    "                       title=f\"series_id {int(ser_id)}\",\n",
    "                       legend=False)\n",
    "    plt.ylabel('consumption (watt-hours)')\n",
    "    plt.show()"
   ]
  },
  {
   "cell_type": "code",
   "execution_count": 53,
   "metadata": {},
   "outputs": [
    {
     "data": {
      "text/plain": [
       "27 days 23:00:00    10\n",
       "Name: timestamp, dtype: int64"
      ]
     },
     "execution_count": 53,
     "metadata": {},
     "output_type": "execute_result"
    }
   ],
   "source": [
    "(consumption_train.groupby('series_id')\n",
    "                  .timestamp\n",
    "                  .apply(lambda x: x.max() - x.min())\n",
    "                  .value_counts())"
   ]
  },
  {
   "cell_type": "code",
   "execution_count": null,
   "metadata": {},
   "outputs": [],
   "source": []
  },
  {
   "cell_type": "code",
   "execution_count": null,
   "metadata": {},
   "outputs": [],
   "source": []
  },
  {
   "cell_type": "markdown",
   "metadata": {},
   "source": [
    "## Set up model"
   ]
  },
  {
   "cell_type": "code",
   "execution_count": 106,
   "metadata": {},
   "outputs": [],
   "source": [
    "from sklearn.preprocessing import LabelEncoder\n",
    "from sklearn.preprocessing import MinMaxScaler\n",
    "from sklearn.metrics import mean_squared_error\n",
    "\n",
    "from keras.models import Sequential\n",
    "from keras.layers import Dense, LSTM\n",
    "from subprocess import check_output\n",
    "\n",
    "from tqdm import tqdm"
   ]
  },
  {
   "cell_type": "code",
   "execution_count": 101,
   "metadata": {},
   "outputs": [],
   "source": [
    "def create_lagged_features(df, lag=1):\n",
    "    if not type(df) == pd.DataFrame:\n",
    "        df = pd.DataFrame(df, columns=['consumption'])\n",
    "    \n",
    "    def _rename_lag(ser, j):\n",
    "        ser.name = ser.name + f'_{j}'\n",
    "        return ser\n",
    "        \n",
    "    # add a column lagged by `i` steps\n",
    "    for i in range(1, lag + 1):\n",
    "        df = df.join(df.consumption.shift(i).pipe(_rename_lag, i))\n",
    "\n",
    "    df.dropna(inplace=True)\n",
    "    return df"
   ]
  },
  {
   "cell_type": "code",
   "execution_count": 102,
   "metadata": {},
   "outputs": [
    {
     "data": {
      "text/html": [
       "<div>\n",
       "<style scoped>\n",
       "    .dataframe tbody tr th:only-of-type {\n",
       "        vertical-align: middle;\n",
       "    }\n",
       "\n",
       "    .dataframe tbody tr th {\n",
       "        vertical-align: top;\n",
       "    }\n",
       "\n",
       "    .dataframe thead th {\n",
       "        text-align: right;\n",
       "    }\n",
       "</style>\n",
       "<table border=\"1\" class=\"dataframe\">\n",
       "  <thead>\n",
       "    <tr style=\"text-align: right;\">\n",
       "      <th></th>\n",
       "      <th>consumption</th>\n",
       "      <th>consumption_1</th>\n",
       "      <th>consumption_2</th>\n",
       "      <th>consumption_3</th>\n",
       "    </tr>\n",
       "    <tr>\n",
       "      <th>timestamp</th>\n",
       "      <th></th>\n",
       "      <th></th>\n",
       "      <th></th>\n",
       "      <th></th>\n",
       "    </tr>\n",
       "  </thead>\n",
       "  <tbody>\n",
       "    <tr>\n",
       "      <th>2017-06-07 03:00:00</th>\n",
       "      <td>562464.244579</td>\n",
       "      <td>570699.933083</td>\n",
       "      <td>561278.342934</td>\n",
       "      <td>527862.165731</td>\n",
       "    </tr>\n",
       "    <tr>\n",
       "      <th>2017-06-07 04:00:00</th>\n",
       "      <td>565464.153881</td>\n",
       "      <td>562464.244579</td>\n",
       "      <td>570699.933083</td>\n",
       "      <td>561278.342934</td>\n",
       "    </tr>\n",
       "    <tr>\n",
       "      <th>2017-06-07 05:00:00</th>\n",
       "      <td>593757.048480</td>\n",
       "      <td>565464.153881</td>\n",
       "      <td>562464.244579</td>\n",
       "      <td>570699.933083</td>\n",
       "    </tr>\n",
       "    <tr>\n",
       "      <th>2017-06-07 06:00:00</th>\n",
       "      <td>606651.971117</td>\n",
       "      <td>593757.048480</td>\n",
       "      <td>565464.153881</td>\n",
       "      <td>562464.244579</td>\n",
       "    </tr>\n",
       "    <tr>\n",
       "      <th>2017-06-07 07:00:00</th>\n",
       "      <td>570132.762731</td>\n",
       "      <td>606651.971117</td>\n",
       "      <td>593757.048480</td>\n",
       "      <td>565464.153881</td>\n",
       "    </tr>\n",
       "  </tbody>\n",
       "</table>\n",
       "</div>"
      ],
      "text/plain": [
       "                       consumption  consumption_1  consumption_2  \\\n",
       "timestamp                                                          \n",
       "2017-06-07 03:00:00  562464.244579  570699.933083  561278.342934   \n",
       "2017-06-07 04:00:00  565464.153881  562464.244579  570699.933083   \n",
       "2017-06-07 05:00:00  593757.048480  565464.153881  562464.244579   \n",
       "2017-06-07 06:00:00  606651.971117  593757.048480  565464.153881   \n",
       "2017-06-07 07:00:00  570132.762731  606651.971117  593757.048480   \n",
       "\n",
       "                     consumption_3  \n",
       "timestamp                           \n",
       "2017-06-07 03:00:00  527862.165731  \n",
       "2017-06-07 04:00:00  561278.342934  \n",
       "2017-06-07 05:00:00  570699.933083  \n",
       "2017-06-07 06:00:00  562464.244579  \n",
       "2017-06-07 07:00:00  565464.153881  "
      ]
     },
     "execution_count": 102,
     "metadata": {},
     "output_type": "execute_result"
    }
   ],
   "source": [
    "# try example set\n",
    "test_series = consumption_train[consumption_train.series_id == 100283].reset_index(drop=True)\n",
    "test_series.index = test_series.timestamp\n",
    "create_lagged_features(test_series[['consumption']], lag=3).head()"
   ]
  },
  {
   "cell_type": "code",
   "execution_count": 103,
   "metadata": {},
   "outputs": [],
   "source": [
    "def prepare_training_data(consumption_series, lag):\n",
    "    \"\"\" Converts a series of consumption data into a\n",
    "        lagged, scaled sample.\n",
    "    \"\"\"\n",
    "    # scale training data\n",
    "    scaler = MinMaxScaler(feature_range=(-1, 1))\n",
    "    consumption_vals = scaler.fit_transform(consumption_series.values.reshape(-1, 1))\n",
    "    \n",
    "    # convert consumption series to lagged features\n",
    "    consumption_lagged = create_lagged_features(consumption_vals, lag=lag)\n",
    "\n",
    "    # X, y format taking the first column (original time series) to be the y\n",
    "    X = consumption_lagged.drop('consumption', axis=1).values\n",
    "    y = consumption_lagged.consumption.values\n",
    "    \n",
    "    # keras expects 3 dimensional X\n",
    "    X = X.reshape(X.shape[0], 1, X.shape[1])\n",
    "    \n",
    "    return X, y, scaler"
   ]
  },
  {
   "cell_type": "code",
   "execution_count": 104,
   "metadata": {},
   "outputs": [
    {
     "name": "stdout",
     "output_type": "stream",
     "text": [
      "(667, 1, 5)\n",
      "(667,)\n",
      "MinMaxScaler(copy=True, feature_range=(-1, 1))\n"
     ]
    }
   ],
   "source": [
    "_X, _y, scaler = prepare_training_data(test_series.consumption, 5)\n",
    "print(_X.shape)\n",
    "print(_y.shape)\n",
    "print(scaler)"
   ]
  },
  {
   "cell_type": "code",
   "execution_count": 105,
   "metadata": {},
   "outputs": [
    {
     "name": "stdout",
     "output_type": "stream",
     "text": [
      "WARNING:tensorflow:From /Users/kevinzhao/anaconda3/lib/python3.6/site-packages/keras/backend/tensorflow_backend.py:1344: calling reduce_mean (from tensorflow.python.ops.math_ops) with keep_dims is deprecated and will be removed in a future version.\n",
      "Instructions for updating:\n",
      "keep_dims is deprecated, use keepdims instead\n"
     ]
    }
   ],
   "source": [
    "# lag of 24 to simulate smallest cold start window. Our series\n",
    "# will be converted to a num_timesteps x lag size matrix\n",
    "lag =  24\n",
    "\n",
    "# model parameters\n",
    "num_neurons = 24\n",
    "batch_size = 1  # this forces the lstm to step through each time-step one at a time\n",
    "batch_input_shape=(batch_size, 1, lag)\n",
    "\n",
    "# instantiate a sequential model\n",
    "model = Sequential()\n",
    "\n",
    "# add LSTM layer - stateful MUST be true here in \n",
    "# order to learn the patterns within a series\n",
    "model.add(LSTM(units=num_neurons, \n",
    "              batch_input_shape=batch_input_shape, \n",
    "              stateful=True))\n",
    "\n",
    "# followed by a dense layer with a single output for regression\n",
    "model.add(Dense(1))\n",
    "\n",
    "# compile\n",
    "model.compile(loss='mean_absolute_error', optimizer='adam')"
   ]
  },
  {
   "cell_type": "markdown",
   "metadata": {},
   "source": [
    "## Fit model"
   ]
  },
  {
   "cell_type": "code",
   "execution_count": 129,
   "metadata": {
    "scrolled": true
   },
   "outputs": [
    {
     "name": "stderr",
     "output_type": "stream",
     "text": [
      "\r",
      "Learning Consumption Trends - Epoch:   0%|          | 0/3 [00:00<?, ?it/s]"
     ]
    },
    {
     "name": "stdout",
     "output_type": "stream",
     "text": [
      "Epoch 1/1\n",
      "648/648 [==============================] - 2s 2ms/step - loss: 0.1114\n",
      "Epoch 1/1\n",
      "648/648 [==============================] - 1s 2ms/step - loss: 0.1520\n",
      "Epoch 1/1\n",
      "648/648 [==============================] - 1s 2ms/step - loss: 0.1415\n",
      "Epoch 1/1\n",
      "648/648 [==============================] - 1s 2ms/step - loss: 0.1346\n",
      "Epoch 1/1\n",
      "648/648 [==============================] - 1s 2ms/step - loss: 0.1105\n",
      "Epoch 1/1\n",
      "648/648 [==============================] - 1s 2ms/step - loss: 0.1320\n",
      "Epoch 1/1\n",
      "648/648 [==============================] - 2s 2ms/step - loss: 0.1142\n",
      "Epoch 1/1\n",
      "648/648 [==============================] - 1s 2ms/step - loss: 0.1187\n",
      "Epoch 1/1\n",
      "648/648 [==============================] - 1s 2ms/step - loss: 0.1007\n",
      "Epoch 1/1\n",
      "648/648 [==============================] - 1s 2ms/step - loss: 0.1112\n"
     ]
    },
    {
     "name": "stderr",
     "output_type": "stream",
     "text": [
      "\r",
      "Learning Consumption Trends - Epoch:  33%|███▎      | 1/3 [00:14<00:28, 14.12s/it]"
     ]
    },
    {
     "name": "stdout",
     "output_type": "stream",
     "text": [
      "Epoch 1/1\n",
      "648/648 [==============================] - 1s 2ms/step - loss: 0.0959\n",
      "Epoch 1/1\n",
      "648/648 [==============================] - 2s 3ms/step - loss: 0.1438\n",
      "Epoch 1/1\n",
      "648/648 [==============================] - 2s 2ms/step - loss: 0.1425\n",
      "Epoch 1/1\n",
      "648/648 [==============================] - 2s 3ms/step - loss: 0.1332\n",
      "Epoch 1/1\n",
      "648/648 [==============================] - 1s 2ms/step - loss: 0.1060\n",
      "Epoch 1/1\n",
      "648/648 [==============================] - 1s 2ms/step - loss: 0.1288\n",
      "Epoch 1/1\n",
      "648/648 [==============================] - 1s 2ms/step - loss: 0.1093\n",
      "Epoch 1/1\n",
      "648/648 [==============================] - 2s 2ms/step - loss: 0.1164\n",
      "Epoch 1/1\n",
      "648/648 [==============================] - 1s 2ms/step - loss: 0.0994\n",
      "Epoch 1/1\n",
      "648/648 [==============================] - 1s 2ms/step - loss: 0.1090\n"
     ]
    },
    {
     "name": "stderr",
     "output_type": "stream",
     "text": [
      "\r",
      "Learning Consumption Trends - Epoch:  67%|██████▋   | 2/3 [00:29<00:14, 14.72s/it]"
     ]
    },
    {
     "name": "stdout",
     "output_type": "stream",
     "text": [
      "Epoch 1/1\n",
      "648/648 [==============================] - 1s 2ms/step - loss: 0.0968\n",
      "Epoch 1/1\n",
      "648/648 [==============================] - 1s 2ms/step - loss: 0.1421\n",
      "Epoch 1/1\n",
      "648/648 [==============================] - 1s 2ms/step - loss: 0.1420\n",
      "Epoch 1/1\n",
      "648/648 [==============================] - 1s 2ms/step - loss: 0.1324\n",
      "Epoch 1/1\n",
      "648/648 [==============================] - 1s 2ms/step - loss: 0.1050\n",
      "Epoch 1/1\n",
      "648/648 [==============================] - 1s 2ms/step - loss: 0.1263\n",
      "Epoch 1/1\n",
      "648/648 [==============================] - 1s 2ms/step - loss: 0.1099\n",
      "Epoch 1/1\n",
      "648/648 [==============================] - 1s 2ms/step - loss: 0.1160\n",
      "Epoch 1/1\n",
      "648/648 [==============================] - 1s 2ms/step - loss: 0.1006\n",
      "Epoch 1/1\n",
      "648/648 [==============================] - 1s 2ms/step - loss: 0.1091\n"
     ]
    },
    {
     "name": "stderr",
     "output_type": "stream",
     "text": [
      "\r",
      "Learning Consumption Trends - Epoch: 100%|██████████| 3/3 [00:42<00:00, 14.11s/it]"
     ]
    },
    {
     "name": "stdout",
     "output_type": "stream",
     "text": [
      "CPU times: user 1min 1s, sys: 12 s, total: 1min 13s\n",
      "Wall time: 42.4 s\n"
     ]
    },
    {
     "name": "stderr",
     "output_type": "stream",
     "text": [
      "\n"
     ]
    }
   ],
   "source": [
    "%%time\n",
    "num_training_series = consumption_train.series_id.nunique()\n",
    "num_passes_through_data = 3\n",
    "\n",
    "for i in tqdm(range(num_passes_through_data), \n",
    "              total=num_passes_through_data, \n",
    "              desc='Learning Consumption Trends - Epoch'):\n",
    "    \n",
    "    # reset the LSTM state for training on each series\n",
    "    for ser_id, ser_data in consumption_train.groupby('series_id'):\n",
    "\n",
    "        # prepare the data\n",
    "        X, y, scaler = prepare_training_data(ser_data.consumption, lag)\n",
    "\n",
    "        # fit the model: note that we don't shuffle batches (it would ruin the sequence)\n",
    "        # and that we reset states only after an entire X has been fit, instead of after\n",
    "        # each (size 1) batch, as is the case when stateful=False\n",
    "        model.fit(X, y, epochs=1, batch_size=batch_size, verbose=1, shuffle=False)\n",
    "        model.reset_states()"
   ]
  },
  {
   "cell_type": "code",
   "execution_count": 1,
   "metadata": {},
   "outputs": [],
   "source": [
    "def generate_hourly_forecast(num_pred_hours, consumption, model, scaler, lag):\n",
    "    \"\"\" Uses last hour's prediction to generate next for num_pred_hours, \n",
    "        initialized by most recent cold start prediction. Inverts scale of \n",
    "        predictions before return.\n",
    "    \"\"\"\n",
    "    # allocate prediction frame\n",
    "    preds_scaled = np.zeros(num_pred_hours)\n",
    "    \n",
    "    # initial X is last lag values from the cold start\n",
    "    X = scaler.transform(consumption.values.reshape(-1, 1))[-lag:]\n",
    "    \n",
    "    # forecast\n",
    "    for i in range(num_pred_hours):\n",
    "        # predict scaled value for next time step\n",
    "        yhat = model.predict(X.reshape(1, 1, lag), batch_size=1)[0][0]\n",
    "        preds_scaled[i] = yhat\n",
    "        \n",
    "        # update X to be latest data plus prediction\n",
    "        X = pd.Series(X.ravel()).shift(-1).fillna(yhat).values\n",
    "\n",
    "    # revert scale back to original range\n",
    "    hourly_preds = scaler.inverse_transform(preds_scaled.reshape(-1, 1)).ravel()\n",
    "    return hourly_preds"
   ]
  },
  {
   "cell_type": "code",
   "execution_count": 113,
   "metadata": {},
   "outputs": [],
   "source": [
    "# copy submission format and fill in values\n",
    "my_submission = submission_format.copy()"
   ]
  },
  {
   "cell_type": "code",
   "execution_count": 115,
   "metadata": {},
   "outputs": [
    {
     "name": "stderr",
     "output_type": "stream",
     "text": [
      "Forecasting from Cold Start Data: 100%|██████████| 625/625 [05:53<00:00,  1.77it/s]"
     ]
    },
    {
     "name": "stdout",
     "output_type": "stream",
     "text": [
      "CPU times: user 7min 17s, sys: 1min 2s, total: 8min 19s\n",
      "Wall time: 5min 53s\n"
     ]
    },
    {
     "name": "stderr",
     "output_type": "stream",
     "text": [
      "\n"
     ]
    }
   ],
   "source": [
    "%%time\n",
    "pred_window_to_num_preds = {'hourly': 24, 'daily': 7, 'weekly': 2}\n",
    "pred_window_to_num_pred_hours = {'hourly': 24, 'daily': 7 * 24, 'weekly': 2 * 7 * 24}\n",
    "\n",
    "num_test_series = my_submission.series_id.nunique()\n",
    "\n",
    "model.reset_states()\n",
    "\n",
    "for ser_id, pred_df in tqdm(my_submission.groupby('series_id'), \n",
    "                            total=num_test_series, \n",
    "                            desc=\"Forecasting from Cold Start Data\"):\n",
    "        \n",
    "    # get info about this series' prediction window\n",
    "    pred_window = pred_df.prediction_window.unique()[0]\n",
    "    num_preds = pred_window_to_num_preds[pred_window]\n",
    "    num_pred_hours = pred_window_to_num_pred_hours[pred_window]\n",
    "    \n",
    "    # prepare cold start data\n",
    "    series_data = consumption_test[consumption_test.series_id == ser_id].consumption\n",
    "    cold_X, cold_y, scaler = prepare_training_data(series_data, lag)\n",
    "    \n",
    "    # fine tune our lstm model to this site using cold start data    \n",
    "    model.fit(cold_X, cold_y, epochs=1, batch_size=batch_size, verbose=0, shuffle=False)\n",
    "    \n",
    "    # make hourly forecasts for duration of pred window\n",
    "    preds = generate_hourly_forecast(num_pred_hours, series_data, model, scaler, lag)\n",
    "    \n",
    "    # reduce by taking sum over each sub window in pred window\n",
    "    reduced_preds = [pred.sum() for pred in np.split(preds, num_preds)]\n",
    "    \n",
    "    # store result in submission DataFrame\n",
    "    ser_id_mask = my_submission.series_id == ser_id\n",
    "    my_submission.loc[ser_id_mask, 'consumption'] = reduced_preds"
   ]
  },
  {
   "cell_type": "code",
   "execution_count": 116,
   "metadata": {},
   "outputs": [
    {
     "data": {
      "text/plain": [
       "count    5.808000e+03\n",
       "mean     1.673453e+05\n",
       "std      6.178224e+05\n",
       "min     -7.017159e+03\n",
       "25%      1.677594e+04\n",
       "50%      3.752884e+04\n",
       "75%      9.403788e+04\n",
       "max      5.223312e+06\n",
       "Name: consumption, dtype: float64"
      ]
     },
     "execution_count": 116,
     "metadata": {},
     "output_type": "execute_result"
    }
   ],
   "source": [
    "my_submission[my_submission.prediction_window == 'hourly'].consumption.describe()"
   ]
  },
  {
   "cell_type": "code",
   "execution_count": 117,
   "metadata": {},
   "outputs": [
    {
     "data": {
      "text/plain": [
       "count    1.337000e+03\n",
       "mean     3.429776e+06\n",
       "std      9.962007e+06\n",
       "min      4.016367e+03\n",
       "25%      4.034469e+05\n",
       "50%      9.242543e+05\n",
       "75%      2.668237e+06\n",
       "max      1.160552e+08\n",
       "Name: consumption, dtype: float64"
      ]
     },
     "execution_count": 117,
     "metadata": {},
     "output_type": "execute_result"
    }
   ],
   "source": [
    "my_submission[my_submission.prediction_window == 'daily'].consumption.describe()"
   ]
  },
  {
   "cell_type": "code",
   "execution_count": 118,
   "metadata": {},
   "outputs": [
    {
     "data": {
      "text/plain": [
       "count    3.840000e+02\n",
       "mean     2.374545e+07\n",
       "std      6.481070e+07\n",
       "min     -8.163825e+06\n",
       "25%      3.153757e+06\n",
       "50%      7.652268e+06\n",
       "75%      2.134008e+07\n",
       "max      7.423798e+08\n",
       "Name: consumption, dtype: float64"
      ]
     },
     "execution_count": 118,
     "metadata": {},
     "output_type": "execute_result"
    }
   ],
   "source": [
    "my_submission[my_submission.prediction_window == 'weekly'].consumption.describe()"
   ]
  },
  {
   "cell_type": "code",
   "execution_count": 119,
   "metadata": {},
   "outputs": [
    {
     "data": {
      "text/plain": [
       "<matplotlib.axes._subplots.AxesSubplot at 0x1a2c132780>"
      ]
     },
     "execution_count": 119,
     "metadata": {},
     "output_type": "execute_result"
    },
    {
     "data": {
      "image/png": "[encoded data removed]",
      "text/plain": [
       "<matplotlib.figure.Figure at 0x1a2c11cdd8>"
      ]
     },
     "metadata": {},
     "output_type": "display_data"
    }
   ],
   "source": [
    "# plot samples\n",
    "sample_ser = (my_submission[my_submission.prediction_window == 'hourly']\n",
    "                           .series_id\n",
    "                           .sample().values[0])\n",
    "\n",
    "(my_submission[my_submission.series_id == sample_ser]\n",
    "              .plot(x='timestamp',\n",
    "                    y='consumption',\n",
    "                    title=sample_ser,\n",
    "                    rot=90))"
   ]
  },
  {
   "cell_type": "code",
   "execution_count": 128,
   "metadata": {},
   "outputs": [],
   "source": [
    "my_submission.iloc[:,:-1].to_csv(\"submissions/my_submmission_initial.csv\", index_label='pred_id')"
   ]
  },
  {
   "cell_type": "code",
   "execution_count": null,
   "metadata": {},
   "outputs": [],
   "source": []
  },
  {
   "cell_type": "code",
   "execution_count": null,
   "metadata": {},
   "outputs": [],
   "source": []
  },
  {
   "cell_type": "code",
   "execution_count": null,
   "metadata": {},
   "outputs": [],
   "source": []
  },
  {
   "cell_type": "code",
   "execution_count": 57,
   "metadata": {},
   "outputs": [],
   "source": [
    "def RMSE(y, pred):\n",
    "    return mean_squared_error(y, pred)**0.5\n",
    "\n",
    "def MAE(y, pred):\n",
    "    return sum([abs(i) for i in (y-pred)])/y.shape[0]"
   ]
  },
  {
   "cell_type": "code",
   "execution_count": 58,
   "metadata": {},
   "outputs": [],
   "source": [
    "def create_train_test(train_size, test_size, data, limit=5800):\n",
    "    train = data[:train_size]\n",
    "    test  = data[train_size:limit]\n",
    "    scaler = MinMaxScaler(feature_range=(0,1))\n",
    "    scaler.fit(train)\n",
    "    train = scaler.transform(train)\n",
    "    test = scaler.transform(test)\n",
    "    return scaler, train, test"
   ]
  },
  {
   "cell_type": "code",
   "execution_count": 59,
   "metadata": {},
   "outputs": [],
   "source": [
    "def split_train_test(train, test):\n",
    "    # Split into input and outputs \n",
    "    train_X, train_y = train[:,:-5], train[:,-5:]\n",
    "    test_X, test_y = test[:, :-5], test[:, -5:]\n",
    "    # LSTM requires 3D data sets: [samples, timesteps, features]\n",
    "    total_features = train_X.shape[1]\n",
    "    train_X = train_X.reshape(train_X.shape[0],7,int(total_features/7))\n",
    "    test_X = test_X.reshape(test_X.shape[0], 7,int(total_features/7))\n",
    "    print(train_X.shape, train_y.shape, test_X.shape, test_y.shape)\n",
    "    \n",
    "    return train_X, train_y, test_X, test_y"
   ]
  },
  {
   "cell_type": "code",
   "execution_count": 60,
   "metadata": {},
   "outputs": [],
   "source": [
    "def fit_lstm(train_X, train_y, layers=3, n_batch=50, n_neurons=100, n_epochs=100, n_output=1, dropout=0):\n",
    "    model = Sequential()\n",
    "    model.add(LSTM(n_neurons, batch_input_shape=(n_batch, train_X.shape[1], train_X.shape[2]),\n",
    "                 stateful=True, activation='tanh', return_sequences=True))\n",
    "    for i in range(layers-2):\n",
    "        model.add(LSTM(n_neurons, stateful=True, activation='tanh', return_sequences=True, dropout=dropout))\n",
    "    model.add(LSTM(n_neurons, stateful=True, activation='relu', dropout=dropout))\n",
    "    model.add(Dense(n_output))\n",
    "    model.compile(loss='mse', optimizer='adam')\n",
    "    for i in range(int(train_X.shape[0] / n_batch)):\n",
    "        this_X = train_X[(i * n_batch):((i + 1) * n_batch)][:][:]\n",
    "        this_y = train_y[(i * n_batch):((i + 1) * n_batch)]\n",
    "        history = model.fit(this_X, this_y, epochs=n_epochs, \n",
    "                                    batch_size=n_batch, \n",
    "                                    verbose=1, shuffle=False)\n",
    "        model.reset_states()\n",
    "    return model, history, n_batch"
   ]
  },
  {
   "cell_type": "code",
   "execution_count": 61,
   "metadata": {},
   "outputs": [],
   "source": [
    "def evaluate_model(model, test_X, test_y, scaler, n_batch, n_samples=1):\n",
    "\n",
    "    y_pred = [test_X.shape[0]]\n",
    "    for i in range(int(test_X.shape[0] / n_batch)):\n",
    "        this_X = test_X[(i * n_batch):((i + 1) * n_batch)][:][:]\n",
    "        this_pred = model.predict(this_X, batch_size=n_batch)    \n",
    "        y_pred[(i * n_batch):((i + 1) * n_batch)] = [list(i) for i in this_pred]\n",
    "    \n",
    "    test_X_nn = test_X.reshape((test_X.shape[0], test_X.shape[1]*test_X.shape[2]))\n",
    "    # Invert scaling for forecast\n",
    "    inv_y_pred = np.concatenate((y_pred, test_X_nn[:, :]), axis=1)\n",
    "    inv_y_pred = scaler.inverse_transform(inv_y_pred)\n",
    "    inv_y_pred = inv_y_pred[:,:5]\n",
    "    inv_y_pred = np.round(np.maximum(inv_y_pred, 0))\n",
    "    # Invert scaling for actual\n",
    "    test_y_nn = test_y.reshape((len(test_y), 5))\n",
    "    inv_y = np.concatenate((test_y_nn, test_X_nn[:, :]), axis=1)\n",
    "    inv_y = scaler.inverse_transform(inv_y)\n",
    "    inv_y = inv_y[:,:5]\n",
    "    # print scores\n",
    "    print(inv_y_pred[:10])\n",
    "    print(inv_y[:10])\n",
    "    rmse = dict()\n",
    "    for i in range(n_samples):\n",
    "        rmse[i] = RMSE([m[i]/4 for m in inv_y], [n[i]/4 for n in inv_y_pred])\n",
    "        print('Test RMSE: %.3f' % rmse[i])\n",
    "    \n",
    "    return rmse, inv_y_pred, inv_y"
   ]
  },
  {
   "cell_type": "code",
   "execution_count": 62,
   "metadata": {},
   "outputs": [],
   "source": [
    "def append_prediction(df, prediction):\n",
    "    pred_df = df.iloc[-prediction.shape[0]-26:-26,:]\n",
    "#     pred_df = df.iloc[-prediction.shape[0]-33:-33,:]\n",
    "    for i in range(prediction.shape[1]):\n",
    "        pred_df['prediction{}'.format(i)] = [x[i] for x in prediction]\n",
    "    return pred_df"
   ]
  },
  {
   "cell_type": "code",
   "execution_count": 63,
   "metadata": {},
   "outputs": [],
   "source": [
    "def append_baseline(data, n_samples):\n",
    "    baseline = dict()\n",
    "    for i in range(n_samples):\n",
    "        baseline[i] = data.iloc[:5100,:].groupby(['hour'])['swaps{}'.format(i)].quantile(.75)\n",
    "        baseline[i] = baseline[i].reset_index()\n",
    "        baseline[i].rename(columns={'swaps{}'.format(i):'baseline{}'.format(i)}, inplace=True)\n",
    "        data = data.merge(baseline[i], on='hour', how='left')\n",
    "    return data"
   ]
  },
  {
   "cell_type": "code",
   "execution_count": 64,
   "metadata": {},
   "outputs": [],
   "source": [
    "def plot_forecast_multi(data, range_lower=-700, range_upper=None, n_samples=1):\n",
    "    plt.subplots(n_samples, 1, figsize=(20,6*n_samples))\n",
    "    for i in range(n_samples):\n",
    "        plt.subplot(n_samples, 1, i+1)\n",
    "        plt.plot(data.iloc[range_lower:range_upper].index, np.round(data.iloc[range_lower:range_upper,i]/4), label='Real')\n",
    "        plt.plot(data.iloc[range_lower:range_upper].index, np.round(data.iloc[range_lower:range_upper,list(data.columns).index('prediction{}'.format(i))]/4), label='Predict')\n",
    "        plt.plot(data.iloc[range_lower:range_upper].index, np.round(data.iloc[range_lower:range_upper,list(data.columns).index('baseline{}'.format(i))]/4), label='Baseline')\n",
    "        plt.xlabel('Date Time', fontsize=16)\n",
    "        plt.ylabel('Swaps', fontsize=16)\n",
    "        plt.legend();"
   ]
  },
  {
   "cell_type": "code",
   "execution_count": 65,
   "metadata": {},
   "outputs": [],
   "source": [
    "def run_experiment(vmlist, layers, n_batch, n_neurons, n_epochs, dropout):\n",
    "    #select GoStations to forecast\n",
    "    df_station = df[df.vmid.isin(vmlist)]\n",
    "    df_station = pd.pivot_table(df_station, values='swaps', index='datetime', columns='vmid')\n",
    "    df_station['hour'] = df_station.index.hour\n",
    "    \n",
    "    #rename columns\n",
    "    cols = df_station.columns\n",
    "    for n, i in enumerate(cols[:-1]):\n",
    "        df_station.rename(columns={i:'swaps'+str(n)}, inplace=True)\n",
    "        \n",
    "    prep_df = pd.concat([df_station[list(df_station.columns)[:-1]], pd.get_dummies(df_station['hour'], prefix='hour')], axis=1)\n",
    "    prep_df.loc[prep_df.index.dayofweek>4, 'weekend'] = 1\n",
    "    prep_df['weekend'].fillna(0, inplace=True)\n",
    "    cols = prep_df.columns\n",
    "    tmp = pd.DataFrame(series_to_supervised(prep_df, 7, 1))\n",
    "    tmp.drop(tmp.columns[-(prep_df.shape[1] - len(vmlist)):], axis=1, inplace=True)\n",
    "    super_data = tmp\n",
    "    \n",
    "    #split train/test set and scale\n",
    "    scaler, train, test = create_train_test(5100, len(super_data)-5100-26, super_data)\n",
    "    train_X, train_y, test_X, test_y = split_train_test(train, test)\n",
    "    \n",
    "    #train model\n",
    "    model, history, n_batch = fit_lstm(train_X, train_y, layers, n_batch, n_neurons, n_epochs, len(vmlist), dropout)\n",
    "    rmse, inv_y_pred, inv_y = evaluate_model(model, test_X, test_y, scaler, n_batch, len(vmlist))\n",
    "    \n",
    "    #create dataframe with all predictions and real data\n",
    "    pred_prep_df = append_prediction(prep_df, inv_y_pred)\n",
    "    pred_prep_df['hour']=pred_prep_df.index.hour\n",
    "    pred_index = pred_prep_df.index\n",
    "    pred_prep_df = append_baseline(pred_prep_df, len(vmlist))\n",
    "    pred_prep_df.index = pred_index\n",
    "    \n",
    "    hyperparam = pd.DataFrame(data={'layers':[layers],'batch_size':[n_batch],'neurons':[n_neurons],'epochs':[n_epochs],'dropout':[dropout],\n",
    "                   'RMSE0':[rmse[0]],'RMSE1':[rmse[1]],'RMSE2':[rmse[2]],'RMSE3':[rmse[3]],'RMSE4':[rmse[4]]})\n",
    "    \n",
    "    return pred_prep_df, hyperparam"
   ]
  },
  {
   "cell_type": "code",
   "execution_count": 66,
   "metadata": {},
   "outputs": [],
   "source": [
    "def append_results(df, vmlist, layers, n_batch, n_neurons, n_epochs, dropout):\n",
    "    pred_prep_df, hyperparam = run_experiment(vmlist, layers, n_batch, n_neurons, n_epochs, dropout)\n",
    "    df = df.append(hyperparam)\n",
    "    return df, pred_prep_df"
   ]
  },
  {
   "cell_type": "code",
   "execution_count": null,
   "metadata": {},
   "outputs": [],
   "source": []
  },
  {
   "cell_type": "code",
   "execution_count": null,
   "metadata": {},
   "outputs": [],
   "source": []
  },
  {
   "cell_type": "code",
   "execution_count": null,
   "metadata": {},
   "outputs": [],
   "source": []
  },
  {
   "cell_type": "code",
   "execution_count": null,
   "metadata": {},
   "outputs": [],
   "source": []
  },
  {
   "cell_type": "code",
   "execution_count": null,
   "metadata": {},
   "outputs": [],
   "source": []
  },
  {
   "cell_type": "code",
   "execution_count": null,
   "metadata": {},
   "outputs": [],
   "source": []
  }
 ],
 "metadata": {
  "kernelspec": {
   "display_name": "Python 3",
   "language": "python",
   "name": "python3"
  },
  "language_info": {
   "codemirror_mode": {
    "name": "ipython",
    "version": 3
   },
   "file_extension": ".py",
   "mimetype": "text/x-python",
   "name": "python",
   "nbconvert_exporter": "python",
   "pygments_lexer": "ipython3",
   "version": "3.6.5"
  }
 },
 "nbformat": 4,
 "nbformat_minor": 2
}
