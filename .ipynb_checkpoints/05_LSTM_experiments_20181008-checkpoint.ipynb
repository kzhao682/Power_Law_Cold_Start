{
 "cells": [
  {
   "cell_type": "code",
   "execution_count": 1,
   "metadata": {},
   "outputs": [],
   "source": [
    "import sys\n",
    "sys.path.append('/home/ubuntu/scripts/')"
   ]
  },
  {
   "cell_type": "code",
   "execution_count": 2,
   "metadata": {},
   "outputs": [],
   "source": [
    "from starter import *\n",
    "\n",
    "%matplotlib inline"
   ]
  },
  {
   "cell_type": "code",
   "execution_count": 3,
   "metadata": {},
   "outputs": [],
   "source": [
    "import warnings\n",
    "warnings.filterwarnings('ignore')"
   ]
  },
  {
   "cell_type": "code",
   "execution_count": 4,
   "metadata": {},
   "outputs": [],
   "source": [
    "RANDOM_SEED = 2018\n",
    "random.seed(RANDOM_SEED)"
   ]
  },
  {
   "cell_type": "markdown",
   "metadata": {},
   "source": [
    "## Load data"
   ]
  },
  {
   "cell_type": "code",
   "execution_count": 47,
   "metadata": {},
   "outputs": [],
   "source": [
    "consumption_test = pd.read_csv('cold_start_test.csv', index_col=[0], parse_dates=[2])\n",
    "consumption_train = pd.read_csv('consumption_train.csv', index_col=[0], parse_dates=[2])\n",
    "meta = pd.read_csv('new_meta.csv', index_col=[0], converters={'days_off':str})\n",
    "submission_format = pd.read_csv('new_submission_format.csv', index_col=[0], parse_dates=[2])"
   ]
  },
  {
   "cell_type": "markdown",
   "metadata": {},
   "source": [
    "Select train and test series"
   ]
  },
  {
   "cell_type": "code",
   "execution_count": 48,
   "metadata": {},
   "outputs": [],
   "source": [
    "def describe_training_data(train_df):\n",
    "    num_training_series = train_df.series_id.nunique()\n",
    "    num_training_days = num_training_series * 28\n",
    "    num_training_hours = num_training_days * 24\n",
    "    assert num_training_hours == train_df.shape[0]\n",
    "    \n",
    "    desc = f'There are {num_training_series} training ' \\\n",
    "           f'series totaling {num_training_days} days ' \\\n",
    "           f'({num_training_hours} hours) of consumption data.'\n",
    "    \n",
    "    print(desc)"
   ]
  },
  {
   "cell_type": "code",
   "execution_count": 49,
   "metadata": {},
   "outputs": [
    {
     "name": "stdout",
     "output_type": "stream",
     "text": [
      "There are 758 training series totaling 21224 days (509376 hours) of consumption data.\n"
     ]
    }
   ],
   "source": [
    "describe_training_data(consumption_train)"
   ]
  },
  {
   "cell_type": "code",
   "execution_count": 50,
   "metadata": {},
   "outputs": [
    {
     "name": "stdout",
     "output_type": "stream",
     "text": [
      "There are 161 training series totaling 4508 days (108192 hours) of consumption data.\n"
     ]
    }
   ],
   "source": [
    "# choose subset of series for training\n",
    "frac_series_to_use = 0.2\n",
    "\n",
    "rng = np.random.RandomState(seed=RANDOM_SEED)\n",
    "series_ids = consumption_train.series_id.unique()\n",
    "series_mask = rng.binomial(1,\n",
    "                           frac_series_to_use,\n",
    "                           size=series_ids.shape).astype(bool)\n",
    "\n",
    "training_series = series_ids[series_mask]\n",
    "\n",
    "# reduce training data to series subset\n",
    "consumption_train = consumption_train[consumption_train.series_id.isin(training_series)]\n",
    "\n",
    "# describe the reduced set\n",
    "describe_training_data(consumption_train)"
   ]
  },
  {
   "cell_type": "raw",
   "metadata": {
    "scrolled": true
   },
   "source": [
    "# choose subset of series to use\n",
    "frac_series_to_use = 0.1\n",
    "rng = np.random.RandomState(seed=RANDOM_SEED)\n",
    "series_ids = consumption_train.series_id.unique()\n",
    "series_mask = rng.binomial(1,\n",
    "                           frac_series_to_use,\n",
    "                           size=series_ids.shape).astype(bool)\n",
    "series_data = series_ids[series_mask]\n",
    "\n",
    "# allocate 1/3 of data to testing set\n",
    "test_series = series_data[rng.binomial(1, 0.2, size=series_data.shape).astype(bool)]\n",
    "train_series = [x for x in series_data if x not in test_series]\n",
    "\n",
    "# reduce training data to series subset\n",
    "consumption_test = consumption_train[consumption_train.series_id.isin(test_series)]\n",
    "consumption_train = consumption_train[consumption_train.series_id.isin(train_series)]\n",
    "\n",
    "# # describe the reduced set\n",
    "describe_training_data(consumption_train)"
   ]
  },
  {
   "cell_type": "code",
   "execution_count": 51,
   "metadata": {},
   "outputs": [
    {
     "data": {
      "text/plain": [
       "series_id  prediction_window\n",
       "100004     weekly                4.0\n",
       "100010     hourly               12.0\n",
       "100012     hourly               10.0\n",
       "100020     weekly               13.0\n",
       "100028     daily                13.0\n",
       "Name: prediction_window, dtype: float64"
      ]
     },
     "execution_count": 51,
     "metadata": {},
     "output_type": "execute_result"
    }
   ],
   "source": [
    "# add prediction_window to the test data\n",
    "pred_windows = submission_format[['series_id', 'prediction_window']].drop_duplicates()\n",
    "consumption_test = consumption_test.merge(pred_windows, on='series_id')\n",
    "\n",
    "num_cold_start_days_provided = (consumption_test.groupby('series_id')\n",
    "                                               .prediction_window\n",
    "                                               .value_counts()\n",
    "                                               .divide(24))\n",
    "\n",
    "num_cold_start_days_provided.head()"
   ]
  },
  {
   "cell_type": "code",
   "execution_count": 52,
   "metadata": {},
   "outputs": [
    {
     "data": {
      "text/plain": [
       "(62, 19)"
      ]
     },
     "execution_count": 52,
     "metadata": {},
     "output_type": "execute_result"
    }
   ],
   "source": [
    "len(train_series), len(test_series)"
   ]
  },
  {
   "cell_type": "markdown",
   "metadata": {},
   "source": [
    "## Create prediction windows for test set"
   ]
  },
  {
   "cell_type": "markdown",
   "metadata": {},
   "source": [
    "Create training set first"
   ]
  },
  {
   "cell_type": "code",
   "execution_count": 22,
   "metadata": {},
   "outputs": [],
   "source": [
    "pred_groups = pd.DataFrame(data={'series_id':test_series, 'prediction_window':[random.choice(['hourly','daily','weekly']) for _ in range(len(test_series))]})\n",
    "test_window = pred_groups.merge(\n",
    "    consumption_test[consumption_test.series_id==pred_groups.series_id.values.tolist()[0]]\n",
    "                                .iloc[:50,:], on='series_id', how='inner')\n",
    "for i in pred_groups.series_id.values.tolist()[1:]:\n",
    "    test_window = pd.concat([test_window, pred_groups.merge(\n",
    "        consumption_test[consumption_test.series_id==i].iloc[:50,:], on='series_id', how='inner')])"
   ]
  },
  {
   "cell_type": "code",
   "execution_count": 23,
   "metadata": {},
   "outputs": [],
   "source": [
    "def create_scoring_format(train_hours=40, pred_hours=10):\n",
    "    pred_scoring = test_window[test_window.series_id==pred_groups.series_id.values.tolist()[0]][train_hours:train_hours+pred_hours]\n",
    "    for j in pred_groups.series_id.values.tolist()[1:]:\n",
    "        pred_scoring = pd.concat([pred_scoring, test_window[test_window.series_id==j][train_hours:train_hours+pred_hours]])\n",
    "    pred_scoring.set_index('timestamp', inplace=True)\n",
    "    return pred_scoring"
   ]
  },
  {
   "cell_type": "code",
   "execution_count": 24,
   "metadata": {},
   "outputs": [],
   "source": [
    "pred_scoring = create_scoring_format()"
   ]
  },
  {
   "cell_type": "code",
   "execution_count": 28,
   "metadata": {},
   "outputs": [
    {
     "name": "stdout",
     "output_type": "stream",
     "text": [
      "Unique series_id:  11\n"
     ]
    }
   ],
   "source": [
    "print('Unique series_id: ', test_window.series_id.nunique())"
   ]
  },
  {
   "cell_type": "markdown",
   "metadata": {},
   "source": [
    "## Set up data for model"
   ]
  },
  {
   "cell_type": "code",
   "execution_count": 26,
   "metadata": {},
   "outputs": [
    {
     "name": "stderr",
     "output_type": "stream",
     "text": [
      "Using TensorFlow backend.\n"
     ]
    }
   ],
   "source": [
    "from sklearn.preprocessing import LabelEncoder\n",
    "from sklearn.preprocessing import MinMaxScaler\n",
    "from sklearn.metrics import mean_squared_error\n",
    "\n",
    "from keras import backend as K\n",
    "from keras.models import Sequential\n",
    "from keras.layers import Dense, LSTM\n",
    "from keras.models import load_model\n",
    "from subprocess import check_output\n",
    "\n",
    "from tqdm import tqdm"
   ]
  },
  {
   "cell_type": "code",
   "execution_count": 36,
   "metadata": {},
   "outputs": [],
   "source": [
    "def create_lagged_features(df, lag=1):\n",
    "    if not type(df) == pd.DataFrame:\n",
    "        df = pd.DataFrame(df, columns=['consumption'])\n",
    "    \n",
    "    def _rename_lag(ser, j):\n",
    "        ser.name = ser.name + f'_{j}'\n",
    "        return ser\n",
    "        \n",
    "    # add a column lagged by `i` steps\n",
    "    for i in range(1, lag + 1):\n",
    "        df = df.join(df.consumption.shift(i).pipe(_rename_lag, i))\n",
    "\n",
    "    df.dropna(inplace=True)\n",
    "    return df"
   ]
  },
  {
   "cell_type": "code",
   "execution_count": 37,
   "metadata": {},
   "outputs": [],
   "source": [
    "def prepare_training_data(consumption_series, lag):\n",
    "    \"\"\" Converts a series of consumption data into a\n",
    "        lagged, scaled sample.\n",
    "    \"\"\"\n",
    "    # scale training data\n",
    "    scaler = MinMaxScaler(feature_range=(-1, 1))\n",
    "    consumption_vals = scaler.fit_transform(consumption_series.values.reshape(-1, 1))\n",
    "    \n",
    "    # convert consumption series to lagged features\n",
    "    consumption_lagged = create_lagged_features(consumption_vals, lag=lag)\n",
    "\n",
    "    # X, y format taking the first column (original time series) to be the y\n",
    "    X = consumption_lagged.drop('consumption', axis=1).values\n",
    "    y = consumption_lagged.consumption.values\n",
    "    \n",
    "    # keras expects 3 dimensional X\n",
    "    X = X.reshape(X.shape[0], 1, X.shape[1])\n",
    "    \n",
    "    return X, y, scaler"
   ]
  },
  {
   "cell_type": "markdown",
   "metadata": {},
   "source": [
    "## Fit model"
   ]
  },
  {
   "cell_type": "code",
   "execution_count": 29,
   "metadata": {},
   "outputs": [],
   "source": [
    "def set_model(lag=24, num_neurons=24, batch_size=1, n_layers=1):\n",
    "    # model parameters\n",
    "    batch_input_shape=(batch_size, 1, lag)\n",
    "    \n",
    "    #set up model\n",
    "    model = Sequential()\n",
    "#     if n_layers==1:\n",
    "#         model.add(LSTM(units=num_neurons[0], batch_input_shape=batch_input_shape, stateful=True, dropout=0.2))\n",
    "#     elif n_layers>1:\n",
    "#         model.add(LSTM(units=num_neurons[0], batch_input_shape=batch_input_shape, stateful=True, return_sequences=True, dropout=0.2))\n",
    "#         for i in range(n_layers-1):\n",
    "#             model.add(LSTM(units=num_neurons[i+1], stateful=True, activation='relu', dropout=0.2))\n",
    "    if n_layers==1:\n",
    "        model.add(LSTM(units=num_neurons, batch_input_shape=batch_input_shape, stateful=True, dropout=0.2))\n",
    "    elif n_layers>1:\n",
    "        \n",
    "        for i in range(n_layers-1):\n",
    "            model.add(LSTM(units=num_neurons, batch_input_shape=batch_input_shape, stateful=True, return_sequences=True, dropout=0.2))\n",
    "        model.add(LSTM(units=num_neurons, stateful=True, activation='relu', dropout=0.2))    \n",
    "    \n",
    "    model.add(Dense(1))\n",
    "    model.compile(loss='mean_absolute_error', optimizer='adam')\n",
    "    \n",
    "    return model"
   ]
  },
  {
   "cell_type": "code",
   "execution_count": 30,
   "metadata": {},
   "outputs": [],
   "source": [
    "def fit_model(model, train_data, n_epochs=3, batch_size=1):\n",
    "    \"\"\" Fits model on training data on each series_id with specified\n",
    "        number of epochs.\n",
    "    \"\"\"\n",
    "    for i in tqdm(range(n_epochs), total=n_epochs, desc='Learning Consumption Trends - Epochs'):\n",
    "        \n",
    "        # reset the LSTM state for training on each series\n",
    "        for ser_id, ser_data in train_data.groupby('series_id'):\n",
    "            # prepare the data\n",
    "            X, y, scaler = prepare_training_data(ser_data.consumption, lag)\n",
    "            #fit the model\n",
    "            model.fit(X, y, epochs=1, batch_size=batch_size, verbose=0, shuffle=False)\n",
    "#             model.fit(X, y, epochs=1, batch_input_shape=(n_batch, train_X.shape[1], train_X.shape[2]),\n",
    "#                       verbose=1, shuffle=False)\n",
    "            model.reset_states()\n",
    "    return model"
   ]
  },
  {
   "cell_type": "code",
   "execution_count": 31,
   "metadata": {},
   "outputs": [],
   "source": [
    "def generate_hourly_forecast(num_pred_hours, consumption, model, scaler, lag, batch_size):\n",
    "    \"\"\" Uses last hour's prediction to generate next for num_pred_hours, \n",
    "        initialized by most recent cold start prediction. Inverts scale of \n",
    "        predictions before return.\n",
    "    \"\"\"\n",
    "   # allocate prediction frame\n",
    "    preds_scaled = np.zeros(num_pred_hours)\n",
    "    \n",
    "    # initial X is last lag values from the cold start\n",
    "    X = scaler.transform(consumption.values.reshape(-1, 1))[-lag:]\n",
    "    \n",
    "    # forecast\n",
    "    for i in range(num_pred_hours):\n",
    "        # predict scaled value for next time step\n",
    "        yhat = model.predict(X.reshape(1, 1, lag), batch_size=batch_size)[0][0]\n",
    "        preds_scaled[i] = yhat\n",
    "        \n",
    "        # update X to be latest data plus prediction\n",
    "        X = pd.Series(X.ravel()).shift(-1).fillna(yhat).values\n",
    "\n",
    "    # revert scale back to original range\n",
    "    hourly_preds = scaler.inverse_transform(preds_scaled.reshape(-1, 1)).ravel()\n",
    "    return hourly_preds"
   ]
  },
  {
   "cell_type": "code",
   "execution_count": 32,
   "metadata": {},
   "outputs": [],
   "source": [
    "def generate_complete_forecast(model, test_data, submission, lag=24, batch_size=1):\n",
    "    # set definitions of prediction windows\n",
    "    pred_window_to_num_preds = {'hourly': 24, 'daily': 7, 'weekly': 2}\n",
    "    pred_window_to_num_pred_hours = {'hourly': 24, 'daily': 7 * 24, 'weekly': 2 * 7 * 24}\n",
    "    \n",
    "    num_test_series = submission.series_id.nunique()\n",
    "    model.reset_states()\n",
    "    \n",
    "    for ser_id, pred_df in tqdm(submission.groupby('series_id'),\n",
    "                               total=num_test_series,\n",
    "                               desc=\"Forecasting from Cold Start Data\"):\n",
    "        \n",
    "        # get info about this series' prediction window\n",
    "        pred_window = pred_df.prediction_window.unique()[0]\n",
    "        num_preds = pred_window_to_num_preds[pred_window]\n",
    "        num_pred_hours = pred_window_to_num_pred_hours[pred_window]\n",
    "        \n",
    "        # prepare cold start data\n",
    "        series_data = consumption_test[consumption_test.series_id == ser_id].consumption\n",
    "        cold_X, cold_y, scaler = prepare_training_data(series_data, lag)\n",
    "        \n",
    "        # fine tune our lstm model to this site using cold start data    \n",
    "        model.fit(cold_X, cold_y, epochs=1, batch_size=batch_size, verbose=1, shuffle=False)\n",
    "\n",
    "        # make hourly forecasts for duration of pred window\n",
    "        preds = generate_hourly_forecast(num_pred_hours, series_data, model, scaler, lag, batch_size)\n",
    "\n",
    "        # reduce by taking sum over each sub window in pred window\n",
    "        reduced_preds = [pred.sum() for pred in np.split(preds, num_preds)]\n",
    "\n",
    "        # store result in submission DataFrame\n",
    "        ser_id_mask = my_submission.series_id == ser_id\n",
    "        my_submission.loc[ser_id_mask, 'consumption'] = reduced_preds\n",
    "        \n",
    "    return model, my_submission"
   ]
  },
  {
   "cell_type": "code",
   "execution_count": 33,
   "metadata": {},
   "outputs": [],
   "source": [
    "def run_experiment(train, test, lag, num_neurons, batch_size, n_epochs, n_layers, train_hours=40, pred_hours=10):\n",
    "    # set up model architecture\n",
    "    pred_scoring = create_scoring_format()\n",
    "    model = set_model(lag=lag, num_neurons=num_neurons, batch_size=batch_size, n_layers=n_layers)\n",
    "    \n",
    "    # fit model on training data\n",
    "    model = fit_model(model, train, n_epochs=n_epochs, batch_size=batch_size)\n",
    "    \n",
    "    num_pred_hours = pred_hours\n",
    "    num_test_series = test.series_id.nunique()\n",
    "    scores = []\n",
    "    \n",
    "    for ser_id, pred_df in tqdm(test.groupby('series_id'),\n",
    "                           total=num_test_series,\n",
    "                           desc='Forecasting from Cold Start Data'):\n",
    "        series_data = test[test.series_id==ser_id].consumption[:train_hours]\n",
    "        cold_X, cold_y, scaler = prepare_training_data(series_data, lag)\n",
    "        model.fit(cold_X, cold_y, epochs=1, batch_size=batch_size, verbose=0, shuffle=False)\n",
    "        y_pred = generate_hourly_forecast(num_pred_hours, series_data, model, scaler, lag, batch_size)\n",
    "        y_real = test[test.series_id==ser_id].consumption[train_hours:train_hours+pred_hours]\n",
    "        model.reset_states()\n",
    "        pred_scoring.loc[pred_scoring.series_id==ser_id,'prediction'] = y_pred\n",
    "        scores.append(RMSE(y_real, y_pred))\n",
    "    \n",
    "    return model, scores, pred_scoring"
   ]
  },
  {
   "cell_type": "markdown",
   "metadata": {},
   "source": [
    "-----"
   ]
  },
  {
   "cell_type": "code",
   "execution_count": 34,
   "metadata": {},
   "outputs": [],
   "source": [
    "exp_param = dict()\n",
    "exp_param = {'lag': [12, 12, 12, 12],\n",
    "            'num_neurons': [100, 100, 200, 200],\n",
    "            'batch_size': [1, 1, 1, 1],\n",
    "            'n_epochs':[10, 20, 10, 20],\n",
    "            'n_layers':[2, 4, 2, 4]}\n",
    "df_exp = pd.DataFrame(data=exp_param)"
   ]
  },
  {
   "cell_type": "code",
   "execution_count": 35,
   "metadata": {
    "collapsed": true
   },
   "outputs": [
    {
     "name": "stderr",
     "output_type": "stream",
     "text": [
      "Learning Consumption Trends - Epochs:  20%|██        | 2/10 [10:08<40:47, 305.90s/it]"
     ]
    },
    {
     "ename": "KeyboardInterrupt",
     "evalue": "",
     "output_type": "error",
     "traceback": [
      "\u001b[0;31m---------------------------------------------------------------------------\u001b[0m",
      "\u001b[0;31mKeyboardInterrupt\u001b[0m                         Traceback (most recent call last)",
      "\u001b[0;32m<ipython-input-35-c27c5d2f8baa>\u001b[0m in \u001b[0;36m<module>\u001b[0;34m()\u001b[0m\n\u001b[1;32m     11\u001b[0m     \u001b[0;31m# train model and calculate score\u001b[0m\u001b[0;34m\u001b[0m\u001b[0;34m\u001b[0m\u001b[0m\n\u001b[1;32m     12\u001b[0m     model, scores, pred_scoring = run_experiment(consumption_train, consumption_test, lag, num_neurons, batch_size,\n\u001b[0;32m---> 13\u001b[0;31m                                                     n_epochs, n_layers)\n\u001b[0m\u001b[1;32m     14\u001b[0m \u001b[0;34m\u001b[0m\u001b[0m\n\u001b[1;32m     15\u001b[0m     \u001b[0;31m# save results to dataframe\u001b[0m\u001b[0;34m\u001b[0m\u001b[0;34m\u001b[0m\u001b[0m\n",
      "\u001b[0;32m<ipython-input-33-48d3f7290c8a>\u001b[0m in \u001b[0;36mrun_experiment\u001b[0;34m(train, test, lag, num_neurons, batch_size, n_epochs, n_layers, train_hours, pred_hours)\u001b[0m\n\u001b[1;32m      5\u001b[0m \u001b[0;34m\u001b[0m\u001b[0m\n\u001b[1;32m      6\u001b[0m     \u001b[0;31m# fit model on training data\u001b[0m\u001b[0;34m\u001b[0m\u001b[0;34m\u001b[0m\u001b[0m\n\u001b[0;32m----> 7\u001b[0;31m     \u001b[0mmodel\u001b[0m \u001b[0;34m=\u001b[0m \u001b[0mfit_model\u001b[0m\u001b[0;34m(\u001b[0m\u001b[0mmodel\u001b[0m\u001b[0;34m,\u001b[0m \u001b[0mtrain\u001b[0m\u001b[0;34m,\u001b[0m \u001b[0mn_epochs\u001b[0m\u001b[0;34m=\u001b[0m\u001b[0mn_epochs\u001b[0m\u001b[0;34m,\u001b[0m \u001b[0mbatch_size\u001b[0m\u001b[0;34m=\u001b[0m\u001b[0mbatch_size\u001b[0m\u001b[0;34m)\u001b[0m\u001b[0;34m\u001b[0m\u001b[0m\n\u001b[0m\u001b[1;32m      8\u001b[0m \u001b[0;34m\u001b[0m\u001b[0m\n\u001b[1;32m      9\u001b[0m     \u001b[0mnum_pred_hours\u001b[0m \u001b[0;34m=\u001b[0m \u001b[0mpred_hours\u001b[0m\u001b[0;34m\u001b[0m\u001b[0m\n",
      "\u001b[0;32m<ipython-input-30-bff00ea3965e>\u001b[0m in \u001b[0;36mfit_model\u001b[0;34m(model, train_data, n_epochs, batch_size)\u001b[0m\n\u001b[1;32m     10\u001b[0m             \u001b[0mX\u001b[0m\u001b[0;34m,\u001b[0m \u001b[0my\u001b[0m\u001b[0;34m,\u001b[0m \u001b[0mscaler\u001b[0m \u001b[0;34m=\u001b[0m \u001b[0mprepare_training_data\u001b[0m\u001b[0;34m(\u001b[0m\u001b[0mser_data\u001b[0m\u001b[0;34m.\u001b[0m\u001b[0mconsumption\u001b[0m\u001b[0;34m,\u001b[0m \u001b[0mlag\u001b[0m\u001b[0;34m)\u001b[0m\u001b[0;34m\u001b[0m\u001b[0m\n\u001b[1;32m     11\u001b[0m             \u001b[0;31m#fit the model\u001b[0m\u001b[0;34m\u001b[0m\u001b[0;34m\u001b[0m\u001b[0m\n\u001b[0;32m---> 12\u001b[0;31m             \u001b[0mmodel\u001b[0m\u001b[0;34m.\u001b[0m\u001b[0mfit\u001b[0m\u001b[0;34m(\u001b[0m\u001b[0mX\u001b[0m\u001b[0;34m,\u001b[0m \u001b[0my\u001b[0m\u001b[0;34m,\u001b[0m \u001b[0mepochs\u001b[0m\u001b[0;34m=\u001b[0m\u001b[0;36m1\u001b[0m\u001b[0;34m,\u001b[0m \u001b[0mbatch_size\u001b[0m\u001b[0;34m=\u001b[0m\u001b[0mbatch_size\u001b[0m\u001b[0;34m,\u001b[0m \u001b[0mverbose\u001b[0m\u001b[0;34m=\u001b[0m\u001b[0;36m0\u001b[0m\u001b[0;34m,\u001b[0m \u001b[0mshuffle\u001b[0m\u001b[0;34m=\u001b[0m\u001b[0;32mFalse\u001b[0m\u001b[0;34m)\u001b[0m\u001b[0;34m\u001b[0m\u001b[0m\n\u001b[0m\u001b[1;32m     13\u001b[0m \u001b[0;31m#             model.fit(X, y, epochs=1, batch_input_shape=(n_batch, train_X.shape[1], train_X.shape[2]),\u001b[0m\u001b[0;34m\u001b[0m\u001b[0;34m\u001b[0m\u001b[0m\n\u001b[1;32m     14\u001b[0m \u001b[0;31m#                       verbose=1, shuffle=False)\u001b[0m\u001b[0;34m\u001b[0m\u001b[0;34m\u001b[0m\u001b[0m\n",
      "\u001b[0;32m~/anaconda3/envs/tensorflow_p36/lib/python3.6/site-packages/keras/engine/training.py\u001b[0m in \u001b[0;36mfit\u001b[0;34m(self, x, y, batch_size, epochs, verbose, callbacks, validation_split, validation_data, shuffle, class_weight, sample_weight, initial_epoch, steps_per_epoch, validation_steps, **kwargs)\u001b[0m\n\u001b[1;32m   1035\u001b[0m                                         \u001b[0minitial_epoch\u001b[0m\u001b[0;34m=\u001b[0m\u001b[0minitial_epoch\u001b[0m\u001b[0;34m,\u001b[0m\u001b[0;34m\u001b[0m\u001b[0m\n\u001b[1;32m   1036\u001b[0m                                         \u001b[0msteps_per_epoch\u001b[0m\u001b[0;34m=\u001b[0m\u001b[0msteps_per_epoch\u001b[0m\u001b[0;34m,\u001b[0m\u001b[0;34m\u001b[0m\u001b[0m\n\u001b[0;32m-> 1037\u001b[0;31m                                         validation_steps=validation_steps)\n\u001b[0m\u001b[1;32m   1038\u001b[0m \u001b[0;34m\u001b[0m\u001b[0m\n\u001b[1;32m   1039\u001b[0m     def evaluate(self, x=None, y=None,\n",
      "\u001b[0;32m~/anaconda3/envs/tensorflow_p36/lib/python3.6/site-packages/keras/engine/training_arrays.py\u001b[0m in \u001b[0;36mfit_loop\u001b[0;34m(model, f, ins, out_labels, batch_size, epochs, verbose, callbacks, val_f, val_ins, shuffle, callback_metrics, initial_epoch, steps_per_epoch, validation_steps)\u001b[0m\n\u001b[1;32m    197\u001b[0m                     \u001b[0mins_batch\u001b[0m\u001b[0;34m[\u001b[0m\u001b[0mi\u001b[0m\u001b[0;34m]\u001b[0m \u001b[0;34m=\u001b[0m \u001b[0mins_batch\u001b[0m\u001b[0;34m[\u001b[0m\u001b[0mi\u001b[0m\u001b[0;34m]\u001b[0m\u001b[0;34m.\u001b[0m\u001b[0mtoarray\u001b[0m\u001b[0;34m(\u001b[0m\u001b[0;34m)\u001b[0m\u001b[0;34m\u001b[0m\u001b[0m\n\u001b[1;32m    198\u001b[0m \u001b[0;34m\u001b[0m\u001b[0m\n\u001b[0;32m--> 199\u001b[0;31m                 \u001b[0mouts\u001b[0m \u001b[0;34m=\u001b[0m \u001b[0mf\u001b[0m\u001b[0;34m(\u001b[0m\u001b[0mins_batch\u001b[0m\u001b[0;34m)\u001b[0m\u001b[0;34m\u001b[0m\u001b[0m\n\u001b[0m\u001b[1;32m    200\u001b[0m                 \u001b[0mouts\u001b[0m \u001b[0;34m=\u001b[0m \u001b[0mto_list\u001b[0m\u001b[0;34m(\u001b[0m\u001b[0mouts\u001b[0m\u001b[0;34m)\u001b[0m\u001b[0;34m\u001b[0m\u001b[0m\n\u001b[1;32m    201\u001b[0m                 \u001b[0;32mfor\u001b[0m \u001b[0ml\u001b[0m\u001b[0;34m,\u001b[0m \u001b[0mo\u001b[0m \u001b[0;32min\u001b[0m \u001b[0mzip\u001b[0m\u001b[0;34m(\u001b[0m\u001b[0mout_labels\u001b[0m\u001b[0;34m,\u001b[0m \u001b[0mouts\u001b[0m\u001b[0;34m)\u001b[0m\u001b[0;34m:\u001b[0m\u001b[0;34m\u001b[0m\u001b[0m\n",
      "\u001b[0;32m~/anaconda3/envs/tensorflow_p36/lib/python3.6/site-packages/keras/backend/tensorflow_backend.py\u001b[0m in \u001b[0;36m__call__\u001b[0;34m(self, inputs)\u001b[0m\n\u001b[1;32m   2664\u001b[0m                 \u001b[0;32mreturn\u001b[0m \u001b[0mself\u001b[0m\u001b[0;34m.\u001b[0m\u001b[0m_legacy_call\u001b[0m\u001b[0;34m(\u001b[0m\u001b[0minputs\u001b[0m\u001b[0;34m)\u001b[0m\u001b[0;34m\u001b[0m\u001b[0m\n\u001b[1;32m   2665\u001b[0m \u001b[0;34m\u001b[0m\u001b[0m\n\u001b[0;32m-> 2666\u001b[0;31m             \u001b[0;32mreturn\u001b[0m \u001b[0mself\u001b[0m\u001b[0;34m.\u001b[0m\u001b[0m_call\u001b[0m\u001b[0;34m(\u001b[0m\u001b[0minputs\u001b[0m\u001b[0;34m)\u001b[0m\u001b[0;34m\u001b[0m\u001b[0m\n\u001b[0m\u001b[1;32m   2667\u001b[0m         \u001b[0;32melse\u001b[0m\u001b[0;34m:\u001b[0m\u001b[0;34m\u001b[0m\u001b[0m\n\u001b[1;32m   2668\u001b[0m             \u001b[0;32mif\u001b[0m \u001b[0mpy_any\u001b[0m\u001b[0;34m(\u001b[0m\u001b[0mis_tensor\u001b[0m\u001b[0;34m(\u001b[0m\u001b[0mx\u001b[0m\u001b[0;34m)\u001b[0m \u001b[0;32mfor\u001b[0m \u001b[0mx\u001b[0m \u001b[0;32min\u001b[0m \u001b[0minputs\u001b[0m\u001b[0;34m)\u001b[0m\u001b[0;34m:\u001b[0m\u001b[0;34m\u001b[0m\u001b[0m\n",
      "\u001b[0;32m~/anaconda3/envs/tensorflow_p36/lib/python3.6/site-packages/keras/backend/tensorflow_backend.py\u001b[0m in \u001b[0;36m_call\u001b[0;34m(self, inputs)\u001b[0m\n\u001b[1;32m   2634\u001b[0m                                 \u001b[0msymbol_vals\u001b[0m\u001b[0;34m,\u001b[0m\u001b[0;34m\u001b[0m\u001b[0m\n\u001b[1;32m   2635\u001b[0m                                 session)\n\u001b[0;32m-> 2636\u001b[0;31m         \u001b[0mfetched\u001b[0m \u001b[0;34m=\u001b[0m \u001b[0mself\u001b[0m\u001b[0;34m.\u001b[0m\u001b[0m_callable_fn\u001b[0m\u001b[0;34m(\u001b[0m\u001b[0;34m*\u001b[0m\u001b[0marray_vals\u001b[0m\u001b[0;34m)\u001b[0m\u001b[0;34m\u001b[0m\u001b[0m\n\u001b[0m\u001b[1;32m   2637\u001b[0m         \u001b[0;32mreturn\u001b[0m \u001b[0mfetched\u001b[0m\u001b[0;34m[\u001b[0m\u001b[0;34m:\u001b[0m\u001b[0mlen\u001b[0m\u001b[0;34m(\u001b[0m\u001b[0mself\u001b[0m\u001b[0;34m.\u001b[0m\u001b[0moutputs\u001b[0m\u001b[0;34m)\u001b[0m\u001b[0;34m]\u001b[0m\u001b[0;34m\u001b[0m\u001b[0m\n\u001b[1;32m   2638\u001b[0m \u001b[0;34m\u001b[0m\u001b[0m\n",
      "\u001b[0;32m~/anaconda3/envs/tensorflow_p36/lib/python3.6/site-packages/tensorflow/python/client/session.py\u001b[0m in \u001b[0;36m__call__\u001b[0;34m(self, *args, **kwargs)\u001b[0m\n\u001b[1;32m   1380\u001b[0m           ret = tf_session.TF_SessionRunCallable(\n\u001b[1;32m   1381\u001b[0m               \u001b[0mself\u001b[0m\u001b[0;34m.\u001b[0m\u001b[0m_session\u001b[0m\u001b[0;34m.\u001b[0m\u001b[0m_session\u001b[0m\u001b[0;34m,\u001b[0m \u001b[0mself\u001b[0m\u001b[0;34m.\u001b[0m\u001b[0m_handle\u001b[0m\u001b[0;34m,\u001b[0m \u001b[0margs\u001b[0m\u001b[0;34m,\u001b[0m \u001b[0mstatus\u001b[0m\u001b[0;34m,\u001b[0m\u001b[0;34m\u001b[0m\u001b[0m\n\u001b[0;32m-> 1382\u001b[0;31m               run_metadata_ptr)\n\u001b[0m\u001b[1;32m   1383\u001b[0m         \u001b[0;32mif\u001b[0m \u001b[0mrun_metadata\u001b[0m\u001b[0;34m:\u001b[0m\u001b[0;34m\u001b[0m\u001b[0m\n\u001b[1;32m   1384\u001b[0m           \u001b[0mproto_data\u001b[0m \u001b[0;34m=\u001b[0m \u001b[0mtf_session\u001b[0m\u001b[0;34m.\u001b[0m\u001b[0mTF_GetBuffer\u001b[0m\u001b[0;34m(\u001b[0m\u001b[0mrun_metadata_ptr\u001b[0m\u001b[0;34m)\u001b[0m\u001b[0;34m\u001b[0m\u001b[0m\n",
      "\u001b[0;31mKeyboardInterrupt\u001b[0m: "
     ]
    }
   ],
   "source": [
    "pred_dict = dict()\n",
    "for i in range(4):\n",
    "    \n",
    "    # set parameters for experiment\n",
    "    lag = df_exp.loc[i, 'lag']\n",
    "    num_neurons = df_exp.loc[i, 'num_neurons']\n",
    "    batch_size = df_exp.loc[i, 'batch_size']\n",
    "    n_epochs = df_exp.loc[i, 'n_epochs']\n",
    "    n_layers = df_exp.loc[i, 'n_layers']\n",
    "\n",
    "    # train model and calculate score\n",
    "    model, scores, pred_scoring = run_experiment(consumption_train, consumption_test, lag, num_neurons, batch_size,\n",
    "                                                    n_epochs, n_layers)\n",
    "        \n",
    "    # save results to dataframe\n",
    "    df_exp.loc[i, 'score'] = np.mean(scores)\n",
    "    pred_dict[i] = pred_scoring"
   ]
  },
  {
   "cell_type": "markdown",
   "metadata": {},
   "source": [
    "------"
   ]
  },
  {
   "cell_type": "markdown",
   "metadata": {},
   "source": [
    "## Create submission"
   ]
  },
  {
   "cell_type": "code",
   "execution_count": 56,
   "metadata": {},
   "outputs": [],
   "source": [
    "def create_submission(train, test, submission_format, lag=12, num_neurons=100, batch_size=1, n_epochs=20, n_layers=2, model_name=None):\n",
    "    \n",
    "    # set up model architecture\n",
    "    model = set_model(lag=lag, num_neurons=num_neurons, batch_size=batch_size, n_layers=n_layers)\n",
    "    \n",
    "    # fit model on training data\n",
    "    model = fit_model(model, train, n_epochs=n_epochs, batch_size=batch_size)\n",
    "    \n",
    "    # save model\n",
    "    model.model.save(model_name)\n",
    "    \n",
    "    # create submission format\n",
    "    my_submission = submission_format.copy()\n",
    "    model, my_submission = generate_complete_forecast(model, test, my_submission, lag=lag, batch_size=batch_size)\n",
    "    my_submission.loc[my_submission.consumption<0,'consumption']=0\n",
    "    \n",
    "    return my_submission, model"
   ]
  },
  {
   "cell_type": "code",
   "execution_count": null,
   "metadata": {},
   "outputs": [
    {
     "name": "stderr",
     "output_type": "stream",
     "text": [
      "\n",
      "Learning Consumption Trends - Epochs:   0%|          | 0/20 [00:00<?, ?it/s]\u001b[A"
     ]
    }
   ],
   "source": [
    "my_submission, model = create_submission(consumption_train, consumption_test, submission_format, lag=12, num_neurons=100, \n",
    "                                         batch_size=1, n_epochs=1, n_layers=2, model_name='my_model_20181008a')"
   ]
  },
  {
   "cell_type": "code",
   "execution_count": null,
   "metadata": {},
   "outputs": [],
   "source": []
  },
  {
   "cell_type": "code",
   "execution_count": null,
   "metadata": {},
   "outputs": [],
   "source": []
  },
  {
   "cell_type": "code",
   "execution_count": 94,
   "metadata": {},
   "outputs": [
    {
     "data": {
      "text/plain": [
       "[<matplotlib.lines.Line2D at 0x7f1321c5b438>]"
      ]
     },
     "execution_count": 94,
     "metadata": {},
     "output_type": "execute_result"
    },
    {
     "data": {
      "image/png": "[encoded data removed]",
      "text/plain": [
       "<Figure size 720x432 with 1 Axes>"
      ]
     },
     "metadata": {},
     "output_type": "display_data"
    }
   ],
   "source": [
    "plt.subplots(1,1,figsize=(10,6))\n",
    "k = 1\n",
    "plt.plot(pred_scoring.loc[pred_scoring.series_id==test_series[k]].index, pred_scoring.loc[pred_scoring.series_id==test_series[k],'consumption'], label='consumption')\n",
    "plt.plot(pred_scoring.loc[pred_scoring.series_id==test_series[k]].index, pred_scoring.loc[pred_scoring.series_id==test_series[k],'prediction'], label='prediction')"
   ]
  },
  {
   "cell_type": "markdown",
   "metadata": {},
   "source": [
    "Add testing functions here\n",
    "\n",
    "- fit model to first part of test set\n",
    "- predict and score"
   ]
  },
  {
   "cell_type": "code",
   "execution_count": null,
   "metadata": {},
   "outputs": [],
   "source": []
  },
  {
   "cell_type": "code",
   "execution_count": 35,
   "metadata": {
    "scrolled": true
   },
   "outputs": [
    {
     "data": {
      "text/html": [
       "<div>\n",
       "<style scoped>\n",
       "    .dataframe tbody tr th:only-of-type {\n",
       "        vertical-align: middle;\n",
       "    }\n",
       "\n",
       "    .dataframe tbody tr th {\n",
       "        vertical-align: top;\n",
       "    }\n",
       "\n",
       "    .dataframe thead th {\n",
       "        text-align: right;\n",
       "    }\n",
       "</style>\n",
       "<table border=\"1\" class=\"dataframe\">\n",
       "  <thead>\n",
       "    <tr style=\"text-align: right;\">\n",
       "      <th></th>\n",
       "      <th>prediction_window</th>\n",
       "      <th>series_id</th>\n",
       "      <th>timestamp</th>\n",
       "      <th>consumption</th>\n",
       "      <th>temperature</th>\n",
       "    </tr>\n",
       "  </thead>\n",
       "  <tbody>\n",
       "    <tr>\n",
       "      <th>0</th>\n",
       "      <td>daily</td>\n",
       "      <td>103088</td>\n",
       "      <td>2014-12-24 00:00:00</td>\n",
       "      <td>101842.233424</td>\n",
       "      <td>NaN</td>\n",
       "    </tr>\n",
       "    <tr>\n",
       "      <th>1</th>\n",
       "      <td>daily</td>\n",
       "      <td>103088</td>\n",
       "      <td>2014-12-24 01:00:00</td>\n",
       "      <td>105878.048906</td>\n",
       "      <td>NaN</td>\n",
       "    </tr>\n",
       "    <tr>\n",
       "      <th>2</th>\n",
       "      <td>daily</td>\n",
       "      <td>103088</td>\n",
       "      <td>2014-12-24 02:00:00</td>\n",
       "      <td>91619.105008</td>\n",
       "      <td>NaN</td>\n",
       "    </tr>\n",
       "    <tr>\n",
       "      <th>3</th>\n",
       "      <td>daily</td>\n",
       "      <td>103088</td>\n",
       "      <td>2014-12-24 03:00:00</td>\n",
       "      <td>94473.706203</td>\n",
       "      <td>NaN</td>\n",
       "    </tr>\n",
       "    <tr>\n",
       "      <th>4</th>\n",
       "      <td>daily</td>\n",
       "      <td>103088</td>\n",
       "      <td>2014-12-24 04:00:00</td>\n",
       "      <td>96976.755526</td>\n",
       "      <td>NaN</td>\n",
       "    </tr>\n",
       "    <tr>\n",
       "      <th>5</th>\n",
       "      <td>daily</td>\n",
       "      <td>103088</td>\n",
       "      <td>2014-12-24 05:00:00</td>\n",
       "      <td>109154.512346</td>\n",
       "      <td>NaN</td>\n",
       "    </tr>\n",
       "    <tr>\n",
       "      <th>6</th>\n",
       "      <td>daily</td>\n",
       "      <td>103088</td>\n",
       "      <td>2014-12-24 06:00:00</td>\n",
       "      <td>91909.721222</td>\n",
       "      <td>NaN</td>\n",
       "    </tr>\n",
       "    <tr>\n",
       "      <th>7</th>\n",
       "      <td>daily</td>\n",
       "      <td>103088</td>\n",
       "      <td>2014-12-24 07:00:00</td>\n",
       "      <td>100895.387051</td>\n",
       "      <td>NaN</td>\n",
       "    </tr>\n",
       "    <tr>\n",
       "      <th>8</th>\n",
       "      <td>daily</td>\n",
       "      <td>103088</td>\n",
       "      <td>2014-12-24 08:00:00</td>\n",
       "      <td>99821.982004</td>\n",
       "      <td>NaN</td>\n",
       "    </tr>\n",
       "    <tr>\n",
       "      <th>9</th>\n",
       "      <td>daily</td>\n",
       "      <td>103088</td>\n",
       "      <td>2014-12-24 09:00:00</td>\n",
       "      <td>91215.992196</td>\n",
       "      <td>NaN</td>\n",
       "    </tr>\n",
       "    <tr>\n",
       "      <th>10</th>\n",
       "      <td>daily</td>\n",
       "      <td>103088</td>\n",
       "      <td>2014-12-24 10:00:00</td>\n",
       "      <td>92730.008921</td>\n",
       "      <td>NaN</td>\n",
       "    </tr>\n",
       "    <tr>\n",
       "      <th>11</th>\n",
       "      <td>daily</td>\n",
       "      <td>103088</td>\n",
       "      <td>2014-12-24 11:00:00</td>\n",
       "      <td>85853.654319</td>\n",
       "      <td>NaN</td>\n",
       "    </tr>\n",
       "    <tr>\n",
       "      <th>12</th>\n",
       "      <td>daily</td>\n",
       "      <td>103088</td>\n",
       "      <td>2014-12-24 12:00:00</td>\n",
       "      <td>105324.940629</td>\n",
       "      <td>NaN</td>\n",
       "    </tr>\n",
       "    <tr>\n",
       "      <th>13</th>\n",
       "      <td>daily</td>\n",
       "      <td>103088</td>\n",
       "      <td>2014-12-24 13:00:00</td>\n",
       "      <td>84766.187198</td>\n",
       "      <td>NaN</td>\n",
       "    </tr>\n",
       "    <tr>\n",
       "      <th>14</th>\n",
       "      <td>daily</td>\n",
       "      <td>103088</td>\n",
       "      <td>2014-12-24 14:00:00</td>\n",
       "      <td>90048.839983</td>\n",
       "      <td>NaN</td>\n",
       "    </tr>\n",
       "    <tr>\n",
       "      <th>15</th>\n",
       "      <td>daily</td>\n",
       "      <td>103088</td>\n",
       "      <td>2014-12-24 15:00:00</td>\n",
       "      <td>96442.396682</td>\n",
       "      <td>NaN</td>\n",
       "    </tr>\n",
       "    <tr>\n",
       "      <th>16</th>\n",
       "      <td>daily</td>\n",
       "      <td>103088</td>\n",
       "      <td>2014-12-24 16:00:00</td>\n",
       "      <td>82619.377104</td>\n",
       "      <td>NaN</td>\n",
       "    </tr>\n",
       "    <tr>\n",
       "      <th>17</th>\n",
       "      <td>daily</td>\n",
       "      <td>103088</td>\n",
       "      <td>2014-12-24 17:00:00</td>\n",
       "      <td>96076.782736</td>\n",
       "      <td>NaN</td>\n",
       "    </tr>\n",
       "    <tr>\n",
       "      <th>18</th>\n",
       "      <td>daily</td>\n",
       "      <td>103088</td>\n",
       "      <td>2014-12-24 18:00:00</td>\n",
       "      <td>98326.714712</td>\n",
       "      <td>NaN</td>\n",
       "    </tr>\n",
       "    <tr>\n",
       "      <th>19</th>\n",
       "      <td>daily</td>\n",
       "      <td>103088</td>\n",
       "      <td>2014-12-24 19:00:00</td>\n",
       "      <td>96114.281602</td>\n",
       "      <td>NaN</td>\n",
       "    </tr>\n",
       "    <tr>\n",
       "      <th>20</th>\n",
       "      <td>daily</td>\n",
       "      <td>103088</td>\n",
       "      <td>2014-12-24 20:00:00</td>\n",
       "      <td>117263.642177</td>\n",
       "      <td>NaN</td>\n",
       "    </tr>\n",
       "    <tr>\n",
       "      <th>21</th>\n",
       "      <td>daily</td>\n",
       "      <td>103088</td>\n",
       "      <td>2014-12-24 21:00:00</td>\n",
       "      <td>95448.676726</td>\n",
       "      <td>NaN</td>\n",
       "    </tr>\n",
       "    <tr>\n",
       "      <th>22</th>\n",
       "      <td>daily</td>\n",
       "      <td>103088</td>\n",
       "      <td>2014-12-24 22:00:00</td>\n",
       "      <td>97051.753259</td>\n",
       "      <td>NaN</td>\n",
       "    </tr>\n",
       "    <tr>\n",
       "      <th>23</th>\n",
       "      <td>daily</td>\n",
       "      <td>103088</td>\n",
       "      <td>2014-12-24 23:00:00</td>\n",
       "      <td>96653.327804</td>\n",
       "      <td>NaN</td>\n",
       "    </tr>\n",
       "    <tr>\n",
       "      <th>24</th>\n",
       "      <td>daily</td>\n",
       "      <td>103088</td>\n",
       "      <td>2014-12-25 00:00:00</td>\n",
       "      <td>96081.470094</td>\n",
       "      <td>NaN</td>\n",
       "    </tr>\n",
       "    <tr>\n",
       "      <th>25</th>\n",
       "      <td>daily</td>\n",
       "      <td>103088</td>\n",
       "      <td>2014-12-25 01:00:00</td>\n",
       "      <td>96179.904618</td>\n",
       "      <td>NaN</td>\n",
       "    </tr>\n",
       "    <tr>\n",
       "      <th>26</th>\n",
       "      <td>daily</td>\n",
       "      <td>103088</td>\n",
       "      <td>2014-12-25 02:00:00</td>\n",
       "      <td>95692.419356</td>\n",
       "      <td>NaN</td>\n",
       "    </tr>\n",
       "    <tr>\n",
       "      <th>27</th>\n",
       "      <td>daily</td>\n",
       "      <td>103088</td>\n",
       "      <td>2014-12-25 03:00:00</td>\n",
       "      <td>118013.619502</td>\n",
       "      <td>NaN</td>\n",
       "    </tr>\n",
       "    <tr>\n",
       "      <th>28</th>\n",
       "      <td>daily</td>\n",
       "      <td>103088</td>\n",
       "      <td>2014-12-25 04:00:00</td>\n",
       "      <td>98462.648102</td>\n",
       "      <td>NaN</td>\n",
       "    </tr>\n",
       "    <tr>\n",
       "      <th>29</th>\n",
       "      <td>daily</td>\n",
       "      <td>103088</td>\n",
       "      <td>2014-12-25 05:00:00</td>\n",
       "      <td>109013.891598</td>\n",
       "      <td>NaN</td>\n",
       "    </tr>\n",
       "    <tr>\n",
       "      <th>...</th>\n",
       "      <td>...</td>\n",
       "      <td>...</td>\n",
       "      <td>...</td>\n",
       "      <td>...</td>\n",
       "      <td>...</td>\n",
       "    </tr>\n",
       "    <tr>\n",
       "      <th>0</th>\n",
       "      <td>daily</td>\n",
       "      <td>100940</td>\n",
       "      <td>2017-09-22 00:00:00</td>\n",
       "      <td>3622.652142</td>\n",
       "      <td>NaN</td>\n",
       "    </tr>\n",
       "    <tr>\n",
       "      <th>1</th>\n",
       "      <td>daily</td>\n",
       "      <td>100940</td>\n",
       "      <td>2017-09-22 01:00:00</td>\n",
       "      <td>3603.685377</td>\n",
       "      <td>NaN</td>\n",
       "    </tr>\n",
       "    <tr>\n",
       "      <th>2</th>\n",
       "      <td>daily</td>\n",
       "      <td>100940</td>\n",
       "      <td>2017-09-22 02:00:00</td>\n",
       "      <td>3780.708519</td>\n",
       "      <td>NaN</td>\n",
       "    </tr>\n",
       "    <tr>\n",
       "      <th>3</th>\n",
       "      <td>daily</td>\n",
       "      <td>100940</td>\n",
       "      <td>2017-09-22 03:00:00</td>\n",
       "      <td>3843.931069</td>\n",
       "      <td>NaN</td>\n",
       "    </tr>\n",
       "    <tr>\n",
       "      <th>4</th>\n",
       "      <td>daily</td>\n",
       "      <td>100940</td>\n",
       "      <td>2017-09-22 04:00:00</td>\n",
       "      <td>3587.879740</td>\n",
       "      <td>NaN</td>\n",
       "    </tr>\n",
       "    <tr>\n",
       "      <th>5</th>\n",
       "      <td>daily</td>\n",
       "      <td>100940</td>\n",
       "      <td>2017-09-22 05:00:00</td>\n",
       "      <td>4185.332842</td>\n",
       "      <td>NaN</td>\n",
       "    </tr>\n",
       "    <tr>\n",
       "      <th>6</th>\n",
       "      <td>daily</td>\n",
       "      <td>100940</td>\n",
       "      <td>2017-09-22 06:00:00</td>\n",
       "      <td>5076.770804</td>\n",
       "      <td>NaN</td>\n",
       "    </tr>\n",
       "    <tr>\n",
       "      <th>7</th>\n",
       "      <td>daily</td>\n",
       "      <td>100940</td>\n",
       "      <td>2017-09-22 07:00:00</td>\n",
       "      <td>7441.294191</td>\n",
       "      <td>NaN</td>\n",
       "    </tr>\n",
       "    <tr>\n",
       "      <th>8</th>\n",
       "      <td>daily</td>\n",
       "      <td>100940</td>\n",
       "      <td>2017-09-22 08:00:00</td>\n",
       "      <td>14651.826074</td>\n",
       "      <td>NaN</td>\n",
       "    </tr>\n",
       "    <tr>\n",
       "      <th>9</th>\n",
       "      <td>daily</td>\n",
       "      <td>100940</td>\n",
       "      <td>2017-09-22 09:00:00</td>\n",
       "      <td>18144.871988</td>\n",
       "      <td>NaN</td>\n",
       "    </tr>\n",
       "    <tr>\n",
       "      <th>10</th>\n",
       "      <td>daily</td>\n",
       "      <td>100940</td>\n",
       "      <td>2017-09-22 10:00:00</td>\n",
       "      <td>16428.379742</td>\n",
       "      <td>NaN</td>\n",
       "    </tr>\n",
       "    <tr>\n",
       "      <th>11</th>\n",
       "      <td>daily</td>\n",
       "      <td>100940</td>\n",
       "      <td>2017-09-22 11:00:00</td>\n",
       "      <td>18571.624203</td>\n",
       "      <td>NaN</td>\n",
       "    </tr>\n",
       "    <tr>\n",
       "      <th>12</th>\n",
       "      <td>daily</td>\n",
       "      <td>100940</td>\n",
       "      <td>2017-09-22 12:00:00</td>\n",
       "      <td>15808.798747</td>\n",
       "      <td>NaN</td>\n",
       "    </tr>\n",
       "    <tr>\n",
       "      <th>13</th>\n",
       "      <td>daily</td>\n",
       "      <td>100940</td>\n",
       "      <td>2017-09-22 13:00:00</td>\n",
       "      <td>13384.213937</td>\n",
       "      <td>NaN</td>\n",
       "    </tr>\n",
       "    <tr>\n",
       "      <th>14</th>\n",
       "      <td>daily</td>\n",
       "      <td>100940</td>\n",
       "      <td>2017-09-22 14:00:00</td>\n",
       "      <td>11860.550470</td>\n",
       "      <td>NaN</td>\n",
       "    </tr>\n",
       "    <tr>\n",
       "      <th>15</th>\n",
       "      <td>daily</td>\n",
       "      <td>100940</td>\n",
       "      <td>2017-09-22 15:00:00</td>\n",
       "      <td>11996.478954</td>\n",
       "      <td>NaN</td>\n",
       "    </tr>\n",
       "    <tr>\n",
       "      <th>16</th>\n",
       "      <td>daily</td>\n",
       "      <td>100940</td>\n",
       "      <td>2017-09-22 16:00:00</td>\n",
       "      <td>11421.153744</td>\n",
       "      <td>NaN</td>\n",
       "    </tr>\n",
       "    <tr>\n",
       "      <th>17</th>\n",
       "      <td>daily</td>\n",
       "      <td>100940</td>\n",
       "      <td>2017-09-22 17:00:00</td>\n",
       "      <td>10226.247540</td>\n",
       "      <td>NaN</td>\n",
       "    </tr>\n",
       "    <tr>\n",
       "      <th>18</th>\n",
       "      <td>daily</td>\n",
       "      <td>100940</td>\n",
       "      <td>2017-09-22 18:00:00</td>\n",
       "      <td>7532.966890</td>\n",
       "      <td>NaN</td>\n",
       "    </tr>\n",
       "    <tr>\n",
       "      <th>19</th>\n",
       "      <td>daily</td>\n",
       "      <td>100940</td>\n",
       "      <td>2017-09-22 19:00:00</td>\n",
       "      <td>6726.879371</td>\n",
       "      <td>NaN</td>\n",
       "    </tr>\n",
       "    <tr>\n",
       "      <th>20</th>\n",
       "      <td>daily</td>\n",
       "      <td>100940</td>\n",
       "      <td>2017-09-22 20:00:00</td>\n",
       "      <td>4400.289513</td>\n",
       "      <td>NaN</td>\n",
       "    </tr>\n",
       "    <tr>\n",
       "      <th>21</th>\n",
       "      <td>daily</td>\n",
       "      <td>100940</td>\n",
       "      <td>2017-09-22 21:00:00</td>\n",
       "      <td>4134.754801</td>\n",
       "      <td>NaN</td>\n",
       "    </tr>\n",
       "    <tr>\n",
       "      <th>22</th>\n",
       "      <td>daily</td>\n",
       "      <td>100940</td>\n",
       "      <td>2017-09-22 22:00:00</td>\n",
       "      <td>4043.082103</td>\n",
       "      <td>NaN</td>\n",
       "    </tr>\n",
       "    <tr>\n",
       "      <th>23</th>\n",
       "      <td>daily</td>\n",
       "      <td>100940</td>\n",
       "      <td>2017-09-22 23:00:00</td>\n",
       "      <td>3527.818317</td>\n",
       "      <td>NaN</td>\n",
       "    </tr>\n",
       "    <tr>\n",
       "      <th>24</th>\n",
       "      <td>daily</td>\n",
       "      <td>100940</td>\n",
       "      <td>2017-09-23 00:00:00</td>\n",
       "      <td>3749.097243</td>\n",
       "      <td>NaN</td>\n",
       "    </tr>\n",
       "    <tr>\n",
       "      <th>25</th>\n",
       "      <td>daily</td>\n",
       "      <td>100940</td>\n",
       "      <td>2017-09-23 01:00:00</td>\n",
       "      <td>3480.401404</td>\n",
       "      <td>NaN</td>\n",
       "    </tr>\n",
       "    <tr>\n",
       "      <th>26</th>\n",
       "      <td>daily</td>\n",
       "      <td>100940</td>\n",
       "      <td>2017-09-23 02:00:00</td>\n",
       "      <td>3777.547391</td>\n",
       "      <td>NaN</td>\n",
       "    </tr>\n",
       "    <tr>\n",
       "      <th>27</th>\n",
       "      <td>daily</td>\n",
       "      <td>100940</td>\n",
       "      <td>2017-09-23 03:00:00</td>\n",
       "      <td>3600.524250</td>\n",
       "      <td>NaN</td>\n",
       "    </tr>\n",
       "    <tr>\n",
       "      <th>28</th>\n",
       "      <td>daily</td>\n",
       "      <td>100940</td>\n",
       "      <td>2017-09-23 04:00:00</td>\n",
       "      <td>3628.974398</td>\n",
       "      <td>NaN</td>\n",
       "    </tr>\n",
       "    <tr>\n",
       "      <th>29</th>\n",
       "      <td>daily</td>\n",
       "      <td>100940</td>\n",
       "      <td>2017-09-23 05:00:00</td>\n",
       "      <td>3682.713565</td>\n",
       "      <td>NaN</td>\n",
       "    </tr>\n",
       "  </tbody>\n",
       "</table>\n",
       "<p>1170 rows × 5 columns</p>\n",
       "</div>"
      ],
      "text/plain": [
       "   prediction_window  series_id           timestamp    consumption  \\\n",
       "0              daily     103088 2014-12-24 00:00:00  101842.233424   \n",
       "1              daily     103088 2014-12-24 01:00:00  105878.048906   \n",
       "2              daily     103088 2014-12-24 02:00:00   91619.105008   \n",
       "3              daily     103088 2014-12-24 03:00:00   94473.706203   \n",
       "4              daily     103088 2014-12-24 04:00:00   96976.755526   \n",
       "5              daily     103088 2014-12-24 05:00:00  109154.512346   \n",
       "6              daily     103088 2014-12-24 06:00:00   91909.721222   \n",
       "7              daily     103088 2014-12-24 07:00:00  100895.387051   \n",
       "8              daily     103088 2014-12-24 08:00:00   99821.982004   \n",
       "9              daily     103088 2014-12-24 09:00:00   91215.992196   \n",
       "10             daily     103088 2014-12-24 10:00:00   92730.008921   \n",
       "11             daily     103088 2014-12-24 11:00:00   85853.654319   \n",
       "12             daily     103088 2014-12-24 12:00:00  105324.940629   \n",
       "13             daily     103088 2014-12-24 13:00:00   84766.187198   \n",
       "14             daily     103088 2014-12-24 14:00:00   90048.839983   \n",
       "15             daily     103088 2014-12-24 15:00:00   96442.396682   \n",
       "16             daily     103088 2014-12-24 16:00:00   82619.377104   \n",
       "17             daily     103088 2014-12-24 17:00:00   96076.782736   \n",
       "18             daily     103088 2014-12-24 18:00:00   98326.714712   \n",
       "19             daily     103088 2014-12-24 19:00:00   96114.281602   \n",
       "20             daily     103088 2014-12-24 20:00:00  117263.642177   \n",
       "21             daily     103088 2014-12-24 21:00:00   95448.676726   \n",
       "22             daily     103088 2014-12-24 22:00:00   97051.753259   \n",
       "23             daily     103088 2014-12-24 23:00:00   96653.327804   \n",
       "24             daily     103088 2014-12-25 00:00:00   96081.470094   \n",
       "25             daily     103088 2014-12-25 01:00:00   96179.904618   \n",
       "26             daily     103088 2014-12-25 02:00:00   95692.419356   \n",
       "27             daily     103088 2014-12-25 03:00:00  118013.619502   \n",
       "28             daily     103088 2014-12-25 04:00:00   98462.648102   \n",
       "29             daily     103088 2014-12-25 05:00:00  109013.891598   \n",
       "..               ...        ...                 ...            ...   \n",
       "0              daily     100940 2017-09-22 00:00:00    3622.652142   \n",
       "1              daily     100940 2017-09-22 01:00:00    3603.685377   \n",
       "2              daily     100940 2017-09-22 02:00:00    3780.708519   \n",
       "3              daily     100940 2017-09-22 03:00:00    3843.931069   \n",
       "4              daily     100940 2017-09-22 04:00:00    3587.879740   \n",
       "5              daily     100940 2017-09-22 05:00:00    4185.332842   \n",
       "6              daily     100940 2017-09-22 06:00:00    5076.770804   \n",
       "7              daily     100940 2017-09-22 07:00:00    7441.294191   \n",
       "8              daily     100940 2017-09-22 08:00:00   14651.826074   \n",
       "9              daily     100940 2017-09-22 09:00:00   18144.871988   \n",
       "10             daily     100940 2017-09-22 10:00:00   16428.379742   \n",
       "11             daily     100940 2017-09-22 11:00:00   18571.624203   \n",
       "12             daily     100940 2017-09-22 12:00:00   15808.798747   \n",
       "13             daily     100940 2017-09-22 13:00:00   13384.213937   \n",
       "14             daily     100940 2017-09-22 14:00:00   11860.550470   \n",
       "15             daily     100940 2017-09-22 15:00:00   11996.478954   \n",
       "16             daily     100940 2017-09-22 16:00:00   11421.153744   \n",
       "17             daily     100940 2017-09-22 17:00:00   10226.247540   \n",
       "18             daily     100940 2017-09-22 18:00:00    7532.966890   \n",
       "19             daily     100940 2017-09-22 19:00:00    6726.879371   \n",
       "20             daily     100940 2017-09-22 20:00:00    4400.289513   \n",
       "21             daily     100940 2017-09-22 21:00:00    4134.754801   \n",
       "22             daily     100940 2017-09-22 22:00:00    4043.082103   \n",
       "23             daily     100940 2017-09-22 23:00:00    3527.818317   \n",
       "24             daily     100940 2017-09-23 00:00:00    3749.097243   \n",
       "25             daily     100940 2017-09-23 01:00:00    3480.401404   \n",
       "26             daily     100940 2017-09-23 02:00:00    3777.547391   \n",
       "27             daily     100940 2017-09-23 03:00:00    3600.524250   \n",
       "28             daily     100940 2017-09-23 04:00:00    3628.974398   \n",
       "29             daily     100940 2017-09-23 05:00:00    3682.713565   \n",
       "\n",
       "    temperature  \n",
       "0           NaN  \n",
       "1           NaN  \n",
       "2           NaN  \n",
       "3           NaN  \n",
       "4           NaN  \n",
       "5           NaN  \n",
       "6           NaN  \n",
       "7           NaN  \n",
       "8           NaN  \n",
       "9           NaN  \n",
       "10          NaN  \n",
       "11          NaN  \n",
       "12          NaN  \n",
       "13          NaN  \n",
       "14          NaN  \n",
       "15          NaN  \n",
       "16          NaN  \n",
       "17          NaN  \n",
       "18          NaN  \n",
       "19          NaN  \n",
       "20          NaN  \n",
       "21          NaN  \n",
       "22          NaN  \n",
       "23          NaN  \n",
       "24          NaN  \n",
       "25          NaN  \n",
       "26          NaN  \n",
       "27          NaN  \n",
       "28          NaN  \n",
       "29          NaN  \n",
       "..          ...  \n",
       "0           NaN  \n",
       "1           NaN  \n",
       "2           NaN  \n",
       "3           NaN  \n",
       "4           NaN  \n",
       "5           NaN  \n",
       "6           NaN  \n",
       "7           NaN  \n",
       "8           NaN  \n",
       "9           NaN  \n",
       "10          NaN  \n",
       "11          NaN  \n",
       "12          NaN  \n",
       "13          NaN  \n",
       "14          NaN  \n",
       "15          NaN  \n",
       "16          NaN  \n",
       "17          NaN  \n",
       "18          NaN  \n",
       "19          NaN  \n",
       "20          NaN  \n",
       "21          NaN  \n",
       "22          NaN  \n",
       "23          NaN  \n",
       "24          NaN  \n",
       "25          NaN  \n",
       "26          NaN  \n",
       "27          NaN  \n",
       "28          NaN  \n",
       "29          NaN  \n",
       "\n",
       "[1170 rows x 5 columns]"
      ]
     },
     "execution_count": 35,
     "metadata": {},
     "output_type": "execute_result"
    }
   ],
   "source": [
    "test_window"
   ]
  },
  {
   "cell_type": "code",
   "execution_count": null,
   "metadata": {},
   "outputs": [],
   "source": []
  },
  {
   "cell_type": "code",
   "execution_count": 30,
   "metadata": {},
   "outputs": [
    {
     "name": "stderr",
     "output_type": "stream",
     "text": [
      "Forecasting from Cold Start Data: 100%|██████████| 625/625 [13:19<00:00,  1.28s/it]\n"
     ]
    }
   ],
   "source": [
    "# copy submission format and fill in values\n",
    "my_submission = submission_format.copy()\n",
    "model, my_submission = generate_complete_forecast(model, consumption_test, my_submission, lag=lag, batch_size=batch_size)"
   ]
  },
  {
   "cell_type": "code",
   "execution_count": 31,
   "metadata": {},
   "outputs": [
    {
     "data": {
      "text/plain": [
       "count    5.808000e+03\n",
       "mean     1.661096e+05\n",
       "std      6.193884e+05\n",
       "min     -3.393037e+04\n",
       "25%      1.511113e+04\n",
       "50%      3.704044e+04\n",
       "75%      9.533242e+04\n",
       "max      5.095149e+06\n",
       "Name: consumption, dtype: float64"
      ]
     },
     "execution_count": 31,
     "metadata": {},
     "output_type": "execute_result"
    }
   ],
   "source": [
    "my_submission[my_submission.prediction_window == 'hourly'].consumption.describe()"
   ]
  },
  {
   "cell_type": "code",
   "execution_count": 32,
   "metadata": {},
   "outputs": [
    {
     "data": {
      "text/plain": [
       "count    1.337000e+03\n",
       "mean     3.406911e+06\n",
       "std      9.819808e+06\n",
       "min     -1.137587e+04\n",
       "25%      4.271856e+05\n",
       "50%      9.248156e+05\n",
       "75%      2.730388e+06\n",
       "max      1.156378e+08\n",
       "Name: consumption, dtype: float64"
      ]
     },
     "execution_count": 32,
     "metadata": {},
     "output_type": "execute_result"
    }
   ],
   "source": [
    "my_submission[my_submission.prediction_window == 'daily'].consumption.describe()"
   ]
  },
  {
   "cell_type": "code",
   "execution_count": 33,
   "metadata": {},
   "outputs": [
    {
     "data": {
      "text/plain": [
       "count    3.840000e+02\n",
       "mean     2.435026e+07\n",
       "std      6.639902e+07\n",
       "min     -1.357406e+06\n",
       "25%      2.819529e+06\n",
       "50%      7.594946e+06\n",
       "75%      2.026643e+07\n",
       "max      7.481041e+08\n",
       "Name: consumption, dtype: float64"
      ]
     },
     "execution_count": 33,
     "metadata": {},
     "output_type": "execute_result"
    }
   ],
   "source": [
    "my_submission[my_submission.prediction_window == 'weekly'].consumption.describe()"
   ]
  },
  {
   "cell_type": "code",
   "execution_count": 36,
   "metadata": {},
   "outputs": [],
   "source": [
    "my_submission.loc[my_submission.consumption<0,'consumption']=0"
   ]
  },
  {
   "cell_type": "code",
   "execution_count": 37,
   "metadata": {},
   "outputs": [
    {
     "data": {
      "text/plain": [
       "<matplotlib.axes._subplots.AxesSubplot at 0x1a23a31080>"
      ]
     },
     "execution_count": 37,
     "metadata": {},
     "output_type": "execute_result"
    },
    {
     "data": {
      "image/png": "[encoded data removed]",
      "text/plain": [
       "<matplotlib.figure.Figure at 0x1a23a31da0>"
      ]
     },
     "metadata": {},
     "output_type": "display_data"
    }
   ],
   "source": [
    "# plot samples\n",
    "sample_ser = (my_submission[my_submission.prediction_window == 'hourly']\n",
    "                           .series_id\n",
    "                           .sample().values[0])\n",
    "\n",
    "(my_submission[my_submission.series_id == sample_ser]\n",
    "              .plot(x='timestamp',\n",
    "                    y='consumption',\n",
    "                    title=sample_ser,\n",
    "                    rot=90))"
   ]
  },
  {
   "cell_type": "code",
   "execution_count": 38,
   "metadata": {},
   "outputs": [],
   "source": [
    "my_submission.iloc[:,:-1].to_csv(\"submissions/my_submmission_20181001_2.csv\", index_label='pred_id')"
   ]
  },
  {
   "cell_type": "code",
   "execution_count": null,
   "metadata": {},
   "outputs": [],
   "source": []
  },
  {
   "cell_type": "code",
   "execution_count": null,
   "metadata": {},
   "outputs": [],
   "source": []
  },
  {
   "cell_type": "markdown",
   "metadata": {},
   "source": [
    "-------"
   ]
  },
  {
   "cell_type": "code",
   "execution_count": 155,
   "metadata": {},
   "outputs": [],
   "source": [
    "def RMSE(y, pred):\n",
    "    return mean_squared_error(y, pred)**0.5\n",
    "\n",
    "def MAE(y, pred):\n",
    "    return sum([abs(i) for i in (y-pred)])/y.shape[0]"
   ]
  },
  {
   "cell_type": "code",
   "execution_count": 156,
   "metadata": {},
   "outputs": [],
   "source": [
    "def create_train_test(train_size, test_size, data, limit=5800):\n",
    "    train = data[:train_size]\n",
    "    test  = data[train_size:limit]\n",
    "    scaler = MinMaxScaler(feature_range=(0,1))\n",
    "    scaler.fit(train)\n",
    "    train = scaler.transform(train)\n",
    "    test = scaler.transform(test)\n",
    "    return scaler, train, test"
   ]
  },
  {
   "cell_type": "code",
   "execution_count": 157,
   "metadata": {},
   "outputs": [],
   "source": [
    "def split_train_test(train, test):\n",
    "    # Split into input and outputs \n",
    "    train_X, train_y = train[:,:-5], train[:,-5:]\n",
    "    test_X, test_y = test[:, :-5], test[:, -5:]\n",
    "    # LSTM requires 3D data sets: [samples, timesteps, features]\n",
    "    total_features = train_X.shape[1]\n",
    "    train_X = train_X.reshape(train_X.shape[0],7,int(total_features/7))\n",
    "    test_X = test_X.reshape(test_X.shape[0], 7,int(total_features/7))\n",
    "    print(train_X.shape, train_y.shape, test_X.shape, test_y.shape)\n",
    "    \n",
    "    return train_X, train_y, test_X, test_y"
   ]
  },
  {
   "cell_type": "code",
   "execution_count": 60,
   "metadata": {},
   "outputs": [],
   "source": [
    "def fit_lstm(train_X, train_y, layers=3, n_batch=50, n_neurons=100, n_epochs=100, n_output=1, dropout=0):\n",
    "    model = Sequential()\n",
    "    model.add(LSTM(n_neurons, batch_input_shape=(n_batch, train_X.shape[1], train_X.shape[2]),\n",
    "                 stateful=True, activation='tanh', return_sequences=True))\n",
    "    for i in range(layers-2):\n",
    "        model.add(LSTM(n_neurons, stateful=True, activation='tanh', return_sequences=True, dropout=dropout))\n",
    "    model.add(LSTM(n_neurons, stateful=True, activation='relu', dropout=dropout))\n",
    "    model.add(Dense(n_output))\n",
    "    model.compile(loss='mse', optimizer='adam')\n",
    "    for i in range(int(train_X.shape[0] / n_batch)):\n",
    "        this_X = train_X[(i * n_batch):((i + 1) * n_batch)][:][:]\n",
    "        this_y = train_y[(i * n_batch):((i + 1) * n_batch)]\n",
    "        history = model.fit(this_X, this_y, epochs=n_epochs, \n",
    "                                    batch_size=n_batch, \n",
    "                                    verbose=1, shuffle=False)\n",
    "        model.reset_states()\n",
    "    return model, history, n_batch"
   ]
  },
  {
   "cell_type": "code",
   "execution_count": 61,
   "metadata": {},
   "outputs": [],
   "source": [
    "def evaluate_model(model, test_X, test_y, scaler, n_batch, n_samples=1):\n",
    "\n",
    "    y_pred = [test_X.shape[0]]\n",
    "    for i in range(int(test_X.shape[0] / n_batch)):\n",
    "        this_X = test_X[(i * n_batch):((i + 1) * n_batch)][:][:]\n",
    "        this_pred = model.predict(this_X, batch_size=n_batch)    \n",
    "        y_pred[(i * n_batch):((i + 1) * n_batch)] = [list(i) for i in this_pred]\n",
    "    \n",
    "    test_X_nn = test_X.reshape((test_X.shape[0], test_X.shape[1]*test_X.shape[2]))\n",
    "    # Invert scaling for forecast\n",
    "    inv_y_pred = np.concatenate((y_pred, test_X_nn[:, :]), axis=1)\n",
    "    inv_y_pred = scaler.inverse_transform(inv_y_pred)\n",
    "    inv_y_pred = inv_y_pred[:,:5]\n",
    "    inv_y_pred = np.round(np.maximum(inv_y_pred, 0))\n",
    "    # Invert scaling for actual\n",
    "    test_y_nn = test_y.reshape((len(test_y), 5))\n",
    "    inv_y = np.concatenate((test_y_nn, test_X_nn[:, :]), axis=1)\n",
    "    inv_y = scaler.inverse_transform(inv_y)\n",
    "    inv_y = inv_y[:,:5]\n",
    "    # print scores\n",
    "    print(inv_y_pred[:10])\n",
    "    print(inv_y[:10])\n",
    "    rmse = dict()\n",
    "    for i in range(n_samples):\n",
    "        rmse[i] = RMSE([m[i]/4 for m in inv_y], [n[i]/4 for n in inv_y_pred])\n",
    "        print('Test RMSE: %.3f' % rmse[i])\n",
    "    \n",
    "    return rmse, inv_y_pred, inv_y"
   ]
  },
  {
   "cell_type": "code",
   "execution_count": 62,
   "metadata": {},
   "outputs": [],
   "source": [
    "def append_prediction(df, prediction):\n",
    "    pred_df = df.iloc[-prediction.shape[0]-26:-26,:]\n",
    "#     pred_df = df.iloc[-prediction.shape[0]-33:-33,:]\n",
    "    for i in range(prediction.shape[1]):\n",
    "        pred_df['prediction{}'.format(i)] = [x[i] for x in prediction]\n",
    "    return pred_df"
   ]
  },
  {
   "cell_type": "code",
   "execution_count": 63,
   "metadata": {},
   "outputs": [],
   "source": [
    "def append_baseline(data, n_samples):\n",
    "    baseline = dict()\n",
    "    for i in range(n_samples):\n",
    "        baseline[i] = data.iloc[:5100,:].groupby(['hour'])['swaps{}'.format(i)].quantile(.75)\n",
    "        baseline[i] = baseline[i].reset_index()\n",
    "        baseline[i].rename(columns={'swaps{}'.format(i):'baseline{}'.format(i)}, inplace=True)\n",
    "        data = data.merge(baseline[i], on='hour', how='left')\n",
    "    return data"
   ]
  },
  {
   "cell_type": "code",
   "execution_count": 64,
   "metadata": {},
   "outputs": [],
   "source": [
    "def plot_forecast_multi(data, range_lower=-700, range_upper=None, n_samples=1):\n",
    "    plt.subplots(n_samples, 1, figsize=(20,6*n_samples))\n",
    "    for i in range(n_samples):\n",
    "        plt.subplot(n_samples, 1, i+1)\n",
    "        plt.plot(data.iloc[range_lower:range_upper].index, np.round(data.iloc[range_lower:range_upper,i]/4), label='Real')\n",
    "        plt.plot(data.iloc[range_lower:range_upper].index, np.round(data.iloc[range_lower:range_upper,list(data.columns).index('prediction{}'.format(i))]/4), label='Predict')\n",
    "        plt.plot(data.iloc[range_lower:range_upper].index, np.round(data.iloc[range_lower:range_upper,list(data.columns).index('baseline{}'.format(i))]/4), label='Baseline')\n",
    "        plt.xlabel('Date Time', fontsize=16)\n",
    "        plt.ylabel('Swaps', fontsize=16)\n",
    "        plt.legend();"
   ]
  },
  {
   "cell_type": "code",
   "execution_count": 65,
   "metadata": {},
   "outputs": [],
   "source": [
    "def run_experiment(vmlist, layers, n_batch, n_neurons, n_epochs, dropout):\n",
    "    #select GoStations to forecast\n",
    "    df_station = df[df.vmid.isin(vmlist)]\n",
    "    df_station = pd.pivot_table(df_station, values='swaps', index='datetime', columns='vmid')\n",
    "    df_station['hour'] = df_station.index.hour\n",
    "    \n",
    "    #rename columns\n",
    "    cols = df_station.columns\n",
    "    for n, i in enumerate(cols[:-1]):\n",
    "        df_station.rename(columns={i:'swaps'+str(n)}, inplace=True)\n",
    "        \n",
    "    prep_df = pd.concat([df_station[list(df_station.columns)[:-1]], pd.get_dummies(df_station['hour'], prefix='hour')], axis=1)\n",
    "    prep_df.loc[prep_df.index.dayofweek>4, 'weekend'] = 1\n",
    "    prep_df['weekend'].fillna(0, inplace=True)\n",
    "    cols = prep_df.columns\n",
    "    tmp = pd.DataFrame(series_to_supervised(prep_df, 7, 1))\n",
    "    tmp.drop(tmp.columns[-(prep_df.shape[1] - len(vmlist)):], axis=1, inplace=True)\n",
    "    super_data = tmp\n",
    "    \n",
    "    #split train/test set and scale\n",
    "    scaler, train, test = create_train_test(5100, len(super_data)-5100-26, super_data)\n",
    "    train_X, train_y, test_X, test_y = split_train_test(train, test)\n",
    "    \n",
    "    #train model\n",
    "    model, history, n_batch = fit_lstm(train_X, train_y, layers, n_batch, n_neurons, n_epochs, len(vmlist), dropout)\n",
    "    rmse, inv_y_pred, inv_y = evaluate_model(model, test_X, test_y, scaler, n_batch, len(vmlist))\n",
    "    \n",
    "    #create dataframe with all predictions and real data\n",
    "    pred_prep_df = append_prediction(prep_df, inv_y_pred)\n",
    "    pred_prep_df['hour']=pred_prep_df.index.hour\n",
    "    pred_index = pred_prep_df.index\n",
    "    pred_prep_df = append_baseline(pred_prep_df, len(vmlist))\n",
    "    pred_prep_df.index = pred_index\n",
    "    \n",
    "    hyperparam = pd.DataFrame(data={'layers':[layers],'batch_size':[n_batch],'neurons':[n_neurons],'epochs':[n_epochs],'dropout':[dropout],\n",
    "                   'RMSE0':[rmse[0]],'RMSE1':[rmse[1]],'RMSE2':[rmse[2]],'RMSE3':[rmse[3]],'RMSE4':[rmse[4]]})\n",
    "    \n",
    "    return pred_prep_df, hyperparam"
   ]
  },
  {
   "cell_type": "code",
   "execution_count": 66,
   "metadata": {},
   "outputs": [],
   "source": [
    "def append_results(df, vmlist, layers, n_batch, n_neurons, n_epochs, dropout):\n",
    "    pred_prep_df, hyperparam = run_experiment(vmlist, layers, n_batch, n_neurons, n_epochs, dropout)\n",
    "    df = df.append(hyperparam)\n",
    "    return df, pred_prep_df"
   ]
  },
  {
   "cell_type": "markdown",
   "metadata": {},
   "source": [
    "--------"
   ]
  },
  {
   "cell_type": "code",
   "execution_count": null,
   "metadata": {},
   "outputs": [],
   "source": []
  },
  {
   "cell_type": "code",
   "execution_count": 192,
   "metadata": {},
   "outputs": [],
   "source": [
    "# lag of 24 to simulate smallest cold start window. Our series\n",
    "# will be converted to a num_timesteps x lag size matrix\n",
    "lag =  24\n",
    "\n",
    "# model parameters\n",
    "num_neurons = 24\n",
    "batch_size = 1  # this forces the lstm to step through each time-step one at a time\n",
    "batch_input_shape=(batch_size, 1, lag)\n",
    "\n",
    "# instantiate a sequential model\n",
    "model = Sequential()\n",
    "\n",
    "# add LSTM layer - stateful MUST be true here in \n",
    "# order to learn the patterns within a series\n",
    "model.add(LSTM(units=num_neurons, \n",
    "              batch_input_shape=batch_input_shape, \n",
    "              stateful=True))\n",
    "\n",
    "# followed by a dense layer with a single output for regression\n",
    "model.add(Dense(1))\n",
    "\n",
    "# compile\n",
    "model.compile(loss='mean_absolute_error', optimizer='adam')"
   ]
  },
  {
   "cell_type": "code",
   "execution_count": 129,
   "metadata": {
    "scrolled": true
   },
   "outputs": [
    {
     "name": "stderr",
     "output_type": "stream",
     "text": [
      "\r",
      "Learning Consumption Trends - Epoch:   0%|          | 0/3 [00:00<?, ?it/s]"
     ]
    },
    {
     "name": "stdout",
     "output_type": "stream",
     "text": [
      "Epoch 1/1\n",
      "648/648 [==============================] - 2s 2ms/step - loss: 0.1114\n",
      "Epoch 1/1\n",
      "648/648 [==============================] - 1s 2ms/step - loss: 0.1520\n",
      "Epoch 1/1\n",
      "648/648 [==============================] - 1s 2ms/step - loss: 0.1415\n",
      "Epoch 1/1\n",
      "648/648 [==============================] - 1s 2ms/step - loss: 0.1346\n",
      "Epoch 1/1\n",
      "648/648 [==============================] - 1s 2ms/step - loss: 0.1105\n",
      "Epoch 1/1\n",
      "648/648 [==============================] - 1s 2ms/step - loss: 0.1320\n",
      "Epoch 1/1\n",
      "648/648 [==============================] - 2s 2ms/step - loss: 0.1142\n",
      "Epoch 1/1\n",
      "648/648 [==============================] - 1s 2ms/step - loss: 0.1187\n",
      "Epoch 1/1\n",
      "648/648 [==============================] - 1s 2ms/step - loss: 0.1007\n",
      "Epoch 1/1\n",
      "648/648 [==============================] - 1s 2ms/step - loss: 0.1112\n"
     ]
    },
    {
     "name": "stderr",
     "output_type": "stream",
     "text": [
      "\r",
      "Learning Consumption Trends - Epoch:  33%|███▎      | 1/3 [00:14<00:28, 14.12s/it]"
     ]
    },
    {
     "name": "stdout",
     "output_type": "stream",
     "text": [
      "Epoch 1/1\n",
      "648/648 [==============================] - 1s 2ms/step - loss: 0.0959\n",
      "Epoch 1/1\n",
      "648/648 [==============================] - 2s 3ms/step - loss: 0.1438\n",
      "Epoch 1/1\n",
      "648/648 [==============================] - 2s 2ms/step - loss: 0.1425\n",
      "Epoch 1/1\n",
      "648/648 [==============================] - 2s 3ms/step - loss: 0.1332\n",
      "Epoch 1/1\n",
      "648/648 [==============================] - 1s 2ms/step - loss: 0.1060\n",
      "Epoch 1/1\n",
      "648/648 [==============================] - 1s 2ms/step - loss: 0.1288\n",
      "Epoch 1/1\n",
      "648/648 [==============================] - 1s 2ms/step - loss: 0.1093\n",
      "Epoch 1/1\n",
      "648/648 [==============================] - 2s 2ms/step - loss: 0.1164\n",
      "Epoch 1/1\n",
      "648/648 [==============================] - 1s 2ms/step - loss: 0.0994\n",
      "Epoch 1/1\n",
      "648/648 [==============================] - 1s 2ms/step - loss: 0.1090\n"
     ]
    },
    {
     "name": "stderr",
     "output_type": "stream",
     "text": [
      "\r",
      "Learning Consumption Trends - Epoch:  67%|██████▋   | 2/3 [00:29<00:14, 14.72s/it]"
     ]
    },
    {
     "name": "stdout",
     "output_type": "stream",
     "text": [
      "Epoch 1/1\n",
      "648/648 [==============================] - 1s 2ms/step - loss: 0.0968\n",
      "Epoch 1/1\n",
      "648/648 [==============================] - 1s 2ms/step - loss: 0.1421\n",
      "Epoch 1/1\n",
      "648/648 [==============================] - 1s 2ms/step - loss: 0.1420\n",
      "Epoch 1/1\n",
      "648/648 [==============================] - 1s 2ms/step - loss: 0.1324\n",
      "Epoch 1/1\n",
      "648/648 [==============================] - 1s 2ms/step - loss: 0.1050\n",
      "Epoch 1/1\n",
      "648/648 [==============================] - 1s 2ms/step - loss: 0.1263\n",
      "Epoch 1/1\n",
      "648/648 [==============================] - 1s 2ms/step - loss: 0.1099\n",
      "Epoch 1/1\n",
      "648/648 [==============================] - 1s 2ms/step - loss: 0.1160\n",
      "Epoch 1/1\n",
      "648/648 [==============================] - 1s 2ms/step - loss: 0.1006\n",
      "Epoch 1/1\n",
      "648/648 [==============================] - 1s 2ms/step - loss: 0.1091\n"
     ]
    },
    {
     "name": "stderr",
     "output_type": "stream",
     "text": [
      "\r",
      "Learning Consumption Trends - Epoch: 100%|██████████| 3/3 [00:42<00:00, 14.11s/it]"
     ]
    },
    {
     "name": "stdout",
     "output_type": "stream",
     "text": [
      "CPU times: user 1min 1s, sys: 12 s, total: 1min 13s\n",
      "Wall time: 42.4 s\n"
     ]
    },
    {
     "name": "stderr",
     "output_type": "stream",
     "text": [
      "\n"
     ]
    }
   ],
   "source": [
    "%%time\n",
    "num_training_series = consumption_train.series_id.nunique()\n",
    "num_passes_through_data = 3\n",
    "\n",
    "for i in tqdm(range(num_passes_through_data), \n",
    "              total=num_passes_through_data, \n",
    "              desc='Learning Consumption Trends - Epoch'):\n",
    "    \n",
    "    # reset the LSTM state for training on each series\n",
    "    for ser_id, ser_data in consumption_train.groupby('series_id'):\n",
    "\n",
    "        # prepare the data\n",
    "        X, y, scaler = prepare_training_data(ser_data.consumption, lag)\n",
    "\n",
    "        # fit the model: note that we don't shuffle batches (it would ruin the sequence)\n",
    "        # and that we reset states only after an entire X has been fit, instead of after\n",
    "        # each (size 1) batch, as is the case when stateful=False\n",
    "        model.fit(X, y, epochs=1, batch_size=batch_size, verbose=1, shuffle=False)\n",
    "        model.reset_states()"
   ]
  },
  {
   "cell_type": "code",
   "execution_count": 115,
   "metadata": {},
   "outputs": [
    {
     "name": "stderr",
     "output_type": "stream",
     "text": [
      "Forecasting from Cold Start Data: 100%|██████████| 625/625 [05:53<00:00,  1.77it/s]"
     ]
    },
    {
     "name": "stdout",
     "output_type": "stream",
     "text": [
      "CPU times: user 7min 17s, sys: 1min 2s, total: 8min 19s\n",
      "Wall time: 5min 53s\n"
     ]
    },
    {
     "name": "stderr",
     "output_type": "stream",
     "text": [
      "\n"
     ]
    }
   ],
   "source": [
    "%%time\n",
    "pred_window_to_num_preds = {'hourly': 24, 'daily': 7, 'weekly': 2}\n",
    "pred_window_to_num_pred_hours = {'hourly': 24, 'daily': 7 * 24, 'weekly': 2 * 7 * 24}\n",
    "\n",
    "num_test_series = my_submission.series_id.nunique()\n",
    "\n",
    "model.reset_states()\n",
    "\n",
    "for ser_id, pred_df in tqdm(my_submission.groupby('series_id'), \n",
    "                            total=num_test_series, \n",
    "                            desc=\"Forecasting from Cold Start Data\"):\n",
    "        \n",
    "    # get info about this series' prediction window\n",
    "    pred_window = pred_df.prediction_window.unique()[0]\n",
    "    num_preds = pred_window_to_num_preds[pred_window]\n",
    "    num_pred_hours = pred_window_to_num_pred_hours[pred_window]\n",
    "    \n",
    "    # prepare cold start data\n",
    "    series_data = consumption_test[consumption_test.series_id == ser_id].consumption\n",
    "    cold_X, cold_y, scaler = prepare_training_data(series_data, lag)\n",
    "    \n",
    "    # fine tune our lstm model to this site using cold start data    \n",
    "    model.fit(cold_X, cold_y, epochs=1, batch_size=batch_size, verbose=0, shuffle=False)\n",
    "    \n",
    "    # make hourly forecasts for duration of pred window\n",
    "    preds = generate_hourly_forecast(num_pred_hours, series_data, model, scaler, lag)\n",
    "    \n",
    "    # reduce by taking sum over each sub window in pred window\n",
    "    reduced_preds = [pred.sum() for pred in np.split(preds, num_preds)]\n",
    "    \n",
    "    # store result in submission DataFrame\n",
    "    ser_id_mask = my_submission.series_id == ser_id\n",
    "    my_submission.loc[ser_id_mask, 'consumption'] = reduced_preds"
   ]
  },
  {
   "cell_type": "code",
   "execution_count": null,
   "metadata": {},
   "outputs": [],
   "source": []
  },
  {
   "cell_type": "code",
   "execution_count": null,
   "metadata": {},
   "outputs": [],
   "source": []
  },
  {
   "cell_type": "code",
   "execution_count": null,
   "metadata": {},
   "outputs": [],
   "source": []
  },
  {
   "cell_type": "code",
   "execution_count": null,
   "metadata": {},
   "outputs": [],
   "source": []
  }
 ],
 "metadata": {
  "kernelspec": {
   "display_name": "Environment (conda_tensorflow_p36)",
   "language": "python",
   "name": "conda_tensorflow_p36"
  },
  "language_info": {
   "codemirror_mode": {
    "name": "ipython",
    "version": 3
   },
   "file_extension": ".py",
   "mimetype": "text/x-python",
   "name": "python",
   "nbconvert_exporter": "python",
   "pygments_lexer": "ipython3",
   "version": "3.6.5"
  }
 },
 "nbformat": 4,
 "nbformat_minor": 2
}
